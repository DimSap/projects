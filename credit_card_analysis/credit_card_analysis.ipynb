{
 "cells": [
  {
   "cell_type": "code",
   "execution_count": 1,
   "metadata": {},
   "outputs": [],
   "source": [
    "import pandas as pd\n",
    "import numpy as np\n",
    "import matplotlib.pyplot as plt\n",
    "import seaborn as sbn\n",
    "from scipy import stats\n",
    "import scipy\n",
    "sbn.set_style('darkgrid')"
   ]
  },
  {
   "cell_type": "code",
   "execution_count": 2,
   "metadata": {},
   "outputs": [
    {
     "data": {
      "text/html": [
       "<div>\n",
       "<style scoped>\n",
       "    .dataframe tbody tr th:only-of-type {\n",
       "        vertical-align: middle;\n",
       "    }\n",
       "\n",
       "    .dataframe tbody tr th {\n",
       "        vertical-align: top;\n",
       "    }\n",
       "\n",
       "    .dataframe thead th {\n",
       "        text-align: right;\n",
       "    }\n",
       "</style>\n",
       "<table border=\"1\" class=\"dataframe\">\n",
       "  <thead>\n",
       "    <tr style=\"text-align: right;\">\n",
       "      <th></th>\n",
       "      <th>ID</th>\n",
       "      <th>LIMIT_BAL</th>\n",
       "      <th>SEX</th>\n",
       "      <th>EDUCATION</th>\n",
       "      <th>MARRIAGE</th>\n",
       "      <th>AGE</th>\n",
       "      <th>PAY_0</th>\n",
       "      <th>PAY_2</th>\n",
       "      <th>PAY_3</th>\n",
       "      <th>PAY_4</th>\n",
       "      <th>...</th>\n",
       "      <th>BILL_AMT4</th>\n",
       "      <th>BILL_AMT5</th>\n",
       "      <th>BILL_AMT6</th>\n",
       "      <th>PAY_AMT1</th>\n",
       "      <th>PAY_AMT2</th>\n",
       "      <th>PAY_AMT3</th>\n",
       "      <th>PAY_AMT4</th>\n",
       "      <th>PAY_AMT5</th>\n",
       "      <th>PAY_AMT6</th>\n",
       "      <th>default</th>\n",
       "    </tr>\n",
       "  </thead>\n",
       "  <tbody>\n",
       "    <tr>\n",
       "      <th>0</th>\n",
       "      <td>1</td>\n",
       "      <td>20000</td>\n",
       "      <td>2</td>\n",
       "      <td>2</td>\n",
       "      <td>1</td>\n",
       "      <td>24</td>\n",
       "      <td>2</td>\n",
       "      <td>2</td>\n",
       "      <td>0</td>\n",
       "      <td>0</td>\n",
       "      <td>...</td>\n",
       "      <td>0</td>\n",
       "      <td>0</td>\n",
       "      <td>0</td>\n",
       "      <td>0</td>\n",
       "      <td>689</td>\n",
       "      <td>0</td>\n",
       "      <td>0</td>\n",
       "      <td>0</td>\n",
       "      <td>0</td>\n",
       "      <td>1</td>\n",
       "    </tr>\n",
       "    <tr>\n",
       "      <th>1</th>\n",
       "      <td>2</td>\n",
       "      <td>120000</td>\n",
       "      <td>2</td>\n",
       "      <td>2</td>\n",
       "      <td>2</td>\n",
       "      <td>26</td>\n",
       "      <td>0</td>\n",
       "      <td>2</td>\n",
       "      <td>0</td>\n",
       "      <td>0</td>\n",
       "      <td>...</td>\n",
       "      <td>3272</td>\n",
       "      <td>3455</td>\n",
       "      <td>3261</td>\n",
       "      <td>0</td>\n",
       "      <td>1000</td>\n",
       "      <td>1000</td>\n",
       "      <td>1000</td>\n",
       "      <td>0</td>\n",
       "      <td>2000</td>\n",
       "      <td>1</td>\n",
       "    </tr>\n",
       "    <tr>\n",
       "      <th>2</th>\n",
       "      <td>3</td>\n",
       "      <td>90000</td>\n",
       "      <td>2</td>\n",
       "      <td>2</td>\n",
       "      <td>2</td>\n",
       "      <td>34</td>\n",
       "      <td>0</td>\n",
       "      <td>0</td>\n",
       "      <td>0</td>\n",
       "      <td>0</td>\n",
       "      <td>...</td>\n",
       "      <td>14331</td>\n",
       "      <td>14948</td>\n",
       "      <td>15549</td>\n",
       "      <td>1518</td>\n",
       "      <td>1500</td>\n",
       "      <td>1000</td>\n",
       "      <td>1000</td>\n",
       "      <td>1000</td>\n",
       "      <td>5000</td>\n",
       "      <td>0</td>\n",
       "    </tr>\n",
       "    <tr>\n",
       "      <th>3</th>\n",
       "      <td>4</td>\n",
       "      <td>50000</td>\n",
       "      <td>2</td>\n",
       "      <td>2</td>\n",
       "      <td>1</td>\n",
       "      <td>37</td>\n",
       "      <td>0</td>\n",
       "      <td>0</td>\n",
       "      <td>0</td>\n",
       "      <td>0</td>\n",
       "      <td>...</td>\n",
       "      <td>28314</td>\n",
       "      <td>28959</td>\n",
       "      <td>29547</td>\n",
       "      <td>2000</td>\n",
       "      <td>2019</td>\n",
       "      <td>1200</td>\n",
       "      <td>1100</td>\n",
       "      <td>1069</td>\n",
       "      <td>1000</td>\n",
       "      <td>0</td>\n",
       "    </tr>\n",
       "    <tr>\n",
       "      <th>4</th>\n",
       "      <td>5</td>\n",
       "      <td>50000</td>\n",
       "      <td>1</td>\n",
       "      <td>2</td>\n",
       "      <td>1</td>\n",
       "      <td>57</td>\n",
       "      <td>0</td>\n",
       "      <td>0</td>\n",
       "      <td>0</td>\n",
       "      <td>0</td>\n",
       "      <td>...</td>\n",
       "      <td>20940</td>\n",
       "      <td>19146</td>\n",
       "      <td>19131</td>\n",
       "      <td>2000</td>\n",
       "      <td>36681</td>\n",
       "      <td>10000</td>\n",
       "      <td>9000</td>\n",
       "      <td>689</td>\n",
       "      <td>679</td>\n",
       "      <td>0</td>\n",
       "    </tr>\n",
       "  </tbody>\n",
       "</table>\n",
       "<p>5 rows × 25 columns</p>\n",
       "</div>"
      ],
      "text/plain": [
       "   ID  LIMIT_BAL  SEX  EDUCATION  MARRIAGE  AGE  PAY_0  PAY_2  PAY_3  PAY_4  \\\n",
       "0   1      20000    2          2         1   24      2      2      0      0   \n",
       "1   2     120000    2          2         2   26      0      2      0      0   \n",
       "2   3      90000    2          2         2   34      0      0      0      0   \n",
       "3   4      50000    2          2         1   37      0      0      0      0   \n",
       "4   5      50000    1          2         1   57      0      0      0      0   \n",
       "\n",
       "   ...  BILL_AMT4  BILL_AMT5  BILL_AMT6  PAY_AMT1  PAY_AMT2  PAY_AMT3  \\\n",
       "0  ...          0          0          0         0       689         0   \n",
       "1  ...       3272       3455       3261         0      1000      1000   \n",
       "2  ...      14331      14948      15549      1518      1500      1000   \n",
       "3  ...      28314      28959      29547      2000      2019      1200   \n",
       "4  ...      20940      19146      19131      2000     36681     10000   \n",
       "\n",
       "   PAY_AMT4  PAY_AMT5  PAY_AMT6  default  \n",
       "0         0         0         0        1  \n",
       "1      1000         0      2000        1  \n",
       "2      1000      1000      5000        0  \n",
       "3      1100      1069      1000        0  \n",
       "4      9000       689       679        0  \n",
       "\n",
       "[5 rows x 25 columns]"
      ]
     },
     "execution_count": 2,
     "metadata": {},
     "output_type": "execute_result"
    }
   ],
   "source": [
    "data = pd.read_csv('credit_card_default_analysis.csv')\n",
    "data.head()"
   ]
  },
  {
   "cell_type": "markdown",
   "metadata": {},
   "source": [
    "Создадим два DF: \n",
    "1. Люди, вернувшие кредит\n",
    "2. Люде, креди не вернувшие\n",
    "\n"
   ]
  },
  {
   "cell_type": "code",
   "execution_count": 3,
   "metadata": {},
   "outputs": [],
   "source": [
    "credit_returned = data.query('default == 0')\n",
    "credit_not_returned = data.query('default ==1')"
   ]
  },
  {
   "cell_type": "markdown",
   "metadata": {},
   "source": [
    "## 1) Влияние Limit Bal "
   ]
  },
  {
   "cell_type": "markdown",
   "metadata": {},
   "source": [
    "Посмотрим на распределения "
   ]
  },
  {
   "cell_type": "code",
   "execution_count": 4,
   "metadata": {},
   "outputs": [
    {
     "data": {
      "image/png": "[encoded data removed]",
      "text/plain": [
       "<Figure size 864x360 with 2 Axes>"
      ]
     },
     "metadata": {},
     "output_type": "display_data"
    }
   ],
   "source": [
    "fig, axis = plt.subplots(1 , 2, figsize = (12,5), sharex = True)\n",
    "\n",
    "axis[0].set_title('default = 0')\n",
    "axis[0].set_xlabel('LIMIT_BAL')\n",
    "credit_returned.LIMIT_BAL.hist(bins = 30, ax = axis[0])\n",
    "\n",
    "axis[1].set_title('default = 1')\n",
    "axis[1].set_xlabel('LIMIT_BAL')\n",
    "credit_not_returned.LIMIT_BAL.hist(bins = 30, ax = axis[1]);"
   ]
  },
  {
   "cell_type": "markdown",
   "metadata": {},
   "source": [
    "Видим, что распределения похожи, однако есть некоторые различия.  \n",
    "Например, основаая масса заемщиков вернувших кредит имеет Limit bal меньше 200 000, тогда как люди не вернувшие кредит в основном имеют Limit bal меньше 100 000"
   ]
  },
  {
   "cell_type": "markdown",
   "metadata": {},
   "source": [
    "#### 1.1 проверим гипотезу о равенстве медианных значений кредитного лимита"
   ]
  },
  {
   "cell_type": "markdown",
   "metadata": {},
   "source": [
    "Посмтрим на медианы двух расперделений"
   ]
  },
  {
   "cell_type": "code",
   "execution_count": 5,
   "metadata": {},
   "outputs": [
    {
     "name": "stdout",
     "output_type": "stream",
     "text": [
      " median default-0 =  150000.0 \n",
      " median default-1 =  90000.0\n"
     ]
    }
   ],
   "source": [
    "print(' median default-0 = ', credit_returned.LIMIT_BAL.median(), '\\n'\n",
    "      ,'median default-1 = ', credit_not_returned.LIMIT_BAL.median())"
   ]
  },
  {
   "cell_type": "markdown",
   "metadata": {},
   "source": [
    "Посмотрим на интервальные оценки медиан двух распределений с помощью бутстрепа.  \n",
    "Зададим функции для получения бутстреп-выборок и для получения доверительного интервала"
   ]
  },
  {
   "cell_type": "code",
   "execution_count": 6,
   "metadata": {},
   "outputs": [],
   "source": [
    "def get_bootstrap_samples(data, n_samples):\n",
    "    indices = np.random.randint(0, len(data), (n_samples, len(data)))\n",
    "    samples = data[indices]\n",
    "    return samples"
   ]
  },
  {
   "cell_type": "code",
   "execution_count": 7,
   "metadata": {},
   "outputs": [],
   "source": [
    "def stat_intervals(stat, alpha):\n",
    "    boundaries = np.percentile(stat, [100 * alpha / 2., 100 * (1 - alpha / 2.)])\n",
    "    return boundaries"
   ]
  },
  {
   "cell_type": "code",
   "execution_count": 8,
   "metadata": {},
   "outputs": [],
   "source": [
    "LIMIT_BAL_bootstrap_samples_returned = get_bootstrap_samples(credit_returned.LIMIT_BAL.values, 1000)\n",
    "LIMIT_BAL_bootstrap_samples_not_returned = get_bootstrap_samples(credit_not_returned.LIMIT_BAL.values, 1000)"
   ]
  },
  {
   "cell_type": "code",
   "execution_count": 9,
   "metadata": {},
   "outputs": [],
   "source": [
    "LIMIT_BAL_medians_returned = [np.median(x) for x in LIMIT_BAL_bootstrap_samples_returned]\n",
    "LIMIT_BAL_medians_not_returned = [np.median(x) for x in LIMIT_BAL_bootstrap_samples_not_returned]"
   ]
  },
  {
   "cell_type": "markdown",
   "metadata": {},
   "source": [
    "посмотрим на полученные из выборок медианы"
   ]
  },
  {
   "cell_type": "code",
   "execution_count": 10,
   "metadata": {},
   "outputs": [
    {
     "data": {
      "image/png": "[encoded data removed]",
      "text/plain": [
       "<Figure size 864x360 with 2 Axes>"
      ]
     },
     "metadata": {},
     "output_type": "display_data"
    }
   ],
   "source": [
    "fig, axis = plt.subplots(1 , 2, figsize = (12,5))\n",
    "\n",
    "\n",
    "axis[0].set_title('default = 0')\n",
    "axis[0].set_xlabel('LIMIT_BAL_medians')\n",
    "axis[0].hist(LIMIT_BAL_medians_returned, bins = 5);\n",
    "\n",
    "axis[1].set_title('default = 1')\n",
    "axis[1].set_xlabel('LIMIT_BAL_medians')\n",
    "axis[1].hist(LIMIT_BAL_medians_not_returned, bins = 5);"
   ]
  },
  {
   "cell_type": "markdown",
   "metadata": {},
   "source": [
    "Почти все выборочные медианы для default-0 получились одинаковыми"
   ]
  },
  {
   "cell_type": "markdown",
   "metadata": {},
   "source": [
    "Посмотрим на 95% доверительные интервалы для полученных медиан в двух группах"
   ]
  },
  {
   "cell_type": "code",
   "execution_count": 11,
   "metadata": {},
   "outputs": [
    {
     "name": "stdout",
     "output_type": "stream",
     "text": [
      "95% доверительный интервал для медианы LIMIT BAL клиентов вернуших кредит [150000. 150000.]\n",
      "95% доверительный интервал для медианы LIMIT BAL клиентов не вернуших кредит [80000. 90000.]\n"
     ]
    }
   ],
   "source": [
    "print('95% доверительный интервал для медианы LIMIT BAL клиентов вернуших кредит',\n",
    "      stat_intervals(LIMIT_BAL_medians_returned, 0.05))\n",
    "      \n",
    "print('95% доверительный интервал для медианы LIMIT BAL клиентов не вернуших кредит',\n",
    "      stat_intervals(LIMIT_BAL_medians_not_returned, 0.05))"
   ]
  },
  {
   "cell_type": "markdown",
   "metadata": {},
   "source": [
    "Видим, что доверительные интервалы не пересекаются  \n",
    "\n",
    "Посмотрим на доверительный интервал разности медиан"
   ]
  },
  {
   "cell_type": "code",
   "execution_count": 12,
   "metadata": {},
   "outputs": [],
   "source": [
    "LIMIT_BAL_delta_median = [x[0] - x[1] for x in zip(LIMIT_BAL_medians_returned, LIMIT_BAL_medians_not_returned)]"
   ]
  },
  {
   "cell_type": "code",
   "execution_count": 13,
   "metadata": {},
   "outputs": [
    {
     "name": "stdout",
     "output_type": "stream",
     "text": [
      "95% доверительный интервал для разности медиан LIMIT BAL клиентов  вернувших и не вернуших кредит [60000. 70000.]\n"
     ]
    }
   ],
   "source": [
    "print('95% доверительный интервал для разности медиан LIMIT BAL клиентов  вернувших и не вернуших кредит',\n",
    "      stat_intervals(LIMIT_BAL_delta_median, 0.05))"
   ]
  },
  {
   "cell_type": "markdown",
   "metadata": {},
   "source": [
    "##### Доверительный интервал разности не пересекает 0, значит можно сделать вывод, что медианные значения кредитного лимита __не__ равны."
   ]
  },
  {
   "cell_type": "markdown",
   "metadata": {},
   "source": [
    "#### 1.2 Проверим гипотизу о равенстве распределений с помощью перестановочного критерия."
   ]
  },
  {
   "cell_type": "markdown",
   "metadata": {},
   "source": [
    "Напишем функции для проверки гипотез перестановочным критерием"
   ]
  },
  {
   "cell_type": "code",
   "execution_count": 14,
   "metadata": {},
   "outputs": [],
   "source": [
    "def permutation_t_stat_ind(sample1, sample2):\n",
    "    return np.mean(sample1) - np.mean(sample2)"
   ]
  },
  {
   "cell_type": "code",
   "execution_count": 15,
   "metadata": {},
   "outputs": [],
   "source": [
    "def get_random_combinations(n1, n2, max_combinations):\n",
    "    index = np.arange(n1 + n2)\n",
    "    indices = set([tuple(index)])\n",
    "    for i in range(max_combinations - 1):\n",
    "        np.random.shuffle(index)\n",
    "        indices.add(tuple(index))\n",
    "    return [(index[:n1], index[n1:]) for index in indices]"
   ]
  },
  {
   "cell_type": "code",
   "execution_count": 16,
   "metadata": {},
   "outputs": [],
   "source": [
    "def permutation_zero_dist_ind(sample1, sample2, max_combinations = None):\n",
    "    joined_sample = np.hstack((sample1, sample2))\n",
    "    n1 = len(sample1)\n",
    "    n = len(joined_sample)\n",
    "    \n",
    "    if max_combinations:\n",
    "        indices = get_random_combinations(n1, len(sample2), max_combinations)\n",
    "    else:\n",
    "        indices = [(list(index), filter(lambda i: i not in index, range(n))) \\\n",
    "                    for index in itertools.combinations(range(n), n1)]\n",
    "    \n",
    "    distr = [joined_sample[list(i[0])].mean() - joined_sample[list(i[1])].mean() \\\n",
    "             for i in indices]\n",
    "    return distr"
   ]
  },
  {
   "cell_type": "code",
   "execution_count": 17,
   "metadata": {},
   "outputs": [],
   "source": [
    "def permutation_test(sample1, sample2, max_permutations = None, alternative = 'two-sided'):\n",
    "    if alternative not in ('two-sided', 'less', 'greater'):\n",
    "        raise ValueError(\"alternative not recognized\\n\"\n",
    "                         \"should be 'two-sided', 'less' or 'greater'\")\n",
    "    \n",
    "    t_stat = permutation_t_stat_ind(sample1, sample2)\n",
    "    \n",
    "    zero_distr = permutation_zero_dist_ind(sample1, sample2, max_permutations)\n",
    "    \n",
    "    if alternative == 'two-sided':\n",
    "        return sum([1. if abs(x) >= abs(t_stat) else 0. for x in zero_distr]) / len(zero_distr)\n",
    "    \n",
    "    if alternative == 'less':\n",
    "        return sum([1. if x <= t_stat else 0. for x in zero_distr]) / len(zero_distr)\n",
    "\n",
    "    if alternative == 'greater':\n",
    "        return sum([1. if x >= t_stat else 0. for x in zero_distr]) / len(zero_distr)"
   ]
  },
  {
   "cell_type": "markdown",
   "metadata": {},
   "source": [
    "Будем проверять гипотезу H0 о равенстве распределений Limit bal клиентов вернувших кредит и не вернувших против двухсторонней альтернативы H1 о сдвиге между распределениями.\n"
   ]
  },
  {
   "cell_type": "markdown",
   "metadata": {},
   "source": [
    "Посмотрим на нулевое распределение"
   ]
  },
  {
   "cell_type": "code",
   "execution_count": 18,
   "metadata": {},
   "outputs": [
    {
     "data": {
      "image/png": "[encoded data removed]",
      "text/plain": [
       "<Figure size 432x288 with 1 Axes>"
      ]
     },
     "metadata": {},
     "output_type": "display_data"
    }
   ],
   "source": [
    "plt.hist(permutation_zero_dist_ind(credit_returned.LIMIT_BAL.values,\n",
    "                                   credit_not_returned.LIMIT_BAL.values, 1000)\n",
    "         ,bins = 100);"
   ]
  },
  {
   "cell_type": "markdown",
   "metadata": {},
   "source": [
    "Видим странное значение статистики около 50 000. Распределение не симметричное."
   ]
  },
  {
   "cell_type": "markdown",
   "metadata": {},
   "source": [
    "Получим достигаемый уровень значимости "
   ]
  },
  {
   "cell_type": "code",
   "execution_count": 19,
   "metadata": {},
   "outputs": [
    {
     "name": "stdout",
     "output_type": "stream",
     "text": [
      "достигаемый уровень значимости равен  =  0.001\n"
     ]
    }
   ],
   "source": [
    "print('достигаемый уровень значимости равен  = ',\n",
    "      permutation_test(credit_returned.LIMIT_BAL.values, credit_not_returned.LIMIT_BAL.values,\n",
    "                 1000 , alternative = 'two-sided'))"
   ]
  },
  {
   "cell_type": "markdown",
   "metadata": {},
   "source": [
    "#### Таким образом, гепотеза о равенстве двух распределений отвергается на уровне значимости 0.05"
   ]
  },
  {
   "cell_type": "markdown",
   "metadata": {},
   "source": [
    "Размер эффекта найдем как разность медиан "
   ]
  },
  {
   "cell_type": "code",
   "execution_count": 20,
   "metadata": {},
   "outputs": [],
   "source": [
    "effect_size = credit_returned.LIMIT_BAL.median() - credit_not_returned.LIMIT_BAL.median()"
   ]
  },
  {
   "cell_type": "code",
   "execution_count": 21,
   "metadata": {},
   "outputs": [
    {
     "name": "stdout",
     "output_type": "stream",
     "text": [
      "размер эффекта состовляет 60000.0\n"
     ]
    }
   ],
   "source": [
    "print('размер эффекта состовляет', effect_size)"
   ]
  },
  {
   "cell_type": "markdown",
   "metadata": {},
   "source": [
    "Таким образом, клиенты не возвращающие кредит в седнем имеют кредитный лемит на 60 000 меньше. Это весомая сумма и на основание кредитного лимита можно делать базовые предположения о возврате или не возврате кредита."
   ]
  },
  {
   "cell_type": "markdown",
   "metadata": {},
   "source": [
    "# 2)  Проверьим гипотезу о том, что гендерный состав группы людей вернувших и не вернувших кредит отличается"
   ]
  },
  {
   "cell_type": "markdown",
   "metadata": {},
   "source": [
    "Посмотрим на распределение полов в двух группах."
   ]
  },
  {
   "cell_type": "code",
   "execution_count": 22,
   "metadata": {},
   "outputs": [
    {
     "data": {
      "text/plain": [
       "<matplotlib.axes._subplots.AxesSubplot at 0x7f69e80be730>"
      ]
     },
     "execution_count": 22,
     "metadata": {},
     "output_type": "execute_result"
    },
    {
     "data": {
      "image/png": "[encoded data removed]",
      "text/plain": [
       "<Figure size 864x360 with 2 Axes>"
      ]
     },
     "metadata": {},
     "output_type": "display_data"
    }
   ],
   "source": [
    "fig, axis = plt.subplots(1 , 2, figsize = (12,5))\n",
    "\n",
    "axis[0].set_title('default = 0')\n",
    "credit_returned.SEX. \\\n",
    "                map({1:'male',2:'female'}). \\\n",
    "                value_counts(). \\\n",
    "                plot(kind = 'bar', ax = axis[0])\n",
    "\n",
    "axis[1].set_title('default = 1')\n",
    "credit_not_returned.SEX. \\\n",
    "                map({1:'male',2:'female'}). \\\n",
    "                value_counts(). \\\n",
    "                plot(kind = 'bar', ax = axis[1])"
   ]
  },
  {
   "cell_type": "markdown",
   "metadata": {},
   "source": [
    "Видим, визульно доли мужчин и женщин в двух группах приблизительно равны.  \n",
    "Проверим это с помощью Z-критерия для доли для двух независимых выборок.  \n",
    "Проверим нулевую гипотезу H0 о равенстве долей мужчин и женщин в двух группах против двухсторонней альтернативы.  \n",
    "\n",
    "Также посмотрим на доверительный интервал для разности долей."
   ]
  },
  {
   "cell_type": "markdown",
   "metadata": {},
   "source": [
    "Функции для вычисления p-value и доверительного интервала."
   ]
  },
  {
   "cell_type": "code",
   "execution_count": 23,
   "metadata": {},
   "outputs": [],
   "source": [
    "def proportions_diff_confint_ind(sample1, sample2, alpha = 0.05):    \n",
    "    z = scipy.stats.norm.ppf(1 - alpha / 2.)\n",
    "    \n",
    "    p1 = float(sum(sample1)) / len(sample1)\n",
    "    p2 = float(sum(sample2)) / len(sample2)\n",
    "    \n",
    "    left_boundary = (p1 - p2) - z * np.sqrt(p1 * (1 - p1)/ len(sample1) + p2 * (1 - p2)/ len(sample2))\n",
    "    right_boundary = (p1 - p2) + z * np.sqrt(p1 * (1 - p1)/ len(sample1) + p2 * (1 - p2)/ len(sample2))\n",
    "    \n",
    "    return (left_boundary, right_boundary)"
   ]
  },
  {
   "cell_type": "code",
   "execution_count": 24,
   "metadata": {},
   "outputs": [],
   "source": [
    "def proportions_diff_z_stat_ind(sample1, sample2):\n",
    "    n1 = len(sample1)\n",
    "    n2 = len(sample2)\n",
    "    \n",
    "    p1 = float(sum(sample1)) / n1\n",
    "    p2 = float(sum(sample2)) / n2 \n",
    "    P = float(p1*n1 + p2*n2) / (n1 + n2)\n",
    "    \n",
    "    return (p1 - p2) / np.sqrt(P * (1 - P) * (1. / n1 + 1. / n2))"
   ]
  },
  {
   "cell_type": "code",
   "execution_count": 25,
   "metadata": {},
   "outputs": [],
   "source": [
    "def proportions_diff_z_test(z_stat, alternative = 'two-sided'):\n",
    "    if alternative not in ('two-sided', 'less', 'greater'):\n",
    "        raise ValueError(\"alternative not recognized\\n\"\n",
    "                         \"should be 'two-sided', 'less' or 'greater'\")\n",
    "    \n",
    "    if alternative == 'two-sided':\n",
    "        return 2 * (1 - scipy.stats.norm.cdf(np.abs(z_stat)))\n",
    "    \n",
    "    if alternative == 'less':\n",
    "        return scipy.stats.norm.cdf(z_stat)\n",
    "\n",
    "    if alternative == 'greater':\n",
    "        return 1 - scipy.stats.norm.cdf(z_stat)"
   ]
  },
  {
   "cell_type": "markdown",
   "metadata": {},
   "source": [
    "Для удобства напишем функцию, которая переводит метки классов из  \n",
    "1 - мужчина, 2- женщина __=>__\n",
    "0 - мужчина, 1- женщина\n",
    "\n"
   ]
  },
  {
   "cell_type": "code",
   "execution_count": 26,
   "metadata": {},
   "outputs": [
    {
     "name": "stderr",
     "output_type": "stream",
     "text": [
      "<ipython-input-26-a0cf57cdcb2d>:1: SettingWithCopyWarning: \n",
      "A value is trying to be set on a copy of a slice from a DataFrame.\n",
      "Try using .loc[row_indexer,col_indexer] = value instead\n",
      "\n",
      "See the caveats in the documentation: https://pandas.pydata.org/pandas-docs/stable/user_guide/indexing.html#returning-a-view-versus-a-copy\n",
      "  credit_returned['SEX'] = credit_returned.SEX.map({1 : 0, 2 : 1})\n",
      "<ipython-input-26-a0cf57cdcb2d>:2: SettingWithCopyWarning: \n",
      "A value is trying to be set on a copy of a slice from a DataFrame.\n",
      "Try using .loc[row_indexer,col_indexer] = value instead\n",
      "\n",
      "See the caveats in the documentation: https://pandas.pydata.org/pandas-docs/stable/user_guide/indexing.html#returning-a-view-versus-a-copy\n",
      "  credit_not_returned['SEX'] = credit_not_returned.SEX.map({1 : 0, 2 : 1})\n"
     ]
    }
   ],
   "source": [
    "credit_returned['SEX'] = credit_returned.SEX.map({1 : 0, 2 : 1})\n",
    "credit_not_returned['SEX'] = credit_not_returned.SEX.map({1 : 0, 2 : 1})"
   ]
  },
  {
   "cell_type": "markdown",
   "metadata": {},
   "source": [
    "Посмотрим на доверительный интервал для разности двух долей"
   ]
  },
  {
   "cell_type": "code",
   "execution_count": 27,
   "metadata": {},
   "outputs": [
    {
     "name": "stdout",
     "output_type": "stream",
     "text": [
      "95% доверительный интервал для разности долей  (0.03363493274962867, 0.060548077974896725)\n"
     ]
    }
   ],
   "source": [
    "print('95% доверительный интервал для разности долей ',\n",
    "      proportions_diff_confint_ind(credit_returned.SEX.values, credit_not_returned.SEX.values, 0.05))"
   ]
  },
  {
   "cell_type": "markdown",
   "metadata": {},
   "source": [
    "Видим, что инетрвал не содержит 0, а значит можно сделать вывод о том, что гендерный состав среди клиентов банка вернувших кредит и не вернувших кредит отличается."
   ]
  },
  {
   "cell_type": "markdown",
   "metadata": {},
   "source": [
    "Найдем z-статистику а затем p-value"
   ]
  },
  {
   "cell_type": "code",
   "execution_count": 28,
   "metadata": {},
   "outputs": [
    {
     "name": "stdout",
     "output_type": "stream",
     "text": [
      "достигаемый уровень значимости равен  =  4.472866521609831e-12\n"
     ]
    }
   ],
   "source": [
    "z_stat_SEX = proportions_diff_z_stat_ind(credit_returned.SEX.values, credit_not_returned.SEX.values)\n",
    "print('достигаемый уровень значимости равен  = ',proportions_diff_z_test(z_stat_SEX))"
   ]
  },
  {
   "cell_type": "markdown",
   "metadata": {},
   "source": [
    "#### Таким образом, нулевая гипотиза о равенстве долей отвергается в пользу двухсторонней альтернативы на уровне значимости 0.05"
   ]
  },
  {
   "cell_type": "markdown",
   "metadata": {},
   "source": [
    "Найдем размер эффекта как разность долей женщин среди клиентов вернувших и не вернувших кредит"
   ]
  },
  {
   "cell_type": "code",
   "execution_count": 29,
   "metadata": {},
   "outputs": [
    {
     "name": "stdout",
     "output_type": "stream",
     "text": [
      "размер эффекта = 0.0470915053622627\n"
     ]
    }
   ],
   "source": [
    "p_1 = credit_returned.SEX.sum()/credit_returned.shape[0]\n",
    "p_2 = credit_not_returned.SEX.sum()/credit_not_returned.shape[0]\n",
    "effect_size = p_1 - p_2\n",
    "print('размер эффекта =', effect_size)"
   ]
  },
  {
   "cell_type": "markdown",
   "metadata": {},
   "source": [
    "Видим, что доля мужчин среди клиентов вернувших кредит приблизительно на 5% больше чем доли мужчин не вернувших кредит.\n",
    "Сложно судить о практической значимости такого результата, однако можно утверждать, что статистически он значим."
   ]
  },
  {
   "cell_type": "markdown",
   "metadata": {},
   "source": [
    "# 3) Проверим гипотезу о том, что образование не влияет на то, вернет ли человек долг"
   ]
  },
  {
   "cell_type": "markdown",
   "metadata": {},
   "source": [
    "Построим на гистограммы "
   ]
  },
  {
   "cell_type": "code",
   "execution_count": 30,
   "metadata": {},
   "outputs": [
    {
     "data": {
      "text/plain": [
       "<matplotlib.axes._subplots.AxesSubplot at 0x7f69e80492b0>"
      ]
     },
     "execution_count": 30,
     "metadata": {},
     "output_type": "execute_result"
    },
    {
     "data": {
      "image/png": "[encoded data removed]",
      "text/plain": [
       "<Figure size 864x360 with 2 Axes>"
      ]
     },
     "metadata": {},
     "output_type": "display_data"
    }
   ],
   "source": [
    "fig, axis = plt.subplots(1 , 2, figsize = (12,5))\n",
    "\n",
    "axis[0].set_title('default = 0')\n",
    "axis[0].set_xlabel('EDUCATION')\n",
    "\n",
    "credit_returned.EDUCATION. \\\n",
    "                map({0 : 'доктор', 1 : 'магистр', 2 : 'бакалавр', 3 : 'выпускник школы',\n",
    "                     4 : 'начальное образование', 5 : 'прочее', 6 : 'нет данных'}). \\\n",
    "                value_counts(). \\\n",
    "                plot(kind = 'bar', ax = axis[0])\n",
    "\n",
    "\n",
    "credit_returned.EDUCATION.hist(ax = axis[0]);\n",
    "\n",
    "axis[1].set_title('default = 0')\n",
    "axis[1].set_xlabel('EDUCATION'),\n",
    "credit_not_returned.EDUCATION. \\\n",
    "                map({0 : 'доктор', 1 : 'магистр', 2 : 'бакалавр', 3 : 'выпускник школы',\n",
    "                     4 : 'начальное образование', 5 : 'прочее', 6 : 'нет данных'}). \\\n",
    "                value_counts(). \\\n",
    "                plot(kind = 'bar', ax = axis[1])"
   ]
  },
  {
   "cell_type": "markdown",
   "metadata": {},
   "source": [
    "видим, что распределения в целом похожи, однако есть некоторые различия. Например, отсутствие среди не вернувших кредит людей с образованием 0 - доктор, а также меньшую долю людей с образованием 1 - магистр"
   ]
  },
  {
   "cell_type": "markdown",
   "metadata": {},
   "source": [
    "Соберем таблицу сопряженности образование\" на \"возврат долга\""
   ]
  },
  {
   "cell_type": "code",
   "execution_count": 31,
   "metadata": {},
   "outputs": [
    {
     "data": {
      "text/html": [
       "<div>\n",
       "<style scoped>\n",
       "    .dataframe tbody tr th:only-of-type {\n",
       "        vertical-align: middle;\n",
       "    }\n",
       "\n",
       "    .dataframe tbody tr th {\n",
       "        vertical-align: top;\n",
       "    }\n",
       "\n",
       "    .dataframe thead th {\n",
       "        text-align: right;\n",
       "    }\n",
       "</style>\n",
       "<table border=\"1\" class=\"dataframe\">\n",
       "  <thead>\n",
       "    <tr style=\"text-align: right;\">\n",
       "      <th>default</th>\n",
       "      <th>0</th>\n",
       "      <th>1</th>\n",
       "    </tr>\n",
       "  </thead>\n",
       "  <tbody>\n",
       "    <tr>\n",
       "      <th>доктор</th>\n",
       "      <td>14</td>\n",
       "      <td>0</td>\n",
       "    </tr>\n",
       "    <tr>\n",
       "      <th>магистр</th>\n",
       "      <td>8549</td>\n",
       "      <td>2036</td>\n",
       "    </tr>\n",
       "    <tr>\n",
       "      <th>бакалавр</th>\n",
       "      <td>10700</td>\n",
       "      <td>3330</td>\n",
       "    </tr>\n",
       "    <tr>\n",
       "      <th>выпускник школы</th>\n",
       "      <td>3680</td>\n",
       "      <td>1237</td>\n",
       "    </tr>\n",
       "    <tr>\n",
       "      <th>начальное образование</th>\n",
       "      <td>116</td>\n",
       "      <td>7</td>\n",
       "    </tr>\n",
       "    <tr>\n",
       "      <th>прочее</th>\n",
       "      <td>262</td>\n",
       "      <td>18</td>\n",
       "    </tr>\n",
       "    <tr>\n",
       "      <th>нет данных</th>\n",
       "      <td>43</td>\n",
       "      <td>8</td>\n",
       "    </tr>\n",
       "  </tbody>\n",
       "</table>\n",
       "</div>"
      ],
      "text/plain": [
       "default                    0     1\n",
       "доктор                    14     0\n",
       "магистр                 8549  2036\n",
       "бакалавр               10700  3330\n",
       "выпускник школы         3680  1237\n",
       "начальное образование    116     7\n",
       "прочее                   262    18\n",
       "нет данных                43     8"
      ]
     },
     "execution_count": 31,
     "metadata": {},
     "output_type": "execute_result"
    }
   ],
   "source": [
    "education_df = data.pivot_table(index = ['EDUCATION'], columns=['default'],\n",
    "                                aggfunc= len, fill_value= 0, values = 'AGE')\n",
    "\n",
    "education_df.index = ['доктор', 'магистр', 'бакалавр', 'выпускник школы',\n",
    "                      'начальное образование', 'прочее', 'нет данных']\n",
    "\n",
    "education_df"
   ]
  },
  {
   "cell_type": "markdown",
   "metadata": {},
   "source": [
    "Проверим нулевую гипотезу H0 об отсутствие связи между образованием и возвратом долга против двухсторонней альтернативы.  \n",
    "Проверку будем проводить с помощью критерия хи-квадрат для категориальных признаков."
   ]
  },
  {
   "cell_type": "code",
   "execution_count": 32,
   "metadata": {},
   "outputs": [
    {
     "name": "stdout",
     "output_type": "stream",
     "text": [
      "достигаемый уровень значимости равен  1.2332626245415605e-32\n"
     ]
    }
   ],
   "source": [
    "stat, p_value, dof, expected_table  = stats.chi2_contingency(education_df.values)\n",
    "print('достигаемый уровень значимости равен ', p_value)"
   ]
  },
  {
   "cell_type": "markdown",
   "metadata": {},
   "source": [
    "#### Гипотеза о том, что образование не влияет на то, вернет ли человек долг, уверенно отвергается на уровне значимости 0.05"
   ]
  },
  {
   "cell_type": "markdown",
   "metadata": {},
   "source": [
    "Посмотрим на таблицу сопряженности ожидаемых величин"
   ]
  },
  {
   "cell_type": "code",
   "execution_count": 33,
   "metadata": {},
   "outputs": [
    {
     "data": {
      "text/html": [
       "<div>\n",
       "<style scoped>\n",
       "    .dataframe tbody tr th:only-of-type {\n",
       "        vertical-align: middle;\n",
       "    }\n",
       "\n",
       "    .dataframe tbody tr th {\n",
       "        vertical-align: top;\n",
       "    }\n",
       "\n",
       "    .dataframe thead th {\n",
       "        text-align: right;\n",
       "    }\n",
       "</style>\n",
       "<table border=\"1\" class=\"dataframe\">\n",
       "  <thead>\n",
       "    <tr style=\"text-align: right;\">\n",
       "      <th></th>\n",
       "      <th>0</th>\n",
       "      <th>1</th>\n",
       "    </tr>\n",
       "  </thead>\n",
       "  <tbody>\n",
       "    <tr>\n",
       "      <th>доктор</th>\n",
       "      <td>11.0</td>\n",
       "      <td>3.0</td>\n",
       "    </tr>\n",
       "    <tr>\n",
       "      <th>магистр</th>\n",
       "      <td>8244.0</td>\n",
       "      <td>2341.0</td>\n",
       "    </tr>\n",
       "    <tr>\n",
       "      <th>бакалавр</th>\n",
       "      <td>10927.0</td>\n",
       "      <td>3103.0</td>\n",
       "    </tr>\n",
       "    <tr>\n",
       "      <th>выпускник школы</th>\n",
       "      <td>3829.0</td>\n",
       "      <td>1088.0</td>\n",
       "    </tr>\n",
       "    <tr>\n",
       "      <th>начальное образование</th>\n",
       "      <td>96.0</td>\n",
       "      <td>27.0</td>\n",
       "    </tr>\n",
       "    <tr>\n",
       "      <th>прочее</th>\n",
       "      <td>218.0</td>\n",
       "      <td>62.0</td>\n",
       "    </tr>\n",
       "    <tr>\n",
       "      <th>нет данных</th>\n",
       "      <td>40.0</td>\n",
       "      <td>11.0</td>\n",
       "    </tr>\n",
       "  </tbody>\n",
       "</table>\n",
       "</div>"
      ],
      "text/plain": [
       "                             0       1\n",
       "доктор                    11.0     3.0\n",
       "магистр                 8244.0  2341.0\n",
       "бакалавр               10927.0  3103.0\n",
       "выпускник школы         3829.0  1088.0\n",
       "начальное образование     96.0    27.0\n",
       "прочее                   218.0    62.0\n",
       "нет данных                40.0    11.0"
      ]
     },
     "execution_count": 33,
     "metadata": {},
     "output_type": "execute_result"
    }
   ],
   "source": [
    "exp_table_pd = pd.DataFrame(expected_table.round(), index = education_df.index.tolist())\n",
    "exp_table_pd"
   ]
  },
  {
   "cell_type": "markdown",
   "metadata": {},
   "source": [
    "Составим таблицу разности реальных и ожидаемых значений"
   ]
  },
  {
   "cell_type": "code",
   "execution_count": 34,
   "metadata": {},
   "outputs": [
    {
     "data": {
      "text/html": [
       "<div>\n",
       "<style scoped>\n",
       "    .dataframe tbody tr th:only-of-type {\n",
       "        vertical-align: middle;\n",
       "    }\n",
       "\n",
       "    .dataframe tbody tr th {\n",
       "        vertical-align: top;\n",
       "    }\n",
       "\n",
       "    .dataframe thead th {\n",
       "        text-align: right;\n",
       "    }\n",
       "</style>\n",
       "<table border=\"1\" class=\"dataframe\">\n",
       "  <thead>\n",
       "    <tr style=\"text-align: right;\">\n",
       "      <th>default</th>\n",
       "      <th>0</th>\n",
       "      <th>1</th>\n",
       "    </tr>\n",
       "  </thead>\n",
       "  <tbody>\n",
       "    <tr>\n",
       "      <th>доктор</th>\n",
       "      <td>3.0</td>\n",
       "      <td>-3.0</td>\n",
       "    </tr>\n",
       "    <tr>\n",
       "      <th>магистр</th>\n",
       "      <td>305.0</td>\n",
       "      <td>-305.0</td>\n",
       "    </tr>\n",
       "    <tr>\n",
       "      <th>бакалавр</th>\n",
       "      <td>-227.0</td>\n",
       "      <td>227.0</td>\n",
       "    </tr>\n",
       "    <tr>\n",
       "      <th>выпускник школы</th>\n",
       "      <td>-149.0</td>\n",
       "      <td>149.0</td>\n",
       "    </tr>\n",
       "    <tr>\n",
       "      <th>начальное образование</th>\n",
       "      <td>20.0</td>\n",
       "      <td>-20.0</td>\n",
       "    </tr>\n",
       "    <tr>\n",
       "      <th>прочее</th>\n",
       "      <td>44.0</td>\n",
       "      <td>-44.0</td>\n",
       "    </tr>\n",
       "    <tr>\n",
       "      <th>нет данных</th>\n",
       "      <td>3.0</td>\n",
       "      <td>-3.0</td>\n",
       "    </tr>\n",
       "  </tbody>\n",
       "</table>\n",
       "</div>"
      ],
      "text/plain": [
       "default                    0      1\n",
       "доктор                   3.0   -3.0\n",
       "магистр                305.0 -305.0\n",
       "бакалавр              -227.0  227.0\n",
       "выпускник школы       -149.0  149.0\n",
       "начальное образование   20.0  -20.0\n",
       "прочее                  44.0  -44.0\n",
       "нет данных               3.0   -3.0"
      ]
     },
     "execution_count": 34,
     "metadata": {},
     "output_type": "execute_result"
    }
   ],
   "source": [
    "dif_education = education_df - exp_table_pd\n",
    "dif_education"
   ]
  },
  {
   "cell_type": "markdown",
   "metadata": {},
   "source": [
    "Поделим каждое значение столбца 0 таблцы разности на соответствующее значение изначальной таблицы сопряженности. \n",
    "\n",
    "Таким образом мы найдем на сколько процентов наблюдаемые величины должны были быть больше или меньше, чтобы появилась возможность утверждать о независимости образования и возврата кредита. (нормированные разности)\n",
    "\n",
    "Чем больше абсолютное значение такой доли, тем больше данный тип образования влияет на возврат долга \n",
    "\n",
    "Если значение положительное, то кол-во людей вернувших долг с таким уровнем образования больше ожидаемого, а значит люди с таким уровнем образования чаще возвращают долг. Если отрицательное, то чаще не возвращают.\n",
    "\n",
    "Построим график."
   ]
  },
  {
   "cell_type": "code",
   "execution_count": 35,
   "metadata": {},
   "outputs": [
    {
     "data": {
      "image/png": "[encoded data removed]",
      "text/plain": [
       "<Figure size 432x288 with 1 Axes>"
      ]
     },
     "metadata": {},
     "output_type": "display_data"
    }
   ],
   "source": [
    "plt.plot(dif_education[0]/education_df[0] )\n",
    "plt.xlabel('EDUCATION');\n",
    "plt.xticks(rotation=45);"
   ]
  },
  {
   "cell_type": "markdown",
   "metadata": {},
   "source": [
    "Видим, что больше всего нормированное отклонение от ожидания при уровне образования 0- доктор, однако таких людей всего 14 на всю выборку.  \n",
    "Также, большое значения принимают отклонения при уровне образования 4 - начальное образование.  \n",
    "Наименьшее значение принимается при уровне образования 3 - выпускник школы."
   ]
  },
  {
   "cell_type": "markdown",
   "metadata": {},
   "source": [
    "Таким образом, можно предположить, что люди с уровнем образованием  доктор или начальное образование отдают кредит чаще, а люди с уровнем образования выпускник школы возвращают кредит реже. "
   ]
  },
  {
   "cell_type": "markdown",
   "metadata": {},
   "source": [
    "# 4) Проверим, связаны ли семейное положение и возврат кредита."
   ]
  },
  {
   "cell_type": "markdown",
   "metadata": {},
   "source": [
    "Построим гистограммы"
   ]
  },
  {
   "cell_type": "code",
   "execution_count": 36,
   "metadata": {},
   "outputs": [
    {
     "data": {
      "image/png": "[encoded data removed]",
      "text/plain": [
       "<Figure size 864x360 with 2 Axes>"
      ]
     },
     "metadata": {},
     "output_type": "display_data"
    }
   ],
   "source": [
    "fig, axis = plt.subplots(1 , 2, figsize = (12,5), sharex = True)\n",
    "\n",
    "axis[0].set_title('default = 0')\n",
    "axis[0].set_xlabel('MARRIAGE')\n",
    "credit_returned.MARRIAGE. \\\n",
    "                map({0 : 'отказываюсь отвечать', 1 : 'замужем/женат', 2 : 'холост', 3 : 'нет данных'}). \\\n",
    "                value_counts(). \\\n",
    "                plot(kind = 'bar', ax = axis[0]);\n",
    "\n",
    "axis[1].set_title('default = 1')\n",
    "axis[1].set_xlabel('MARRIAGE')\n",
    "credit_not_returned.MARRIAGE. \\\n",
    "                    map({0 : 'отказываюсь отвечать', 1 : 'замужем/женат', 2 : 'холост', 3 : 'нет данных'}). \\\n",
    "                    value_counts(). \\\n",
    "                    plot(kind = 'bar', ax = axis[1]);"
   ]
  },
  {
   "cell_type": "markdown",
   "metadata": {},
   "source": [
    "видим, что доля людей с семейным положением замужем/женат выше у группы не отдавших кредит."
   ]
  },
  {
   "cell_type": "markdown",
   "metadata": {},
   "source": [
    "Проверим, связаны ли как-то семейное положение и факт возврата кредита с помощью критерия V-Крамера "
   ]
  },
  {
   "cell_type": "code",
   "execution_count": 37,
   "metadata": {},
   "outputs": [],
   "source": [
    "def V_Cramer(table):\n",
    "    chi2 = stats.chi2_contingency(table)[0]\n",
    "    n =sum(sum(table))\n",
    "    \n",
    "    min_ = min(table.shape)\n",
    "    \n",
    "    return np.sqrt(chi2/(n * (min_ - 1)))"
   ]
  },
  {
   "cell_type": "markdown",
   "metadata": {},
   "source": [
    "Составим сводную таблицу"
   ]
  },
  {
   "cell_type": "code",
   "execution_count": 38,
   "metadata": {},
   "outputs": [
    {
     "data": {
      "text/html": [
       "<div>\n",
       "<style scoped>\n",
       "    .dataframe tbody tr th:only-of-type {\n",
       "        vertical-align: middle;\n",
       "    }\n",
       "\n",
       "    .dataframe tbody tr th {\n",
       "        vertical-align: top;\n",
       "    }\n",
       "\n",
       "    .dataframe thead th {\n",
       "        text-align: right;\n",
       "    }\n",
       "</style>\n",
       "<table border=\"1\" class=\"dataframe\">\n",
       "  <thead>\n",
       "    <tr style=\"text-align: right;\">\n",
       "      <th>default</th>\n",
       "      <th>0</th>\n",
       "      <th>1</th>\n",
       "    </tr>\n",
       "  </thead>\n",
       "  <tbody>\n",
       "    <tr>\n",
       "      <th>отказываюсь отвечать</th>\n",
       "      <td>49</td>\n",
       "      <td>5</td>\n",
       "    </tr>\n",
       "    <tr>\n",
       "      <th>замужем/женат</th>\n",
       "      <td>10453</td>\n",
       "      <td>3206</td>\n",
       "    </tr>\n",
       "    <tr>\n",
       "      <th>холост</th>\n",
       "      <td>12623</td>\n",
       "      <td>3341</td>\n",
       "    </tr>\n",
       "    <tr>\n",
       "      <th>нет данных</th>\n",
       "      <td>239</td>\n",
       "      <td>84</td>\n",
       "    </tr>\n",
       "  </tbody>\n",
       "</table>\n",
       "</div>"
      ],
      "text/plain": [
       "default                   0     1\n",
       "отказываюсь отвечать     49     5\n",
       "замужем/женат         10453  3206\n",
       "холост                12623  3341\n",
       "нет данных              239    84"
      ]
     },
     "execution_count": 38,
     "metadata": {},
     "output_type": "execute_result"
    }
   ],
   "source": [
    "table_marriage = data.pivot_table(index = ['MARRIAGE'], columns = ['default'],\n",
    "                                  fill_value = 0, aggfunc = len, values = 'AGE')\n",
    "\n",
    "table_marriage.index = ['отказываюсь отвечать', 'замужем/женат', 'холост', 'нет данных']\n",
    "table_marriage"
   ]
  },
  {
   "cell_type": "markdown",
   "metadata": {},
   "source": [
    "Посчитаем коэффициент V-Крамера"
   ]
  },
  {
   "cell_type": "code",
   "execution_count": 39,
   "metadata": {},
   "outputs": [
    {
     "name": "stdout",
     "output_type": "stream",
     "text": [
      "Коэффициент V Крамера равен 0.034478203662766466\n"
     ]
    }
   ],
   "source": [
    "print('Коэффициент V Крамера равен', V_Cramer(table_marriage.values))"
   ]
  },
  {
   "cell_type": "markdown",
   "metadata": {},
   "source": [
    "Проверим, можно ли считать данные при таком коэф-те Крамера независимыми \n",
    "\n",
    "Будем проверять нулевую гипотезу H0 - семейное положение и возврат долга независимы против двухсторонней альтернативы с помощью критерия хи-квадрат для категориальных признаков."
   ]
  },
  {
   "cell_type": "code",
   "execution_count": 40,
   "metadata": {},
   "outputs": [],
   "source": [
    "chi, p_value, dof, table = stats.chi2_contingency(table_marriage)"
   ]
  },
  {
   "cell_type": "code",
   "execution_count": 41,
   "metadata": {},
   "outputs": [
    {
     "name": "stdout",
     "output_type": "stream",
     "text": [
      "достигаемый уровень значимости равен  8.825862457577375e-08\n"
     ]
    }
   ],
   "source": [
    "print('достигаемый уровень значимости равен ', p_value)"
   ]
  },
  {
   "cell_type": "markdown",
   "metadata": {},
   "source": [
    "#### Таким образом, нулевая гепотеза о независимости семейного положения и возврата кредита отвергается на уровне значимости 0.05\n"
   ]
  },
  {
   "cell_type": "markdown",
   "metadata": {},
   "source": [
    "# 5) Влияние возраста"
   ]
  },
  {
   "cell_type": "markdown",
   "metadata": {},
   "source": [
    "Построим гистограммы"
   ]
  },
  {
   "cell_type": "code",
   "execution_count": 42,
   "metadata": {},
   "outputs": [
    {
     "data": {
      "image/png": "[encoded data removed]",
      "text/plain": [
       "<Figure size 864x360 with 2 Axes>"
      ]
     },
     "metadata": {},
     "output_type": "display_data"
    }
   ],
   "source": [
    "fig, axis = plt.subplots(1 , 2, figsize = (12,5), sharex = True)\n",
    "\n",
    "axis[0].set_title('default = 0')\n",
    "axis[0].set_xlabel('AGE')\n",
    "credit_returned.AGE.hist(ax = axis[0], bins = 15);\n",
    "\n",
    "axis[1].set_title('default = 1')\n",
    "axis[1].set_xlabel('AGE')\n",
    "credit_not_returned.AGE.hist(ax = axis[1], bins = 15);"
   ]
  },
  {
   "cell_type": "markdown",
   "metadata": {},
   "source": [
    "Видим, что между распределениями есть небольшие различия"
   ]
  },
  {
   "cell_type": "markdown",
   "metadata": {},
   "source": [
    "#### 5.1 проверим гипотезу о равенстве медианных значений кредитного лимита"
   ]
  },
  {
   "cell_type": "markdown",
   "metadata": {},
   "source": [
    "Посмотрим на интервальные оценки медиан двух распределений с помощью бутстрепа.  "
   ]
  },
  {
   "cell_type": "code",
   "execution_count": 43,
   "metadata": {},
   "outputs": [],
   "source": [
    "AGE_bootstrap_samples_returned = get_bootstrap_samples(credit_returned.AGE.values, 1000)\n",
    "AGE_bootstrap_samples_not_returned = get_bootstrap_samples(credit_not_returned.AGE.values, 1000)\n",
    "\n",
    "AGE_medians_returned = [np.median(x) for x in AGE_bootstrap_samples_returned]\n",
    "AGE_medians_not_returned = [np.median(x) for x in AGE_bootstrap_samples_not_returned]"
   ]
  },
  {
   "cell_type": "markdown",
   "metadata": {},
   "source": [
    "посмотрим на полученные из выборок медианы"
   ]
  },
  {
   "cell_type": "code",
   "execution_count": 44,
   "metadata": {},
   "outputs": [
    {
     "data": {
      "image/png": "[encoded data removed]",
      "text/plain": [
       "<Figure size 864x360 with 2 Axes>"
      ]
     },
     "metadata": {},
     "output_type": "display_data"
    }
   ],
   "source": [
    "fig, axis = plt.subplots(1 , 2, figsize = (12,5))\n",
    "\n",
    "\n",
    "axis[0].set_title('default = 0')\n",
    "axis[0].set_xlabel('AGE_medians')\n",
    "axis[0].hist(AGE_medians_returned, bins = 5);\n",
    "\n",
    "axis[1].set_title('default = 1')\n",
    "axis[1].set_xlabel('AGE_medians')\n",
    "axis[1].hist(AGE_medians_not_returned, bins = 5);"
   ]
  },
  {
   "cell_type": "markdown",
   "metadata": {},
   "source": [
    "Почти все выборочные медианы для default-0 получились одинаковыми"
   ]
  },
  {
   "cell_type": "markdown",
   "metadata": {},
   "source": [
    "Посмотрим на 95% доверительные интервалы для полученных медиан в двух группах"
   ]
  },
  {
   "cell_type": "code",
   "execution_count": 45,
   "metadata": {},
   "outputs": [
    {
     "name": "stdout",
     "output_type": "stream",
     "text": [
      "95% доверительный интервал для медианы AGE клиентов вернуших кредит [34. 34.]\n",
      "95% доверительный интервал для медианы AGE клиентов не вернуших кредит [34. 35.]\n"
     ]
    }
   ],
   "source": [
    "print('95% доверительный интервал для медианы AGE клиентов вернуших кредит',\n",
    "      stat_intervals(AGE_medians_returned, 0.05))\n",
    "      \n",
    "print('95% доверительный интервал для медианы AGE клиентов не вернуших кредит',\n",
    "      stat_intervals(AGE_medians_not_returned, 0.05))"
   ]
  },
  {
   "cell_type": "markdown",
   "metadata": {},
   "source": [
    "Видим, что доверительные интервалы пересекаются, значит мы не можем отклонить гипотезу о равенстве медианных значений возрастов клиентов вернувших и не вернувших кредит."
   ]
  },
  {
   "cell_type": "markdown",
   "metadata": {},
   "source": [
    "Посмотрим на доверительный интервал для разности медиан"
   ]
  },
  {
   "cell_type": "code",
   "execution_count": 46,
   "metadata": {},
   "outputs": [
    {
     "name": "stdout",
     "output_type": "stream",
     "text": [
      "95% доверительный интервал для разности медиан AGE клиентов  вернувших и не вернуших кредит [-1.  0.]\n"
     ]
    }
   ],
   "source": [
    "AGE_delta_median = [x[0] - x[1] for x in zip(AGE_medians_returned, AGE_medians_not_returned)]\n",
    "\n",
    "print('95% доверительный интервал для разности медиан AGE клиентов  вернувших и не вернуших кредит',\n",
    "      stat_intervals(AGE_delta_median, 0.05))"
   ]
  },
  {
   "cell_type": "markdown",
   "metadata": {},
   "source": [
    "#### 95% доверительный интервал пересекает 0, а значит мы также не можем отклонить гипотезу о равенстве медианных значений."
   ]
  },
  {
   "cell_type": "markdown",
   "metadata": {},
   "source": [
    "#### 5.2 Проверим гипотизу о равенстве распределений с помощью перестановочного критерия."
   ]
  },
  {
   "cell_type": "markdown",
   "metadata": {},
   "source": [
    "Будем проверять гипотезу H0 о равенстве распределений AGE клиентов вернувших кредит и не вернувших против двухсторонней альтернативы H1 о сдвиге между распределениями."
   ]
  },
  {
   "cell_type": "markdown",
   "metadata": {},
   "source": [
    "Посмотрим на нулевое распределение"
   ]
  },
  {
   "cell_type": "code",
   "execution_count": 47,
   "metadata": {},
   "outputs": [
    {
     "data": {
      "image/png": "[encoded data removed]",
      "text/plain": [
       "<Figure size 432x288 with 1 Axes>"
      ]
     },
     "metadata": {},
     "output_type": "display_data"
    }
   ],
   "source": [
    "plt.hist(permutation_zero_dist_ind(credit_returned.AGE.values,\n",
    "                                   credit_not_returned.AGE.values, 1000)\n",
    "         ,bins = 40);"
   ]
  },
  {
   "cell_type": "markdown",
   "metadata": {},
   "source": [
    "Получим достигаемый уровень значимости"
   ]
  },
  {
   "cell_type": "code",
   "execution_count": 48,
   "metadata": {},
   "outputs": [
    {
     "name": "stdout",
     "output_type": "stream",
     "text": [
      "достигаемый уровень значимости равен  =  0.016\n"
     ]
    }
   ],
   "source": [
    "print('достигаемый уровень значимости равен  = ',\n",
    "      permutation_test(credit_returned.AGE.values, credit_not_returned.AGE.values,\n",
    "                       1000,alternative = 'two-sided'))"
   ]
  },
  {
   "cell_type": "markdown",
   "metadata": {},
   "source": [
    "#### Нулевая гипотеза отвергается на уровне значимости 0.05, т.е. между двумя распределениями есть сдвиг "
   ]
  },
  {
   "cell_type": "markdown",
   "metadata": {},
   "source": [
    "Посмотрим на размер эффекта.  \n",
    "Найдем его как разность медианных значений двух групп"
   ]
  },
  {
   "cell_type": "code",
   "execution_count": 49,
   "metadata": {},
   "outputs": [
    {
     "name": "stdout",
     "output_type": "stream",
     "text": [
      "размер эффекта =  0.0\n"
     ]
    }
   ],
   "source": [
    "effect_size = credit_returned.AGE.median() - credit_not_returned.AGE.median()\n",
    "print('размер эффекта = ', effect_size)"
   ]
  },
  {
   "cell_type": "markdown",
   "metadata": {},
   "source": [
    "Таким образом, не зависимо от того, что перестановочный критерий показал наличие статистически значимого сдвига двух распределений, практической значимости это не представляет."
   ]
  }
 ],
 "metadata": {
  "kernelspec": {
   "display_name": "Python 3",
   "language": "python",
   "name": "python3"
  },
  "language_info": {
   "codemirror_mode": {
    "name": "ipython",
    "version": 3
   },
   "file_extension": ".py",
   "mimetype": "text/x-python",
   "name": "python",
   "nbconvert_exporter": "python",
   "pygments_lexer": "ipython3",
   "version": "3.8.3"
  }
 },
 "nbformat": 4,
 "nbformat_minor": 4
}
