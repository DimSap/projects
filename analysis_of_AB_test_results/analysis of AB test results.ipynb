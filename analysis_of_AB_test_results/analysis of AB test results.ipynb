{
 "cells": [
  {
   "cell_type": "markdown",
   "metadata": {},
   "source": [
    "## AB Tests"
   ]
  },
  {
   "cell_type": "markdown",
   "metadata": {},
   "source": [
    "### 1. Оценка результатов AB теста"
   ]
  },
  {
   "cell_type": "markdown",
   "metadata": {},
   "source": [
    "Нужно оценить результаты AB теста. Даны результаты на контрольной и тестовой группе после проведения AB теста.\n",
    "Помимо показателей целевой переменной, даны также несколько фичей, которые являются характеристиками объектов. Даны целевые показатели (y) и принадлежность к целевой группе (W).\n",
    "\n",
    "Найдем treatment effect воздействия используя разные методы.\n",
    "\n",
    "Для данной задачи используется dataset:  dataset_part1_students.csv"
   ]
  },
  {
   "cell_type": "markdown",
   "metadata": {},
   "source": [
    "### 2. Оценка результатов AB теста с показателями до начала эксперимента"
   ]
  },
  {
   "cell_type": "markdown",
   "metadata": {},
   "source": [
    "Необходимо как и ранее оценить результаты AB теста, а именно ATE. Теперь мы располагаем результатами до и после проведения теста (y_0 и y_1), а также дан treatment assignment (W). \n",
    "\n",
    "\n",
    "Как и в прошлом задании, попробуем оценить ATE используя разные методы и сравним результаты.\n",
    "\n",
    "dataset_part2_students.csv"
   ]
  },
  {
   "cell_type": "markdown",
   "metadata": {},
   "source": [
    "### 3. Построение uplift модели по результатам AB теста."
   ]
  },
  {
   "cell_type": "markdown",
   "metadata": {},
   "source": [
    "Даны результаты AB теста для модели конверсии клиента в продукте (conversion). Конверсия может принимать значения 1 или 0, что значит - клиент подключил услугу, либо не подключил соответственно.\n",
    "\n",
    "\n",
    "Оценим ATE по данным, а также CATE для каждого наблюдения.\n",
    "\n",
    "dataset_part3_students.csv"
   ]
  },
  {
   "cell_type": "markdown",
   "metadata": {},
   "source": [
    "# Часть 1 "
   ]
  },
  {
   "cell_type": "code",
   "execution_count": 1,
   "metadata": {},
   "outputs": [
    {
     "name": "stderr",
     "output_type": "stream",
     "text": [
      "/home/dimsap/anaconda3/lib/python3.8/site-packages/sklearn/utils/deprecation.py:143: FutureWarning: The sklearn.ensemble.forest module is  deprecated in version 0.22 and will be removed in version 0.24. The corresponding classes / functions should instead be imported from sklearn.ensemble. Anything that cannot be imported from sklearn.ensemble is now part of the private API.\n",
      "  warnings.warn(message, FutureWarning)\n"
     ]
    }
   ],
   "source": [
    "import numpy as np\n",
    "import pandas as pd\n",
    "import scipy\n",
    "import statsmodels.formula.api as smf\n",
    "import statsmodels.stats.api as sms\n",
    "from statsmodels.stats.weightstats import CompareMeans\n",
    "from statsmodels.stats.weightstats import DescrStatsW\n",
    "import seaborn as sb\n",
    "import scipy.stats as stats\n",
    "import matplotlib.pyplot as plt\n",
    "from sklearn.ensemble import RandomForestClassifier, RandomForestRegressor\n",
    "from sklearn.linear_model import LogisticRegression, LinearRegression\n",
    "from sklearn.model_selection import train_test_split\n",
    "from statsmodels.stats.proportion import proportion_confint\n",
    "from econml.dml import LinearDML\n",
    "from sklearn.preprocessing import LabelEncoder"
   ]
  },
  {
   "cell_type": "code",
   "execution_count": 2,
   "metadata": {},
   "outputs": [],
   "source": [
    "sb.set_style('darkgrid')"
   ]
  },
  {
   "cell_type": "markdown",
   "metadata": {},
   "source": [
    "Скачаем данные и разобьем на treatment и control группы"
   ]
  },
  {
   "cell_type": "code",
   "execution_count": 3,
   "metadata": {},
   "outputs": [],
   "source": [
    "data_part_1 = pd.read_csv('data/data/dataset_part1_students.csv', sep = '\\t')\n",
    "control_part1 = data_part_1[data_part_1.W == 0.0]\n",
    "treatment_part1 = data_part_1[data_part_1.W == 1.0]"
   ]
  },
  {
   "cell_type": "markdown",
   "metadata": {},
   "source": [
    "Посмотрим на данные"
   ]
  },
  {
   "cell_type": "code",
   "execution_count": 4,
   "metadata": {},
   "outputs": [
    {
     "data": {
      "text/html": [
       "<div>\n",
       "<style scoped>\n",
       "    .dataframe tbody tr th:only-of-type {\n",
       "        vertical-align: middle;\n",
       "    }\n",
       "\n",
       "    .dataframe tbody tr th {\n",
       "        vertical-align: top;\n",
       "    }\n",
       "\n",
       "    .dataframe thead th {\n",
       "        text-align: right;\n",
       "    }\n",
       "</style>\n",
       "<table border=\"1\" class=\"dataframe\">\n",
       "  <thead>\n",
       "    <tr style=\"text-align: right;\">\n",
       "      <th></th>\n",
       "      <th>y</th>\n",
       "      <th>W</th>\n",
       "      <th>X_1</th>\n",
       "      <th>X_2</th>\n",
       "      <th>X_3</th>\n",
       "      <th>X_4</th>\n",
       "      <th>X_5</th>\n",
       "      <th>X_6</th>\n",
       "      <th>X_7</th>\n",
       "      <th>X_8</th>\n",
       "      <th>X_9</th>\n",
       "      <th>X_10</th>\n",
       "    </tr>\n",
       "  </thead>\n",
       "  <tbody>\n",
       "    <tr>\n",
       "      <th>0</th>\n",
       "      <td>-1.459404</td>\n",
       "      <td>0.0</td>\n",
       "      <td>0.986277</td>\n",
       "      <td>0.873392</td>\n",
       "      <td>0.509746</td>\n",
       "      <td>0.271836</td>\n",
       "      <td>0.336919</td>\n",
       "      <td>0.216954</td>\n",
       "      <td>0.276477</td>\n",
       "      <td>0.343316</td>\n",
       "      <td>0.862159</td>\n",
       "      <td>0.156700</td>\n",
       "    </tr>\n",
       "    <tr>\n",
       "      <th>1</th>\n",
       "      <td>-1.694174</td>\n",
       "      <td>0.0</td>\n",
       "      <td>0.140887</td>\n",
       "      <td>0.757080</td>\n",
       "      <td>0.736325</td>\n",
       "      <td>0.355663</td>\n",
       "      <td>0.341093</td>\n",
       "      <td>0.666803</td>\n",
       "      <td>0.217101</td>\n",
       "      <td>0.561427</td>\n",
       "      <td>0.124179</td>\n",
       "      <td>0.319736</td>\n",
       "    </tr>\n",
       "    <tr>\n",
       "      <th>2</th>\n",
       "      <td>5.378374</td>\n",
       "      <td>0.0</td>\n",
       "      <td>0.953214</td>\n",
       "      <td>0.137357</td>\n",
       "      <td>0.569413</td>\n",
       "      <td>0.975665</td>\n",
       "      <td>0.503367</td>\n",
       "      <td>0.667664</td>\n",
       "      <td>0.034191</td>\n",
       "      <td>0.456119</td>\n",
       "      <td>0.155851</td>\n",
       "      <td>0.476049</td>\n",
       "    </tr>\n",
       "    <tr>\n",
       "      <th>3</th>\n",
       "      <td>2.188189</td>\n",
       "      <td>1.0</td>\n",
       "      <td>0.169702</td>\n",
       "      <td>0.896258</td>\n",
       "      <td>0.373394</td>\n",
       "      <td>0.379693</td>\n",
       "      <td>0.858317</td>\n",
       "      <td>0.646061</td>\n",
       "      <td>0.583462</td>\n",
       "      <td>0.668350</td>\n",
       "      <td>0.177793</td>\n",
       "      <td>0.849248</td>\n",
       "    </tr>\n",
       "    <tr>\n",
       "      <th>4</th>\n",
       "      <td>2.862696</td>\n",
       "      <td>1.0</td>\n",
       "      <td>0.442373</td>\n",
       "      <td>0.831468</td>\n",
       "      <td>0.763921</td>\n",
       "      <td>0.919691</td>\n",
       "      <td>0.070573</td>\n",
       "      <td>0.156165</td>\n",
       "      <td>0.636894</td>\n",
       "      <td>0.555696</td>\n",
       "      <td>0.191929</td>\n",
       "      <td>0.425656</td>\n",
       "    </tr>\n",
       "  </tbody>\n",
       "</table>\n",
       "</div>"
      ],
      "text/plain": [
       "          y    W       X_1       X_2       X_3       X_4       X_5       X_6  \\\n",
       "0 -1.459404  0.0  0.986277  0.873392  0.509746  0.271836  0.336919  0.216954   \n",
       "1 -1.694174  0.0  0.140887  0.757080  0.736325  0.355663  0.341093  0.666803   \n",
       "2  5.378374  0.0  0.953214  0.137357  0.569413  0.975665  0.503367  0.667664   \n",
       "3  2.188189  1.0  0.169702  0.896258  0.373394  0.379693  0.858317  0.646061   \n",
       "4  2.862696  1.0  0.442373  0.831468  0.763921  0.919691  0.070573  0.156165   \n",
       "\n",
       "        X_7       X_8       X_9      X_10  \n",
       "0  0.276477  0.343316  0.862159  0.156700  \n",
       "1  0.217101  0.561427  0.124179  0.319736  \n",
       "2  0.034191  0.456119  0.155851  0.476049  \n",
       "3  0.583462  0.668350  0.177793  0.849248  \n",
       "4  0.636894  0.555696  0.191929  0.425656  "
      ]
     },
     "execution_count": 4,
     "metadata": {},
     "output_type": "execute_result"
    }
   ],
   "source": [
    "data_part_1.head()"
   ]
  },
  {
   "cell_type": "code",
   "execution_count": 5,
   "metadata": {},
   "outputs": [
    {
     "data": {
      "text/html": [
       "<div>\n",
       "<style scoped>\n",
       "    .dataframe tbody tr th:only-of-type {\n",
       "        vertical-align: middle;\n",
       "    }\n",
       "\n",
       "    .dataframe tbody tr th {\n",
       "        vertical-align: top;\n",
       "    }\n",
       "\n",
       "    .dataframe thead th {\n",
       "        text-align: right;\n",
       "    }\n",
       "</style>\n",
       "<table border=\"1\" class=\"dataframe\">\n",
       "  <thead>\n",
       "    <tr style=\"text-align: right;\">\n",
       "      <th></th>\n",
       "      <th>y</th>\n",
       "      <th>W</th>\n",
       "      <th>X_1</th>\n",
       "      <th>X_2</th>\n",
       "      <th>X_3</th>\n",
       "      <th>X_4</th>\n",
       "      <th>X_5</th>\n",
       "      <th>X_6</th>\n",
       "      <th>X_7</th>\n",
       "      <th>X_8</th>\n",
       "      <th>X_9</th>\n",
       "      <th>X_10</th>\n",
       "    </tr>\n",
       "  </thead>\n",
       "  <tbody>\n",
       "    <tr>\n",
       "      <th>count</th>\n",
       "      <td>20000.000000</td>\n",
       "      <td>20000.000000</td>\n",
       "      <td>20000.000000</td>\n",
       "      <td>20000.000000</td>\n",
       "      <td>20000.000000</td>\n",
       "      <td>20000.000000</td>\n",
       "      <td>20000.000000</td>\n",
       "      <td>20000.000000</td>\n",
       "      <td>20000.000000</td>\n",
       "      <td>20000.000000</td>\n",
       "      <td>20000.000000</td>\n",
       "      <td>20000.000000</td>\n",
       "    </tr>\n",
       "    <tr>\n",
       "      <th>mean</th>\n",
       "      <td>2.075323</td>\n",
       "      <td>0.522300</td>\n",
       "      <td>0.501970</td>\n",
       "      <td>0.496674</td>\n",
       "      <td>0.501623</td>\n",
       "      <td>0.501036</td>\n",
       "      <td>0.497661</td>\n",
       "      <td>0.501234</td>\n",
       "      <td>0.497832</td>\n",
       "      <td>0.496958</td>\n",
       "      <td>0.499980</td>\n",
       "      <td>0.498894</td>\n",
       "    </tr>\n",
       "    <tr>\n",
       "      <th>std</th>\n",
       "      <td>3.035037</td>\n",
       "      <td>0.499515</td>\n",
       "      <td>0.288250</td>\n",
       "      <td>0.289476</td>\n",
       "      <td>0.289892</td>\n",
       "      <td>0.288132</td>\n",
       "      <td>0.288567</td>\n",
       "      <td>0.288967</td>\n",
       "      <td>0.287840</td>\n",
       "      <td>0.288291</td>\n",
       "      <td>0.288345</td>\n",
       "      <td>0.287987</td>\n",
       "    </tr>\n",
       "    <tr>\n",
       "      <th>min</th>\n",
       "      <td>-9.047982</td>\n",
       "      <td>0.000000</td>\n",
       "      <td>0.000159</td>\n",
       "      <td>0.000013</td>\n",
       "      <td>0.000057</td>\n",
       "      <td>0.000028</td>\n",
       "      <td>0.000004</td>\n",
       "      <td>0.000073</td>\n",
       "      <td>0.000110</td>\n",
       "      <td>0.000057</td>\n",
       "      <td>0.000012</td>\n",
       "      <td>0.000013</td>\n",
       "    </tr>\n",
       "    <tr>\n",
       "      <th>25%</th>\n",
       "      <td>0.026237</td>\n",
       "      <td>0.000000</td>\n",
       "      <td>0.251363</td>\n",
       "      <td>0.244871</td>\n",
       "      <td>0.251427</td>\n",
       "      <td>0.250494</td>\n",
       "      <td>0.250537</td>\n",
       "      <td>0.250726</td>\n",
       "      <td>0.249500</td>\n",
       "      <td>0.247673</td>\n",
       "      <td>0.251035</td>\n",
       "      <td>0.250138</td>\n",
       "    </tr>\n",
       "    <tr>\n",
       "      <th>50%</th>\n",
       "      <td>2.075935</td>\n",
       "      <td>1.000000</td>\n",
       "      <td>0.503203</td>\n",
       "      <td>0.496624</td>\n",
       "      <td>0.504957</td>\n",
       "      <td>0.498941</td>\n",
       "      <td>0.498581</td>\n",
       "      <td>0.499502</td>\n",
       "      <td>0.499507</td>\n",
       "      <td>0.492757</td>\n",
       "      <td>0.499955</td>\n",
       "      <td>0.500853</td>\n",
       "    </tr>\n",
       "    <tr>\n",
       "      <th>75%</th>\n",
       "      <td>4.140186</td>\n",
       "      <td>1.000000</td>\n",
       "      <td>0.751609</td>\n",
       "      <td>0.745780</td>\n",
       "      <td>0.753342</td>\n",
       "      <td>0.752575</td>\n",
       "      <td>0.746653</td>\n",
       "      <td>0.752015</td>\n",
       "      <td>0.744436</td>\n",
       "      <td>0.746960</td>\n",
       "      <td>0.748775</td>\n",
       "      <td>0.745164</td>\n",
       "    </tr>\n",
       "    <tr>\n",
       "      <th>max</th>\n",
       "      <td>13.895502</td>\n",
       "      <td>1.000000</td>\n",
       "      <td>0.999966</td>\n",
       "      <td>0.999936</td>\n",
       "      <td>0.999960</td>\n",
       "      <td>0.999987</td>\n",
       "      <td>0.999948</td>\n",
       "      <td>0.999885</td>\n",
       "      <td>0.999970</td>\n",
       "      <td>0.999913</td>\n",
       "      <td>0.999906</td>\n",
       "      <td>0.999982</td>\n",
       "    </tr>\n",
       "  </tbody>\n",
       "</table>\n",
       "</div>"
      ],
      "text/plain": [
       "                  y             W           X_1           X_2           X_3  \\\n",
       "count  20000.000000  20000.000000  20000.000000  20000.000000  20000.000000   \n",
       "mean       2.075323      0.522300      0.501970      0.496674      0.501623   \n",
       "std        3.035037      0.499515      0.288250      0.289476      0.289892   \n",
       "min       -9.047982      0.000000      0.000159      0.000013      0.000057   \n",
       "25%        0.026237      0.000000      0.251363      0.244871      0.251427   \n",
       "50%        2.075935      1.000000      0.503203      0.496624      0.504957   \n",
       "75%        4.140186      1.000000      0.751609      0.745780      0.753342   \n",
       "max       13.895502      1.000000      0.999966      0.999936      0.999960   \n",
       "\n",
       "                X_4           X_5           X_6           X_7           X_8  \\\n",
       "count  20000.000000  20000.000000  20000.000000  20000.000000  20000.000000   \n",
       "mean       0.501036      0.497661      0.501234      0.497832      0.496958   \n",
       "std        0.288132      0.288567      0.288967      0.287840      0.288291   \n",
       "min        0.000028      0.000004      0.000073      0.000110      0.000057   \n",
       "25%        0.250494      0.250537      0.250726      0.249500      0.247673   \n",
       "50%        0.498941      0.498581      0.499502      0.499507      0.492757   \n",
       "75%        0.752575      0.746653      0.752015      0.744436      0.746960   \n",
       "max        0.999987      0.999948      0.999885      0.999970      0.999913   \n",
       "\n",
       "                X_9          X_10  \n",
       "count  20000.000000  20000.000000  \n",
       "mean       0.499980      0.498894  \n",
       "std        0.288345      0.287987  \n",
       "min        0.000012      0.000013  \n",
       "25%        0.251035      0.250138  \n",
       "50%        0.499955      0.500853  \n",
       "75%        0.748775      0.745164  \n",
       "max        0.999906      0.999982  "
      ]
     },
     "execution_count": 5,
     "metadata": {},
     "output_type": "execute_result"
    }
   ],
   "source": [
    "data_part_1.describe()"
   ]
  },
  {
   "cell_type": "markdown",
   "metadata": {},
   "source": [
    "## 1) Проверка равенства средних в выборках\n",
    "Для начала посмтрим на точечную оценку"
   ]
  },
  {
   "cell_type": "code",
   "execution_count": 6,
   "metadata": {},
   "outputs": [
    {
     "name": "stdout",
     "output_type": "stream",
     "text": [
      "mean_diff = 0.4001031055444413\n"
     ]
    }
   ],
   "source": [
    "print('mean_diff =', treatment_part1.y.mean() - control_part1.y.mean())"
   ]
  },
  {
   "cell_type": "markdown",
   "metadata": {},
   "source": [
    "Видим, что отклонение не равно 0"
   ]
  },
  {
   "cell_type": "markdown",
   "metadata": {},
   "source": [
    "Будем использовать t-test для проверки гипотезы о равенстве средних.  \n",
    "Тогда, для корректных результатов такого теста, выборки должны быть из нормального распределения. Проверим это."
   ]
  },
  {
   "cell_type": "markdown",
   "metadata": {},
   "source": [
    "Посмотрим на распределения целевой переменной в двух группах "
   ]
  },
  {
   "cell_type": "code",
   "execution_count": 7,
   "metadata": {},
   "outputs": [
    {
     "data": {
      "text/plain": [
       "<matplotlib.axes._subplots.AxesSubplot at 0x7fcd4b516880>"
      ]
     },
     "execution_count": 7,
     "metadata": {},
     "output_type": "execute_result"
    },
    {
     "data": {
      "image/png": "[encoded data removed]",
      "text/plain": [
       "<Figure size 720x576 with 2 Axes>"
      ]
     },
     "metadata": {},
     "output_type": "display_data"
    }
   ],
   "source": [
    "fig, ax = plt.subplots(2,1, figsize = (10,8))\n",
    "\n",
    "ax[0].set_xlabel('control')\n",
    "ax[1].set_xlabel('treatment')\n",
    "\n",
    "control_part1.y.hist(bins = 50, ax = ax[0])\n",
    "treatment_part1.y.hist(bins = 50, ax = ax[1])"
   ]
  },
  {
   "cell_type": "markdown",
   "metadata": {},
   "source": [
    "Видим, что распределения похожи на нормальный.  \n",
    "Построим Q-Q Plot чтобы убедиться в этом:"
   ]
  },
  {
   "cell_type": "code",
   "execution_count": 8,
   "metadata": {},
   "outputs": [
    {
     "data": {
      "text/plain": [
       "((array([-3.79931654, -3.57353433, -3.44954917, ...,  3.44954917,\n",
       "          3.57353433,  3.79931654]),\n",
       "  array([-9.04798172, -8.59837335, -8.3473165 , ..., 12.80560407,\n",
       "         13.33207736, 13.89550194])),\n",
       " (3.0285060387368943, 1.866348968309554, 0.9999337362005631))"
      ]
     },
     "execution_count": 8,
     "metadata": {},
     "output_type": "execute_result"
    },
    {
     "data": {
      "image/png": "[encoded data removed]",
      "text/plain": [
       "<Figure size 1080x360 with 2 Axes>"
      ]
     },
     "metadata": {},
     "output_type": "display_data"
    }
   ],
   "source": [
    "fig, ax = plt.subplots(1,2, figsize = (15,5))\n",
    "stats.probplot(treatment_part1.y, plot = ax[0], rvalue=True)\n",
    "stats.probplot(control_part1.y, plot = ax[1], rvalue=True)\n"
   ]
  },
  {
   "cell_type": "markdown",
   "metadata": {},
   "source": [
    "Видим, что точки очень хорошо ложаться на прямую, а $R^2$ почти равен 1 . Такой проверки должно быть достаточно для проведения t-теста так как он не чувствителен к небольшим отклонениям от нормальности. Однако для, для большей уверенности, проверим на нормальность распределения целевой переменной с помощью теста Шапиро-Уилка.  \n",
    "\n",
    "H0 - целевая переменная распределена нормально  \n",
    "H1 - распределение отличается от нормального  \n",
    "Примем уровень значимости $\\alpha =$0.05"
   ]
  },
  {
   "cell_type": "code",
   "execution_count": 9,
   "metadata": {},
   "outputs": [
    {
     "name": "stdout",
     "output_type": "stream",
     "text": [
      "для control p_value =  0.7025354504585266\n",
      "для treatment p_value =  0.4698139429092407\n"
     ]
    }
   ],
   "source": [
    "print('для control p_value = ', stats.shapiro(control_part1.y[:5000]).pvalue)\n",
    "print('для treatment p_value = ', stats.shapiro(treatment_part1.y[:5000]).pvalue)"
   ]
  },
  {
   "cell_type": "markdown",
   "metadata": {},
   "source": [
    "Таким образом, нулевые гепотезы о нормальности распределений уверенно принимаются, а значит можно смело пользоваться t-тестом для независимых выборок"
   ]
  },
  {
   "cell_type": "markdown",
   "metadata": {},
   "source": [
    "H0 - средние двух выборок равны  \n",
    "H1 - средние отличаются  \n",
    "Примем уровень значимости $\\alpha =$0.05"
   ]
  },
  {
   "cell_type": "code",
   "execution_count": 10,
   "metadata": {},
   "outputs": [
    {
     "name": "stdout",
     "output_type": "stream",
     "text": [
      "после проведения t-теста p_value =  1.1387356403808485e-20\n"
     ]
    }
   ],
   "source": [
    "print('после проведения t-теста p_value = ',\n",
    "      stats.ttest_ind(treatment_part1.y, control_part1.y, equal_var=False).pvalue)"
   ]
  },
  {
   "cell_type": "markdown",
   "metadata": {},
   "source": [
    "Таким образом, гипотеза о равенстве средних в treatment и control группах уверенно отвергается."
   ]
  },
  {
   "cell_type": "markdown",
   "metadata": {},
   "source": [
    "## 2) ATE воздействия \n",
    "\n",
    " ### Randomate"
   ]
  },
  {
   "cell_type": "markdown",
   "metadata": {},
   "source": [
    "Проверим качество рандомизации эксперимента. Так как данные пришли уже после проведения эксперимента, нет никакой уверенности в правильном разбиение пользователей на группы.\n",
    "Попробуем классифицировать объекты на попадание в treatment и control группы на онове их признаков. Если получится добиться хорошего качества классификации, значит независимость treatment от объектов утверждать нельзя."
   ]
  },
  {
   "cell_type": "markdown",
   "metadata": {},
   "source": [
    "Попробуем классифицировать с помощью случайного леса и логистической регрессии.  \n",
    "Разобьем на train и test."
   ]
  },
  {
   "cell_type": "code",
   "execution_count": 11,
   "metadata": {},
   "outputs": [
    {
     "data": {
      "text/plain": [
       "0.51375"
      ]
     },
     "execution_count": 11,
     "metadata": {},
     "output_type": "execute_result"
    }
   ],
   "source": [
    "X_train, X_test, y_train, y_test = train_test_split(data_part_1.iloc[:, 2:12], data_part_1.W, test_size = 0.2)\n",
    "y_test[y_test == 1 ].shape[0]/y_test.shape[0] # выведем долю объектов с меткой 1"
   ]
  },
  {
   "cell_type": "markdown",
   "metadata": {},
   "source": [
    "Таким образом, accuracy случайного классификатора будет около 0.52025"
   ]
  },
  {
   "cell_type": "code",
   "execution_count": 12,
   "metadata": {},
   "outputs": [
    {
     "name": "stdout",
     "output_type": "stream",
     "text": [
      "accuracy RF =  0.76875\n"
     ]
    }
   ],
   "source": [
    "classif = RandomForestClassifier(n_estimators=400)\n",
    "classif.fit(X_train, y_train)\n",
    "print('accuracy RF = ', classif.score(X_test, y_test))"
   ]
  },
  {
   "cell_type": "code",
   "execution_count": 13,
   "metadata": {},
   "outputs": [
    {
     "name": "stdout",
     "output_type": "stream",
     "text": [
      "accuracy LR =  0.752\n"
     ]
    }
   ],
   "source": [
    "classif = LogisticRegression()\n",
    "classif.fit(X_train, y_train)\n",
    "print('accuracy LR = ', classif.score(X_test, y_test))"
   ]
  },
  {
   "cell_type": "markdown",
   "metadata": {},
   "source": [
    "Видим, что RF и LR из коробки без какой либо настройки параметров уже показывают неплохое качество классификации, а значит можно сделать вывод, что treatment зависит от объектов "
   ]
  },
  {
   "cell_type": "markdown",
   "metadata": {},
   "source": [
    "###  Оценка ATE"
   ]
  },
  {
   "cell_type": "markdown",
   "metadata": {},
   "source": [
    "Будем определять ATE как $\\tau = E [Y_{i}(1)-Y_{i}(0)]$ , где $Y_{i} = y_{1} - y_{0}$  "
   ]
  },
  {
   "cell_type": "markdown",
   "metadata": {},
   "source": [
    "### 1) Наивная оценка \n",
    "Поскольку нам неизвестны значения $y_{0}$ до начала эксперимен, при наивной оценке будем предполагать , что $E(y_{0}(1)) = E(y_{1}(0))$ .   \n",
    "Данное условие должно выполняться при условии полной независимости treatment от объектов, которая предполагается при наивном подходе\n",
    "Предположим, что эксеримент был рандомизирован. Тогда $\\tau_{naive} = E [Y_{i}(1)-Y_{i}(0)] = E [Y_{i}(1)|W_{i} = 1] - E[Y_{i}(0)|W_{i} = 0] $ "
   ]
  },
  {
   "cell_type": "code",
   "execution_count": 14,
   "metadata": {},
   "outputs": [
    {
     "name": "stdout",
     "output_type": "stream",
     "text": [
      "tau_naive =  0.4001031055444413\n",
      "доверительный интервал  (0.3160695160343505, 0.4841366950545045)\n"
     ]
    }
   ],
   "source": [
    "tau_naive_part1 = treatment_part1.y.mean() - control_part1.y.mean()\n",
    "print('tau_naive = ', tau_naive_part1)\n",
    "CM = CompareMeans(DescrStatsW(treatment_part1.y), DescrStatsW(control_part1.y)).tconfint_diff()\n",
    "print('доверительный интервал ', CM)"
   ]
  },
  {
   "cell_type": "markdown",
   "metadata": {},
   "source": [
    "Полученным результатам не стоит доверять, поскольку выше было показано что treatent зависит от объектов.  \n",
    "Попробуем скорректировать оценку ATE, учтя признаки объектов "
   ]
  },
  {
   "cell_type": "markdown",
   "metadata": {},
   "source": [
    "### 2) Оценка ATE с помощью регрессии"
   ]
  },
  {
   "cell_type": "markdown",
   "metadata": {},
   "source": [
    "Перед оценкой ATE сделаем следующие предположения о выборках:  \n",
    "- 1) __unconfoundedness__ :   \n",
    "treatment assignment не зависит от результата эксперемента при условии контроля за X. Как было показано выше, полная независимость не выполняется, однако это не мешает выполнению данного предположения.\n",
    "- 2) __Overlap__ :  \n",
    "Нет таких характерных объектов, для которых не возможен treatment."
   ]
  },
  {
   "cell_type": "markdown",
   "metadata": {},
   "source": [
    "Будем строить регрессию:  \n",
    "\n",
    "$y_{i1} = \\alpha + \\beta y_{i0} + \\tau W + \\epsilon _{i}$  \n",
    "\n",
    "Оценкой ATE будет коэф. $\\tau$  \n",
    "Так как нам не известны значения целевой переменной до эксперемента, будем использовать вместо $y_{i0}$ признаки, описывающие обьекты "
   ]
  },
  {
   "cell_type": "code",
   "execution_count": 15,
   "metadata": {},
   "outputs": [
    {
     "name": "stdout",
     "output_type": "stream",
     "text": [
      "                            OLS Regression Results                            \n",
      "==============================================================================\n",
      "Dep. Variable:                      y   R-squared:                       0.016\n",
      "Model:                            OLS   Adj. R-squared:                  0.015\n",
      "Method:                 Least Squares   F-statistic:                     28.94\n",
      "Date:                Thu, 20 May 2021   Prob (F-statistic):           3.99e-61\n",
      "Time:                        16:12:51   Log-Likelihood:                -50425.\n",
      "No. Observations:               20000   AIC:                         1.009e+05\n",
      "Df Residuals:                   19988   BIC:                         1.010e+05\n",
      "Df Model:                          11                                         \n",
      "Covariance Type:            nonrobust                                         \n",
      "==============================================================================\n",
      "                 coef    std err          t      P>|t|      [0.025      0.975]\n",
      "------------------------------------------------------------------------------\n",
      "Intercept      1.4198      0.119     11.981      0.000       1.188       1.652\n",
      "W              0.5134      0.049     10.467      0.000       0.417       0.610\n",
      "X_1           -0.2255      0.080     -2.832      0.005      -0.382      -0.069\n",
      "X_2           -0.3571      0.079     -4.502      0.000      -0.513      -0.202\n",
      "X_3           -0.0980      0.073     -1.333      0.183      -0.242       0.046\n",
      "X_4            0.9345      0.074     12.637      0.000       0.790       1.079\n",
      "X_5            0.4214      0.074      5.707      0.000       0.277       0.566\n",
      "X_6            0.1857      0.074      2.519      0.012       0.041       0.330\n",
      "X_7            0.0839      0.074      1.134      0.257      -0.061       0.229\n",
      "X_8           -0.1041      0.074     -1.409      0.159      -0.249       0.041\n",
      "X_9           -0.1173      0.074     -1.587      0.112      -0.262       0.028\n",
      "X_10           0.0494      0.074      0.667      0.505      -0.096       0.194\n",
      "==============================================================================\n",
      "Omnibus:                        0.441   Durbin-Watson:                   1.998\n",
      "Prob(Omnibus):                  0.802   Jarque-Bera (JB):                0.460\n",
      "Skew:                          -0.009   Prob(JB):                        0.795\n",
      "Kurtosis:                       2.984   Cond. No.                         12.9\n",
      "==============================================================================\n",
      "\n",
      "Warnings:\n",
      "[1] Standard Errors assume that the covariance matrix of the errors is correctly specified.\n"
     ]
    }
   ],
   "source": [
    "model = smf.ols('y ~ W +X_1 + X_2 + X_3 + X_4 + X_5 + X_6 + X_7 + X_8 + X_9 + X_10 ', data = data_part_1)\n",
    "fitted = model.fit()\n",
    "print(fitted.summary())"
   ]
  },
  {
   "cell_type": "markdown",
   "metadata": {},
   "source": [
    "Чтобы статистические оценки коэффициентов были корректными, необходимы выполнения следующих условий:  \n",
    "1. __Линейность отклика__\n",
    "2. __Случайность выборки__\n",
    "3. __Полнота ранга X__\n",
    "4. __Нормальность ошибок__\n",
    "5. __Гомоскедастичность ошибок__\n",
    "6. __Случайность ошибок__"
   ]
  },
  {
   "cell_type": "markdown",
   "metadata": {},
   "source": [
    "#### 1. Линенойть отклика \n",
    "Проверим линейность отклика посмотрев не остатки модели. Если данное предположение выполняется, то остатки должны быть распределены по признаком случайно без какой либо зависимости( например квадратичной)"
   ]
  },
  {
   "cell_type": "code",
   "execution_count": 16,
   "metadata": {},
   "outputs": [
    {
     "data": {
      "image/png": "[encoded data removed]",
      "text/plain": [
       "<Figure size 1296x576 with 10 Axes>"
      ]
     },
     "metadata": {},
     "output_type": "display_data"
    }
   ],
   "source": [
    "fig, ax = plt.subplots(2,5, figsize = (18,8))\n",
    "i = 0\n",
    "j = 0\n",
    "for feature in data_part_1.iloc[:, 2:12].columns.tolist():\n",
    "    ax[j,i].set_xlabel(feature)\n",
    "    ax[j,i].scatter(data_part_1[feature], fitted.resid, alpha = 0.3)\n",
    "    i+=1\n",
    "    if i > 4:\n",
    "        i = 0\n",
    "        j +=1"
   ]
  },
  {
   "cell_type": "markdown",
   "metadata": {},
   "source": [
    "Видим, что все остатки распределены линейно относительно фичей.  \n",
    "Делаем вывод, что условие линейности отклика выполняется."
   ]
  },
  {
   "cell_type": "markdown",
   "metadata": {},
   "source": [
    "#### 2. Случайность выборки  \n",
    "Данное условие выполняется при правильном дизайне эксперемента.  \n",
    "Будем считать что для нашего набора данных данное условие выполнено."
   ]
  },
  {
   "cell_type": "markdown",
   "metadata": {},
   "source": [
    "#### 3. Полнота ранга.\n",
    "Построим матрицу корреляций"
   ]
  },
  {
   "cell_type": "code",
   "execution_count": 17,
   "metadata": {},
   "outputs": [
    {
     "data": {
      "text/html": [
       "<div>\n",
       "<style scoped>\n",
       "    .dataframe tbody tr th:only-of-type {\n",
       "        vertical-align: middle;\n",
       "    }\n",
       "\n",
       "    .dataframe tbody tr th {\n",
       "        vertical-align: top;\n",
       "    }\n",
       "\n",
       "    .dataframe thead th {\n",
       "        text-align: right;\n",
       "    }\n",
       "</style>\n",
       "<table border=\"1\" class=\"dataframe\">\n",
       "  <thead>\n",
       "    <tr style=\"text-align: right;\">\n",
       "      <th></th>\n",
       "      <th>X_1</th>\n",
       "      <th>X_2</th>\n",
       "      <th>X_3</th>\n",
       "      <th>X_4</th>\n",
       "      <th>X_5</th>\n",
       "      <th>X_6</th>\n",
       "      <th>X_7</th>\n",
       "      <th>X_8</th>\n",
       "      <th>X_9</th>\n",
       "      <th>X_10</th>\n",
       "    </tr>\n",
       "  </thead>\n",
       "  <tbody>\n",
       "    <tr>\n",
       "      <th>X_1</th>\n",
       "      <td>1.000000</td>\n",
       "      <td>-0.000354</td>\n",
       "      <td>0.001252</td>\n",
       "      <td>0.009507</td>\n",
       "      <td>-0.004616</td>\n",
       "      <td>0.011968</td>\n",
       "      <td>0.006329</td>\n",
       "      <td>0.002976</td>\n",
       "      <td>0.002121</td>\n",
       "      <td>0.004894</td>\n",
       "    </tr>\n",
       "    <tr>\n",
       "      <th>X_2</th>\n",
       "      <td>-0.000354</td>\n",
       "      <td>1.000000</td>\n",
       "      <td>-0.003164</td>\n",
       "      <td>-0.006788</td>\n",
       "      <td>0.008451</td>\n",
       "      <td>0.002302</td>\n",
       "      <td>0.006326</td>\n",
       "      <td>-0.001646</td>\n",
       "      <td>-0.008786</td>\n",
       "      <td>0.002035</td>\n",
       "    </tr>\n",
       "    <tr>\n",
       "      <th>X_3</th>\n",
       "      <td>0.001252</td>\n",
       "      <td>-0.003164</td>\n",
       "      <td>1.000000</td>\n",
       "      <td>-0.003472</td>\n",
       "      <td>-0.007262</td>\n",
       "      <td>-0.003872</td>\n",
       "      <td>0.004052</td>\n",
       "      <td>-0.006677</td>\n",
       "      <td>-0.000599</td>\n",
       "      <td>-0.009377</td>\n",
       "    </tr>\n",
       "    <tr>\n",
       "      <th>X_4</th>\n",
       "      <td>0.009507</td>\n",
       "      <td>-0.006788</td>\n",
       "      <td>-0.003472</td>\n",
       "      <td>1.000000</td>\n",
       "      <td>-0.010954</td>\n",
       "      <td>-0.001131</td>\n",
       "      <td>0.001923</td>\n",
       "      <td>-0.002946</td>\n",
       "      <td>0.005611</td>\n",
       "      <td>0.021488</td>\n",
       "    </tr>\n",
       "    <tr>\n",
       "      <th>X_5</th>\n",
       "      <td>-0.004616</td>\n",
       "      <td>0.008451</td>\n",
       "      <td>-0.007262</td>\n",
       "      <td>-0.010954</td>\n",
       "      <td>1.000000</td>\n",
       "      <td>-0.008475</td>\n",
       "      <td>-0.007144</td>\n",
       "      <td>-0.003614</td>\n",
       "      <td>0.008272</td>\n",
       "      <td>-0.003380</td>\n",
       "    </tr>\n",
       "    <tr>\n",
       "      <th>X_6</th>\n",
       "      <td>0.011968</td>\n",
       "      <td>0.002302</td>\n",
       "      <td>-0.003872</td>\n",
       "      <td>-0.001131</td>\n",
       "      <td>-0.008475</td>\n",
       "      <td>1.000000</td>\n",
       "      <td>0.000642</td>\n",
       "      <td>0.001326</td>\n",
       "      <td>0.006686</td>\n",
       "      <td>0.005137</td>\n",
       "    </tr>\n",
       "    <tr>\n",
       "      <th>X_7</th>\n",
       "      <td>0.006329</td>\n",
       "      <td>0.006326</td>\n",
       "      <td>0.004052</td>\n",
       "      <td>0.001923</td>\n",
       "      <td>-0.007144</td>\n",
       "      <td>0.000642</td>\n",
       "      <td>1.000000</td>\n",
       "      <td>-0.006870</td>\n",
       "      <td>0.006863</td>\n",
       "      <td>-0.003441</td>\n",
       "    </tr>\n",
       "    <tr>\n",
       "      <th>X_8</th>\n",
       "      <td>0.002976</td>\n",
       "      <td>-0.001646</td>\n",
       "      <td>-0.006677</td>\n",
       "      <td>-0.002946</td>\n",
       "      <td>-0.003614</td>\n",
       "      <td>0.001326</td>\n",
       "      <td>-0.006870</td>\n",
       "      <td>1.000000</td>\n",
       "      <td>0.000887</td>\n",
       "      <td>-0.004628</td>\n",
       "    </tr>\n",
       "    <tr>\n",
       "      <th>X_9</th>\n",
       "      <td>0.002121</td>\n",
       "      <td>-0.008786</td>\n",
       "      <td>-0.000599</td>\n",
       "      <td>0.005611</td>\n",
       "      <td>0.008272</td>\n",
       "      <td>0.006686</td>\n",
       "      <td>0.006863</td>\n",
       "      <td>0.000887</td>\n",
       "      <td>1.000000</td>\n",
       "      <td>-0.008186</td>\n",
       "    </tr>\n",
       "    <tr>\n",
       "      <th>X_10</th>\n",
       "      <td>0.004894</td>\n",
       "      <td>0.002035</td>\n",
       "      <td>-0.009377</td>\n",
       "      <td>0.021488</td>\n",
       "      <td>-0.003380</td>\n",
       "      <td>0.005137</td>\n",
       "      <td>-0.003441</td>\n",
       "      <td>-0.004628</td>\n",
       "      <td>-0.008186</td>\n",
       "      <td>1.000000</td>\n",
       "    </tr>\n",
       "  </tbody>\n",
       "</table>\n",
       "</div>"
      ],
      "text/plain": [
       "           X_1       X_2       X_3       X_4       X_5       X_6       X_7  \\\n",
       "X_1   1.000000 -0.000354  0.001252  0.009507 -0.004616  0.011968  0.006329   \n",
       "X_2  -0.000354  1.000000 -0.003164 -0.006788  0.008451  0.002302  0.006326   \n",
       "X_3   0.001252 -0.003164  1.000000 -0.003472 -0.007262 -0.003872  0.004052   \n",
       "X_4   0.009507 -0.006788 -0.003472  1.000000 -0.010954 -0.001131  0.001923   \n",
       "X_5  -0.004616  0.008451 -0.007262 -0.010954  1.000000 -0.008475 -0.007144   \n",
       "X_6   0.011968  0.002302 -0.003872 -0.001131 -0.008475  1.000000  0.000642   \n",
       "X_7   0.006329  0.006326  0.004052  0.001923 -0.007144  0.000642  1.000000   \n",
       "X_8   0.002976 -0.001646 -0.006677 -0.002946 -0.003614  0.001326 -0.006870   \n",
       "X_9   0.002121 -0.008786 -0.000599  0.005611  0.008272  0.006686  0.006863   \n",
       "X_10  0.004894  0.002035 -0.009377  0.021488 -0.003380  0.005137 -0.003441   \n",
       "\n",
       "           X_8       X_9      X_10  \n",
       "X_1   0.002976  0.002121  0.004894  \n",
       "X_2  -0.001646 -0.008786  0.002035  \n",
       "X_3  -0.006677 -0.000599 -0.009377  \n",
       "X_4  -0.002946  0.005611  0.021488  \n",
       "X_5  -0.003614  0.008272 -0.003380  \n",
       "X_6   0.001326  0.006686  0.005137  \n",
       "X_7  -0.006870  0.006863 -0.003441  \n",
       "X_8   1.000000  0.000887 -0.004628  \n",
       "X_9   0.000887  1.000000 -0.008186  \n",
       "X_10 -0.004628 -0.008186  1.000000  "
      ]
     },
     "execution_count": 17,
     "metadata": {},
     "output_type": "execute_result"
    }
   ],
   "source": [
    "data_part_1.iloc[:, 2:12].corr() "
   ]
  },
  {
   "cell_type": "markdown",
   "metadata": {},
   "source": [
    "Видим, что ни у одной пары признаков корреляция не превашает 0.05. Также в регрессионной модели нет аномально больших коэффициентов.  \n",
    "Считаем данное условие выполненым"
   ]
  },
  {
   "cell_type": "markdown",
   "metadata": {},
   "source": [
    "#### 4. Нормальность ошибок.  \n",
    "Построим распределение, Q-Q Plot и проверим данное предположение с помошью критерия Шапиро-Уилка"
   ]
  },
  {
   "cell_type": "code",
   "execution_count": 18,
   "metadata": {},
   "outputs": [
    {
     "data": {
      "text/plain": [
       "<matplotlib.axes._subplots.AxesSubplot at 0x7fcd482836a0>"
      ]
     },
     "execution_count": 18,
     "metadata": {},
     "output_type": "execute_result"
    },
    {
     "data": {
      "image/png": "[encoded data removed]",
      "text/plain": [
       "<Figure size 432x288 with 1 Axes>"
      ]
     },
     "metadata": {},
     "output_type": "display_data"
    }
   ],
   "source": [
    "plt.xlabel('resid')\n",
    "fitted.resid.hist(bins = 50)"
   ]
  },
  {
   "cell_type": "markdown",
   "metadata": {},
   "source": [
    "Видим, что распределение очень похоже на нормальное.  \n",
    "Построим Q-Q Plot"
   ]
  },
  {
   "cell_type": "code",
   "execution_count": 19,
   "metadata": {},
   "outputs": [
    {
     "data": {
      "text/plain": [
       "((array([-3.97862997, -3.7624649 , -3.64418052, ...,  3.64418052,\n",
       "          3.7624649 ,  3.97862997]),\n",
       "  array([-11.1485258 , -11.11323858, -10.76254135, ...,  10.95921614,\n",
       "          11.20321716,  12.48987672])),\n",
       " (3.01158311146289, 2.3239521398484612e-15, 0.9999755081403386))"
      ]
     },
     "execution_count": 19,
     "metadata": {},
     "output_type": "execute_result"
    },
    {
     "data": {
      "image/png": "[encoded data removed]",
      "text/plain": [
       "<Figure size 432x288 with 1 Axes>"
      ]
     },
     "metadata": {},
     "output_type": "display_data"
    }
   ],
   "source": [
    "stats.probplot(fitted.resid, plot = plt, rvalue=True)"
   ]
  },
  {
   "cell_type": "markdown",
   "metadata": {},
   "source": [
    "Видим, что точки лежат на прямой.  \n",
    "Уже  можно сделать вывод о нормальности остатков.  \n",
    "Проверим данное предположение формально с помощью теста Шапиро-Уилка\n",
    "\n",
    "H0 - целевая переменная распределена нормально  \n",
    "H1 - распределение отличается от нормального  \n",
    "Примем уровень значимости $\\alpha =$0.05"
   ]
  },
  {
   "cell_type": "code",
   "execution_count": 20,
   "metadata": {},
   "outputs": [
    {
     "name": "stdout",
     "output_type": "stream",
     "text": [
      "p_value =  0.969084620475769\n"
     ]
    },
    {
     "name": "stderr",
     "output_type": "stream",
     "text": [
      "/home/dimsap/anaconda3/lib/python3.8/site-packages/scipy/stats/morestats.py:1681: UserWarning: p-value may not be accurate for N > 5000.\n",
      "  warnings.warn(\"p-value may not be accurate for N > 5000.\")\n"
     ]
    }
   ],
   "source": [
    "print('p_value = ', stats.shapiro(fitted.resid).pvalue)"
   ]
  },
  {
   "cell_type": "markdown",
   "metadata": {},
   "source": [
    "Видим, что нулевую гипотезу отвергнуть нельзя, а зачит делаем вывод, что остатки распределены нормально "
   ]
  },
  {
   "cell_type": "markdown",
   "metadata": {},
   "source": [
    "#### 5. Гомоскедаксичность ошибок \n",
    "Проверим данное предположение с помощью теста Бройша — Пагана.  \n",
    "\n",
    "H0 - дисперсия постоянна  \n",
    "H1 - нулевая гипотеза не верна  \n",
    "Примем уровень значимости  𝛼= 0.05"
   ]
  },
  {
   "cell_type": "code",
   "execution_count": 21,
   "metadata": {},
   "outputs": [
    {
     "name": "stdout",
     "output_type": "stream",
     "text": [
      "p_value = 0.8045571431908418\n"
     ]
    }
   ],
   "source": [
    "print('p_value =', sms.het_breuschpagan(fitted.resid, fitted.model.exog)[1])"
   ]
  },
  {
   "cell_type": "markdown",
   "metadata": {},
   "source": [
    "Видим, что нулевая гипотеза принимается, а значит делаем вывод, что ошибки гомоскедаксичны и регрессия не нуждается в поправке(например Уайта)"
   ]
  },
  {
   "cell_type": "markdown",
   "metadata": {},
   "source": [
    "#### 6. Случайность ошибок\n",
    "То есть мат ожидание остатков должно быть равно нулю $E(\\epsilon|x) = 0$  \n",
    "Будем проверять данное предположение с помощью t-теста. Так как мы уже доказали нормальность остатков, можно смело его применять "
   ]
  },
  {
   "cell_type": "code",
   "execution_count": 22,
   "metadata": {},
   "outputs": [
    {
     "name": "stdout",
     "output_type": "stream",
     "text": [
      "p_value = 0.9999999999999558\n"
     ]
    }
   ],
   "source": [
    "print('p_value =', stats.ttest_1samp(fitted.resid, 0).pvalue)"
   ]
  },
  {
   "cell_type": "markdown",
   "metadata": {},
   "source": [
    "Делаем вывод что средние ошибок равно нулю"
   ]
  },
  {
   "cell_type": "markdown",
   "metadata": {},
   "source": [
    "Таким образом, мы доказали состоятельность статистических оценок регрессии.  \n",
    "Теперь мы можем доверять p_value полученные при проверки гипотезы о равенстве нулю коэффициентов, поэтому уберем признаки, p_value которых больше 0.05"
   ]
  },
  {
   "cell_type": "code",
   "execution_count": 23,
   "metadata": {},
   "outputs": [
    {
     "name": "stdout",
     "output_type": "stream",
     "text": [
      "                            OLS Regression Results                            \n",
      "==============================================================================\n",
      "Dep. Variable:                      y   R-squared:                       0.015\n",
      "Model:                            OLS   Adj. R-squared:                  0.015\n",
      "Method:                 Least Squares   F-statistic:                     51.70\n",
      "Date:                Thu, 20 May 2021   Prob (F-statistic):           1.68e-63\n",
      "Time:                        16:12:54   Log-Likelihood:                -50429.\n",
      "No. Observations:               20000   AIC:                         1.009e+05\n",
      "Df Residuals:                   19993   BIC:                         1.009e+05\n",
      "Df Model:                           6                                         \n",
      "Covariance Type:            nonrobust                                         \n",
      "==============================================================================\n",
      "                 coef    std err          t      P>|t|      [0.025      0.975]\n",
      "------------------------------------------------------------------------------\n",
      "Intercept      1.3255      0.085     15.547      0.000       1.158       1.493\n",
      "W              0.5138      0.049     10.476      0.000       0.418       0.610\n",
      "X_1           -0.2256      0.080     -2.834      0.005      -0.382      -0.070\n",
      "X_2           -0.3552      0.079     -4.478      0.000      -0.511      -0.200\n",
      "X_4            0.9357      0.074     12.655      0.000       0.791       1.081\n",
      "X_5            0.4207      0.074      5.699      0.000       0.276       0.565\n",
      "X_6            0.1855      0.074      2.516      0.012       0.041       0.330\n",
      "==============================================================================\n",
      "Omnibus:                        0.481   Durbin-Watson:                   1.998\n",
      "Prob(Omnibus):                  0.786   Jarque-Bera (JB):                0.503\n",
      "Skew:                          -0.008   Prob(JB):                        0.778\n",
      "Kurtosis:                       2.981   Cond. No.                         8.70\n",
      "==============================================================================\n",
      "\n",
      "Warnings:\n",
      "[1] Standard Errors assume that the covariance matrix of the errors is correctly specified.\n"
     ]
    }
   ],
   "source": [
    "model = smf.ols('y ~ W +X_1 + X_2  + X_4 + X_5 + X_6 ', data = data_part_1)\n",
    "fitted = model.fit()\n",
    "print(fitted.summary())"
   ]
  },
  {
   "cell_type": "markdown",
   "metadata": {},
   "source": [
    "Таким образом, АТЕ оцененной с помощью регрессии, равен \n",
    "- $\\tau = 0.5138$  \n",
    "- доверительный интервал: [0.418       0.610]  "
   ]
  },
  {
   "cell_type": "markdown",
   "metadata": {},
   "source": [
    "### 3) Propensity  Score"
   ]
  },
  {
   "cell_type": "markdown",
   "metadata": {},
   "source": [
    "В качестве модели для определения вероятности принадлежности класса будем использовать LogReg"
   ]
  },
  {
   "cell_type": "code",
   "execution_count": 24,
   "metadata": {},
   "outputs": [],
   "source": [
    "classif = LogisticRegression()\n",
    "classif.fit(data_part_1.iloc[:, 2:12], data_part_1.W)\n",
    "prob_W = classif.predict_proba(data_part_1.iloc[:, 2:12])\n"
   ]
  },
  {
   "cell_type": "code",
   "execution_count": 25,
   "metadata": {},
   "outputs": [],
   "source": [
    "data_part_1['weight'] = [prob_W[i][0] if data_part_1.W[i] == 0 \n",
    "                                      else prob_W[i][1] for i in range(data_part_1.shape[0])] # веса-вероятность"
   ]
  },
  {
   "cell_type": "markdown",
   "metadata": {},
   "source": [
    "Построим взвешенную регрессию "
   ]
  },
  {
   "cell_type": "code",
   "execution_count": 26,
   "metadata": {},
   "outputs": [
    {
     "name": "stdout",
     "output_type": "stream",
     "text": [
      "                            WLS Regression Results                            \n",
      "==============================================================================\n",
      "Dep. Variable:                      y   R-squared:                       0.030\n",
      "Model:                            WLS   Adj. R-squared:                  0.030\n",
      "Method:                 Least Squares   F-statistic:                     56.28\n",
      "Date:                Thu, 20 May 2021   Prob (F-statistic):          1.09e-123\n",
      "Time:                        16:12:55   Log-Likelihood:                -52544.\n",
      "No. Observations:               20000   AIC:                         1.051e+05\n",
      "Df Residuals:                   19988   BIC:                         1.052e+05\n",
      "Df Model:                          11                                         \n",
      "Covariance Type:            nonrobust                                         \n",
      "==============================================================================\n",
      "                 coef    std err          t      P>|t|      [0.025      0.975]\n",
      "------------------------------------------------------------------------------\n",
      "Intercept      1.7000      0.121     14.067      0.000       1.463       1.937\n",
      "W              0.5955      0.043     13.732      0.000       0.511       0.681\n",
      "X_1           -0.4478      0.072     -6.241      0.000      -0.588      -0.307\n",
      "X_2           -0.5895      0.071     -8.296      0.000      -0.729      -0.450\n",
      "X_3           -0.3180      0.074     -4.316      0.000      -0.462      -0.174\n",
      "X_4            0.9632      0.075     12.904      0.000       0.817       1.110\n",
      "X_5            0.4167      0.074      5.640      0.000       0.272       0.561\n",
      "X_6            0.2324      0.074      3.147      0.002       0.088       0.377\n",
      "X_7            0.1352      0.074      1.816      0.069      -0.011       0.281\n",
      "X_8           -0.1627      0.074     -2.190      0.029      -0.308      -0.017\n",
      "X_9           -0.1698      0.074     -2.289      0.022      -0.315      -0.024\n",
      "X_10          -0.0391      0.074     -0.527      0.598      -0.184       0.106\n",
      "==============================================================================\n",
      "Omnibus:                     1961.289   Durbin-Watson:                   1.996\n",
      "Prob(Omnibus):                  0.000   Jarque-Bera (JB):            15620.737\n",
      "Skew:                          -0.032   Prob(JB):                         0.00\n",
      "Kurtosis:                       7.329   Cond. No.                         13.0\n",
      "==============================================================================\n",
      "\n",
      "Warnings:\n",
      "[1] Standard Errors assume that the covariance matrix of the errors is correctly specified.\n"
     ]
    }
   ],
   "source": [
    "model = smf.wls('y ~ W +X_1 + X_2 + X_3 + X_4 + X_5 + X_6 + X_7 + X_8 + X_9 + X_10', data = data_part_1,weights = 1/data_part_1.weight )\n",
    "fitted = model.fit()\n",
    "print(fitted.summary())"
   ]
  },
  {
   "cell_type": "markdown",
   "metadata": {},
   "source": [
    "Все условия, необходимые для корректных статистических оценок коэффициентов __выполнены__.\n",
    "Проверка проводилась аналогично проверке выше. Выкладки опустим.  \n",
    "\n",
    "\n",
    "Таким образом, при данном подходе получаем следующие оценки АТЕ: \n",
    "\n",
    "- $\\tau = 0.5955$\n",
    "- доверительный интервал [ 0.511       0.681]   \n",
    "\n",
    "Доверительный интервал стал уже, однако сам ATE сместился "
   ]
  },
  {
   "cell_type": "markdown",
   "metadata": {},
   "source": [
    "##  Выводы часть 1"
   ]
  },
  {
   "cell_type": "markdown",
   "metadata": {},
   "source": [
    "Для оценки АТЕ были применены следующие методы и получены следующие результаты:  \n",
    "1. __Наивная оценка__:  \n",
    " $\\tau = 0.4001$  \n",
    " доверительный интервал  [0.3161     0.4841]  \n",
    "2. __Оценка с помощью регрессии__:  \n",
    " $\\tau = 0.5138$  \n",
    " доверительный интервал: [0.418       0.610] \n",
    "3. __Propensity Score__:  \n",
    " $\\tau = 0.5955$  \n",
    " доверительный интервал [ 0.511       0.681]   "
   ]
  },
  {
   "cell_type": "markdown",
   "metadata": {},
   "source": [
    "Видим, что наивная оценка меньше чем оценка регрессии и Propensity Score. Скорее всего это связано с тем, что мы не могли учесть значения y_0 до начала эксперимента при наивной оценке."
   ]
  },
  {
   "cell_type": "markdown",
   "metadata": {},
   "source": [
    "Поскольку было показано, что treatment зависит от объектов, нет смысла доверять наивной оценке.  \n",
    "За счет учёта ковариат, оценка регрессии внес корректировку в оценку АТЕ и данный результат является более убедительным.  \n",
    "Качество Propensity Score во многом зависит от модели настройки весов, однака данная поправка нужна, так как данные поделены по группам не случайно. Также заметим, что доверительные интервалы ANCOVA и Propensity Score пересекаются.   \n",
    "\n",
    "Наиболее убедительной является оценка Propensity Score, поскольку она учитывает не случайное разбиение по группам, а также учитывает ковариаты X"
   ]
  },
  {
   "cell_type": "markdown",
   "metadata": {},
   "source": [
    "# Часть 2"
   ]
  },
  {
   "cell_type": "code",
   "execution_count": 27,
   "metadata": {},
   "outputs": [],
   "source": [
    "data_part_2 = pd.read_csv('data/data/dataset_part2_students.csv', sep = '\\t')\n",
    "data_part_2['Y_i'] =  data_part_2.y_1 - data_part_2.y_0 "
   ]
  },
  {
   "cell_type": "markdown",
   "metadata": {},
   "source": [
    "Скачаем данные и разобьем на treatment и control группы"
   ]
  },
  {
   "cell_type": "code",
   "execution_count": 28,
   "metadata": {},
   "outputs": [],
   "source": [
    "control_part2 = data_part_2[data_part_2.W == 0.0].copy()\n",
    "treatment_part2 = data_part_2[data_part_2.W == 1.0].copy()"
   ]
  },
  {
   "cell_type": "markdown",
   "metadata": {},
   "source": [
    "Посмотим на данные "
   ]
  },
  {
   "cell_type": "code",
   "execution_count": 29,
   "metadata": {},
   "outputs": [
    {
     "data": {
      "text/html": [
       "<div>\n",
       "<style scoped>\n",
       "    .dataframe tbody tr th:only-of-type {\n",
       "        vertical-align: middle;\n",
       "    }\n",
       "\n",
       "    .dataframe tbody tr th {\n",
       "        vertical-align: top;\n",
       "    }\n",
       "\n",
       "    .dataframe thead th {\n",
       "        text-align: right;\n",
       "    }\n",
       "</style>\n",
       "<table border=\"1\" class=\"dataframe\">\n",
       "  <thead>\n",
       "    <tr style=\"text-align: right;\">\n",
       "      <th></th>\n",
       "      <th>y_1</th>\n",
       "      <th>y_0</th>\n",
       "      <th>W</th>\n",
       "      <th>X_1</th>\n",
       "      <th>X_2</th>\n",
       "      <th>X_3</th>\n",
       "      <th>X_4</th>\n",
       "      <th>X_5</th>\n",
       "      <th>X_6</th>\n",
       "      <th>X_7</th>\n",
       "      <th>X_8</th>\n",
       "      <th>X_9</th>\n",
       "      <th>X_10</th>\n",
       "      <th>Y_i</th>\n",
       "    </tr>\n",
       "  </thead>\n",
       "  <tbody>\n",
       "    <tr>\n",
       "      <th>0</th>\n",
       "      <td>5.887156</td>\n",
       "      <td>2.785060</td>\n",
       "      <td>1.0</td>\n",
       "      <td>0.605978</td>\n",
       "      <td>0.733369</td>\n",
       "      <td>0.138947</td>\n",
       "      <td>0.312673</td>\n",
       "      <td>0.997243</td>\n",
       "      <td>0.128162</td>\n",
       "      <td>0.178993</td>\n",
       "      <td>0.752925</td>\n",
       "      <td>0.662161</td>\n",
       "      <td>0.784310</td>\n",
       "      <td>3.102097</td>\n",
       "    </tr>\n",
       "    <tr>\n",
       "      <th>1</th>\n",
       "      <td>2.232601</td>\n",
       "      <td>5.533515</td>\n",
       "      <td>0.0</td>\n",
       "      <td>0.096894</td>\n",
       "      <td>0.058571</td>\n",
       "      <td>0.962396</td>\n",
       "      <td>0.616557</td>\n",
       "      <td>0.086630</td>\n",
       "      <td>0.561272</td>\n",
       "      <td>0.616525</td>\n",
       "      <td>0.963843</td>\n",
       "      <td>0.574304</td>\n",
       "      <td>0.371161</td>\n",
       "      <td>-3.300914</td>\n",
       "    </tr>\n",
       "    <tr>\n",
       "      <th>2</th>\n",
       "      <td>0.144419</td>\n",
       "      <td>0.095546</td>\n",
       "      <td>1.0</td>\n",
       "      <td>0.452145</td>\n",
       "      <td>0.201850</td>\n",
       "      <td>0.569305</td>\n",
       "      <td>0.195096</td>\n",
       "      <td>0.583704</td>\n",
       "      <td>0.476313</td>\n",
       "      <td>0.517814</td>\n",
       "      <td>0.823099</td>\n",
       "      <td>0.732225</td>\n",
       "      <td>0.069056</td>\n",
       "      <td>0.048874</td>\n",
       "    </tr>\n",
       "    <tr>\n",
       "      <th>3</th>\n",
       "      <td>-2.446425</td>\n",
       "      <td>3.590472</td>\n",
       "      <td>1.0</td>\n",
       "      <td>0.672129</td>\n",
       "      <td>0.643485</td>\n",
       "      <td>0.828014</td>\n",
       "      <td>0.204469</td>\n",
       "      <td>0.617489</td>\n",
       "      <td>0.617701</td>\n",
       "      <td>0.301069</td>\n",
       "      <td>0.871741</td>\n",
       "      <td>0.589654</td>\n",
       "      <td>0.981770</td>\n",
       "      <td>-6.036897</td>\n",
       "    </tr>\n",
       "    <tr>\n",
       "      <th>4</th>\n",
       "      <td>2.163090</td>\n",
       "      <td>1.365405</td>\n",
       "      <td>0.0</td>\n",
       "      <td>0.442232</td>\n",
       "      <td>0.126318</td>\n",
       "      <td>0.508831</td>\n",
       "      <td>0.431786</td>\n",
       "      <td>0.915940</td>\n",
       "      <td>0.709016</td>\n",
       "      <td>0.890655</td>\n",
       "      <td>0.588886</td>\n",
       "      <td>0.636830</td>\n",
       "      <td>0.342209</td>\n",
       "      <td>0.797684</td>\n",
       "    </tr>\n",
       "  </tbody>\n",
       "</table>\n",
       "</div>"
      ],
      "text/plain": [
       "        y_1       y_0    W       X_1       X_2       X_3       X_4       X_5  \\\n",
       "0  5.887156  2.785060  1.0  0.605978  0.733369  0.138947  0.312673  0.997243   \n",
       "1  2.232601  5.533515  0.0  0.096894  0.058571  0.962396  0.616557  0.086630   \n",
       "2  0.144419  0.095546  1.0  0.452145  0.201850  0.569305  0.195096  0.583704   \n",
       "3 -2.446425  3.590472  1.0  0.672129  0.643485  0.828014  0.204469  0.617489   \n",
       "4  2.163090  1.365405  0.0  0.442232  0.126318  0.508831  0.431786  0.915940   \n",
       "\n",
       "        X_6       X_7       X_8       X_9      X_10       Y_i  \n",
       "0  0.128162  0.178993  0.752925  0.662161  0.784310  3.102097  \n",
       "1  0.561272  0.616525  0.963843  0.574304  0.371161 -3.300914  \n",
       "2  0.476313  0.517814  0.823099  0.732225  0.069056  0.048874  \n",
       "3  0.617701  0.301069  0.871741  0.589654  0.981770 -6.036897  \n",
       "4  0.709016  0.890655  0.588886  0.636830  0.342209  0.797684  "
      ]
     },
     "execution_count": 29,
     "metadata": {},
     "output_type": "execute_result"
    }
   ],
   "source": [
    "data_part_2.head()"
   ]
  },
  {
   "cell_type": "code",
   "execution_count": 30,
   "metadata": {},
   "outputs": [
    {
     "data": {
      "text/html": [
       "<div>\n",
       "<style scoped>\n",
       "    .dataframe tbody tr th:only-of-type {\n",
       "        vertical-align: middle;\n",
       "    }\n",
       "\n",
       "    .dataframe tbody tr th {\n",
       "        vertical-align: top;\n",
       "    }\n",
       "\n",
       "    .dataframe thead th {\n",
       "        text-align: right;\n",
       "    }\n",
       "</style>\n",
       "<table border=\"1\" class=\"dataframe\">\n",
       "  <thead>\n",
       "    <tr style=\"text-align: right;\">\n",
       "      <th></th>\n",
       "      <th>y_1</th>\n",
       "      <th>y_0</th>\n",
       "      <th>W</th>\n",
       "      <th>X_1</th>\n",
       "      <th>X_2</th>\n",
       "      <th>X_3</th>\n",
       "      <th>X_4</th>\n",
       "      <th>X_5</th>\n",
       "      <th>X_6</th>\n",
       "      <th>X_7</th>\n",
       "      <th>X_8</th>\n",
       "      <th>X_9</th>\n",
       "      <th>X_10</th>\n",
       "      <th>Y_i</th>\n",
       "    </tr>\n",
       "  </thead>\n",
       "  <tbody>\n",
       "    <tr>\n",
       "      <th>count</th>\n",
       "      <td>4760.000000</td>\n",
       "      <td>4760.000000</td>\n",
       "      <td>4760.0</td>\n",
       "      <td>4760.000000</td>\n",
       "      <td>4760.000000</td>\n",
       "      <td>4760.000000</td>\n",
       "      <td>4760.000000</td>\n",
       "      <td>4760.000000</td>\n",
       "      <td>4760.000000</td>\n",
       "      <td>4760.000000</td>\n",
       "      <td>4760.000000</td>\n",
       "      <td>4760.000000</td>\n",
       "      <td>4760.000000</td>\n",
       "      <td>4760.000000</td>\n",
       "    </tr>\n",
       "    <tr>\n",
       "      <th>mean</th>\n",
       "      <td>1.878542</td>\n",
       "      <td>0.816187</td>\n",
       "      <td>0.0</td>\n",
       "      <td>0.387120</td>\n",
       "      <td>0.400934</td>\n",
       "      <td>0.495181</td>\n",
       "      <td>0.502530</td>\n",
       "      <td>0.497533</td>\n",
       "      <td>0.499039</td>\n",
       "      <td>0.504281</td>\n",
       "      <td>0.503380</td>\n",
       "      <td>0.501267</td>\n",
       "      <td>0.498942</td>\n",
       "      <td>1.062355</td>\n",
       "    </tr>\n",
       "    <tr>\n",
       "      <th>std</th>\n",
       "      <td>2.071818</td>\n",
       "      <td>2.229064</td>\n",
       "      <td>0.0</td>\n",
       "      <td>0.290765</td>\n",
       "      <td>0.292887</td>\n",
       "      <td>0.289174</td>\n",
       "      <td>0.290800</td>\n",
       "      <td>0.289429</td>\n",
       "      <td>0.288836</td>\n",
       "      <td>0.287523</td>\n",
       "      <td>0.288944</td>\n",
       "      <td>0.284863</td>\n",
       "      <td>0.285771</td>\n",
       "      <td>3.032850</td>\n",
       "    </tr>\n",
       "    <tr>\n",
       "      <th>min</th>\n",
       "      <td>-4.979060</td>\n",
       "      <td>-6.972191</td>\n",
       "      <td>0.0</td>\n",
       "      <td>0.000103</td>\n",
       "      <td>0.000027</td>\n",
       "      <td>0.000052</td>\n",
       "      <td>0.000086</td>\n",
       "      <td>0.000049</td>\n",
       "      <td>0.000078</td>\n",
       "      <td>0.000092</td>\n",
       "      <td>0.000053</td>\n",
       "      <td>0.000300</td>\n",
       "      <td>0.000160</td>\n",
       "      <td>-9.793964</td>\n",
       "    </tr>\n",
       "    <tr>\n",
       "      <th>25%</th>\n",
       "      <td>0.492818</td>\n",
       "      <td>-0.700460</td>\n",
       "      <td>0.0</td>\n",
       "      <td>0.135603</td>\n",
       "      <td>0.144530</td>\n",
       "      <td>0.245455</td>\n",
       "      <td>0.250262</td>\n",
       "      <td>0.240251</td>\n",
       "      <td>0.245968</td>\n",
       "      <td>0.253266</td>\n",
       "      <td>0.258335</td>\n",
       "      <td>0.261758</td>\n",
       "      <td>0.256607</td>\n",
       "      <td>-1.038479</td>\n",
       "    </tr>\n",
       "    <tr>\n",
       "      <th>50%</th>\n",
       "      <td>1.912860</td>\n",
       "      <td>0.821256</td>\n",
       "      <td>0.0</td>\n",
       "      <td>0.317062</td>\n",
       "      <td>0.334214</td>\n",
       "      <td>0.492817</td>\n",
       "      <td>0.500135</td>\n",
       "      <td>0.497575</td>\n",
       "      <td>0.501865</td>\n",
       "      <td>0.502209</td>\n",
       "      <td>0.500092</td>\n",
       "      <td>0.495685</td>\n",
       "      <td>0.489355</td>\n",
       "      <td>1.112133</td>\n",
       "    </tr>\n",
       "    <tr>\n",
       "      <th>75%</th>\n",
       "      <td>3.307287</td>\n",
       "      <td>2.372783</td>\n",
       "      <td>0.0</td>\n",
       "      <td>0.603299</td>\n",
       "      <td>0.644434</td>\n",
       "      <td>0.744003</td>\n",
       "      <td>0.763300</td>\n",
       "      <td>0.748827</td>\n",
       "      <td>0.743682</td>\n",
       "      <td>0.751656</td>\n",
       "      <td>0.756322</td>\n",
       "      <td>0.748285</td>\n",
       "      <td>0.748729</td>\n",
       "      <td>3.136525</td>\n",
       "    </tr>\n",
       "    <tr>\n",
       "      <th>max</th>\n",
       "      <td>10.068061</td>\n",
       "      <td>9.988961</td>\n",
       "      <td>0.0</td>\n",
       "      <td>0.999685</td>\n",
       "      <td>0.999670</td>\n",
       "      <td>0.999702</td>\n",
       "      <td>0.999674</td>\n",
       "      <td>0.999935</td>\n",
       "      <td>0.999986</td>\n",
       "      <td>0.999875</td>\n",
       "      <td>0.999811</td>\n",
       "      <td>0.999841</td>\n",
       "      <td>0.999753</td>\n",
       "      <td>10.723960</td>\n",
       "    </tr>\n",
       "  </tbody>\n",
       "</table>\n",
       "</div>"
      ],
      "text/plain": [
       "               y_1          y_0       W          X_1          X_2  \\\n",
       "count  4760.000000  4760.000000  4760.0  4760.000000  4760.000000   \n",
       "mean      1.878542     0.816187     0.0     0.387120     0.400934   \n",
       "std       2.071818     2.229064     0.0     0.290765     0.292887   \n",
       "min      -4.979060    -6.972191     0.0     0.000103     0.000027   \n",
       "25%       0.492818    -0.700460     0.0     0.135603     0.144530   \n",
       "50%       1.912860     0.821256     0.0     0.317062     0.334214   \n",
       "75%       3.307287     2.372783     0.0     0.603299     0.644434   \n",
       "max      10.068061     9.988961     0.0     0.999685     0.999670   \n",
       "\n",
       "               X_3          X_4          X_5          X_6          X_7  \\\n",
       "count  4760.000000  4760.000000  4760.000000  4760.000000  4760.000000   \n",
       "mean      0.495181     0.502530     0.497533     0.499039     0.504281   \n",
       "std       0.289174     0.290800     0.289429     0.288836     0.287523   \n",
       "min       0.000052     0.000086     0.000049     0.000078     0.000092   \n",
       "25%       0.245455     0.250262     0.240251     0.245968     0.253266   \n",
       "50%       0.492817     0.500135     0.497575     0.501865     0.502209   \n",
       "75%       0.744003     0.763300     0.748827     0.743682     0.751656   \n",
       "max       0.999702     0.999674     0.999935     0.999986     0.999875   \n",
       "\n",
       "               X_8          X_9         X_10          Y_i  \n",
       "count  4760.000000  4760.000000  4760.000000  4760.000000  \n",
       "mean      0.503380     0.501267     0.498942     1.062355  \n",
       "std       0.288944     0.284863     0.285771     3.032850  \n",
       "min       0.000053     0.000300     0.000160    -9.793964  \n",
       "25%       0.258335     0.261758     0.256607    -1.038479  \n",
       "50%       0.500092     0.495685     0.489355     1.112133  \n",
       "75%       0.756322     0.748285     0.748729     3.136525  \n",
       "max       0.999811     0.999841     0.999753    10.723960  "
      ]
     },
     "execution_count": 30,
     "metadata": {},
     "output_type": "execute_result"
    }
   ],
   "source": [
    "control_part2.describe()"
   ]
  },
  {
   "cell_type": "code",
   "execution_count": 31,
   "metadata": {},
   "outputs": [
    {
     "data": {
      "text/html": [
       "<div>\n",
       "<style scoped>\n",
       "    .dataframe tbody tr th:only-of-type {\n",
       "        vertical-align: middle;\n",
       "    }\n",
       "\n",
       "    .dataframe tbody tr th {\n",
       "        vertical-align: top;\n",
       "    }\n",
       "\n",
       "    .dataframe thead th {\n",
       "        text-align: right;\n",
       "    }\n",
       "</style>\n",
       "<table border=\"1\" class=\"dataframe\">\n",
       "  <thead>\n",
       "    <tr style=\"text-align: right;\">\n",
       "      <th></th>\n",
       "      <th>y_1</th>\n",
       "      <th>y_0</th>\n",
       "      <th>W</th>\n",
       "      <th>X_1</th>\n",
       "      <th>X_2</th>\n",
       "      <th>X_3</th>\n",
       "      <th>X_4</th>\n",
       "      <th>X_5</th>\n",
       "      <th>X_6</th>\n",
       "      <th>X_7</th>\n",
       "      <th>X_8</th>\n",
       "      <th>X_9</th>\n",
       "      <th>X_10</th>\n",
       "      <th>Y_i</th>\n",
       "    </tr>\n",
       "  </thead>\n",
       "  <tbody>\n",
       "    <tr>\n",
       "      <th>count</th>\n",
       "      <td>5240.000000</td>\n",
       "      <td>5240.000000</td>\n",
       "      <td>5240.0</td>\n",
       "      <td>5240.000000</td>\n",
       "      <td>5240.000000</td>\n",
       "      <td>5240.000000</td>\n",
       "      <td>5240.000000</td>\n",
       "      <td>5240.000000</td>\n",
       "      <td>5240.000000</td>\n",
       "      <td>5240.000000</td>\n",
       "      <td>5240.000000</td>\n",
       "      <td>5240.000000</td>\n",
       "      <td>5240.000000</td>\n",
       "      <td>5240.000000</td>\n",
       "    </tr>\n",
       "    <tr>\n",
       "      <th>mean</th>\n",
       "      <td>2.309793</td>\n",
       "      <td>0.692534</td>\n",
       "      <td>1.0</td>\n",
       "      <td>0.592249</td>\n",
       "      <td>0.597398</td>\n",
       "      <td>0.501800</td>\n",
       "      <td>0.497781</td>\n",
       "      <td>0.501576</td>\n",
       "      <td>0.494910</td>\n",
       "      <td>0.501227</td>\n",
       "      <td>0.497676</td>\n",
       "      <td>0.503586</td>\n",
       "      <td>0.497798</td>\n",
       "      <td>1.617259</td>\n",
       "    </tr>\n",
       "    <tr>\n",
       "      <th>std</th>\n",
       "      <td>2.057201</td>\n",
       "      <td>2.347146</td>\n",
       "      <td>0.0</td>\n",
       "      <td>0.247503</td>\n",
       "      <td>0.247585</td>\n",
       "      <td>0.291216</td>\n",
       "      <td>0.288283</td>\n",
       "      <td>0.289987</td>\n",
       "      <td>0.288766</td>\n",
       "      <td>0.290932</td>\n",
       "      <td>0.290243</td>\n",
       "      <td>0.288506</td>\n",
       "      <td>0.289166</td>\n",
       "      <td>3.045323</td>\n",
       "    </tr>\n",
       "    <tr>\n",
       "      <th>min</th>\n",
       "      <td>-5.772625</td>\n",
       "      <td>-7.895281</td>\n",
       "      <td>1.0</td>\n",
       "      <td>0.002671</td>\n",
       "      <td>0.002005</td>\n",
       "      <td>0.000128</td>\n",
       "      <td>0.000978</td>\n",
       "      <td>0.000336</td>\n",
       "      <td>0.000002</td>\n",
       "      <td>0.000222</td>\n",
       "      <td>0.000177</td>\n",
       "      <td>0.000286</td>\n",
       "      <td>0.000036</td>\n",
       "      <td>-11.588370</td>\n",
       "    </tr>\n",
       "    <tr>\n",
       "      <th>25%</th>\n",
       "      <td>0.929238</td>\n",
       "      <td>-0.866791</td>\n",
       "      <td>1.0</td>\n",
       "      <td>0.409678</td>\n",
       "      <td>0.402247</td>\n",
       "      <td>0.251946</td>\n",
       "      <td>0.246770</td>\n",
       "      <td>0.251983</td>\n",
       "      <td>0.242064</td>\n",
       "      <td>0.252555</td>\n",
       "      <td>0.242903</td>\n",
       "      <td>0.251594</td>\n",
       "      <td>0.247341</td>\n",
       "      <td>-0.442215</td>\n",
       "    </tr>\n",
       "    <tr>\n",
       "      <th>50%</th>\n",
       "      <td>2.286631</td>\n",
       "      <td>0.679592</td>\n",
       "      <td>1.0</td>\n",
       "      <td>0.609595</td>\n",
       "      <td>0.618647</td>\n",
       "      <td>0.491949</td>\n",
       "      <td>0.497537</td>\n",
       "      <td>0.494650</td>\n",
       "      <td>0.495069</td>\n",
       "      <td>0.500515</td>\n",
       "      <td>0.496058</td>\n",
       "      <td>0.514799</td>\n",
       "      <td>0.496633</td>\n",
       "      <td>1.584368</td>\n",
       "    </tr>\n",
       "    <tr>\n",
       "      <th>75%</th>\n",
       "      <td>3.657720</td>\n",
       "      <td>2.298276</td>\n",
       "      <td>1.0</td>\n",
       "      <td>0.796363</td>\n",
       "      <td>0.804408</td>\n",
       "      <td>0.756589</td>\n",
       "      <td>0.746168</td>\n",
       "      <td>0.757603</td>\n",
       "      <td>0.743879</td>\n",
       "      <td>0.753963</td>\n",
       "      <td>0.750794</td>\n",
       "      <td>0.750788</td>\n",
       "      <td>0.750023</td>\n",
       "      <td>3.721860</td>\n",
       "    </tr>\n",
       "    <tr>\n",
       "      <th>max</th>\n",
       "      <td>10.488659</td>\n",
       "      <td>9.748107</td>\n",
       "      <td>1.0</td>\n",
       "      <td>0.999638</td>\n",
       "      <td>0.999707</td>\n",
       "      <td>0.999982</td>\n",
       "      <td>0.999913</td>\n",
       "      <td>0.999887</td>\n",
       "      <td>0.999989</td>\n",
       "      <td>0.999964</td>\n",
       "      <td>0.999944</td>\n",
       "      <td>0.999981</td>\n",
       "      <td>0.999915</td>\n",
       "      <td>13.164790</td>\n",
       "    </tr>\n",
       "  </tbody>\n",
       "</table>\n",
       "</div>"
      ],
      "text/plain": [
       "               y_1          y_0       W          X_1          X_2  \\\n",
       "count  5240.000000  5240.000000  5240.0  5240.000000  5240.000000   \n",
       "mean      2.309793     0.692534     1.0     0.592249     0.597398   \n",
       "std       2.057201     2.347146     0.0     0.247503     0.247585   \n",
       "min      -5.772625    -7.895281     1.0     0.002671     0.002005   \n",
       "25%       0.929238    -0.866791     1.0     0.409678     0.402247   \n",
       "50%       2.286631     0.679592     1.0     0.609595     0.618647   \n",
       "75%       3.657720     2.298276     1.0     0.796363     0.804408   \n",
       "max      10.488659     9.748107     1.0     0.999638     0.999707   \n",
       "\n",
       "               X_3          X_4          X_5          X_6          X_7  \\\n",
       "count  5240.000000  5240.000000  5240.000000  5240.000000  5240.000000   \n",
       "mean      0.501800     0.497781     0.501576     0.494910     0.501227   \n",
       "std       0.291216     0.288283     0.289987     0.288766     0.290932   \n",
       "min       0.000128     0.000978     0.000336     0.000002     0.000222   \n",
       "25%       0.251946     0.246770     0.251983     0.242064     0.252555   \n",
       "50%       0.491949     0.497537     0.494650     0.495069     0.500515   \n",
       "75%       0.756589     0.746168     0.757603     0.743879     0.753963   \n",
       "max       0.999982     0.999913     0.999887     0.999989     0.999964   \n",
       "\n",
       "               X_8          X_9         X_10          Y_i  \n",
       "count  5240.000000  5240.000000  5240.000000  5240.000000  \n",
       "mean      0.497676     0.503586     0.497798     1.617259  \n",
       "std       0.290243     0.288506     0.289166     3.045323  \n",
       "min       0.000177     0.000286     0.000036   -11.588370  \n",
       "25%       0.242903     0.251594     0.247341    -0.442215  \n",
       "50%       0.496058     0.514799     0.496633     1.584368  \n",
       "75%       0.750794     0.750788     0.750023     3.721860  \n",
       "max       0.999944     0.999981     0.999915    13.164790  "
      ]
     },
     "execution_count": 31,
     "metadata": {},
     "output_type": "execute_result"
    }
   ],
   "source": [
    "treatment_part2.describe()"
   ]
  },
  {
   "cell_type": "markdown",
   "metadata": {},
   "source": [
    "## 1) Проверка равенства средних в выборках после эксперемента и до его начала\n",
    "Оценим точечно равенство средних"
   ]
  },
  {
   "cell_type": "code",
   "execution_count": 32,
   "metadata": {},
   "outputs": [
    {
     "name": "stdout",
     "output_type": "stream",
     "text": [
      "mean_diff_y1 = 0.4312515969250956\n"
     ]
    }
   ],
   "source": [
    "print('mean_diff_y1 =',treatment_part2.y_1.mean() - control_part2.y_1.mean())"
   ]
  },
  {
   "cell_type": "code",
   "execution_count": 33,
   "metadata": {},
   "outputs": [
    {
     "name": "stdout",
     "output_type": "stream",
     "text": [
      "mean_diff_y0 = -0.12365317337202852\n"
     ]
    }
   ],
   "source": [
    "print('mean_diff_y0 =', treatment_part2.y_0.mean() - control_part2.y_0.mean())"
   ]
  },
  {
   "cell_type": "markdown",
   "metadata": {},
   "source": [
    "Видим, что точечные оценки не равны 0. "
   ]
  },
  {
   "cell_type": "markdown",
   "metadata": {},
   "source": [
    "Будем использовать t-test для проверки гипотезы о равенстве средних. Тогда, для корректных результатов такого теста, выборки должны быть из нормального распределения. Проверим это."
   ]
  },
  {
   "cell_type": "code",
   "execution_count": 34,
   "metadata": {},
   "outputs": [
    {
     "data": {
      "image/png": "[encoded data removed]",
      "text/plain": [
       "<Figure size 720x576 with 4 Axes>"
      ]
     },
     "metadata": {},
     "output_type": "display_data"
    }
   ],
   "source": [
    "fig, ax = plt.subplots(2,2, figsize = (10,8))\n",
    "\n",
    "ax[0][0].set_xlabel('control y_1')\n",
    "ax[1][0].set_xlabel('treatment y_1')\n",
    "ax[0][1].set_xlabel('control y_0')\n",
    "ax[1][1].set_xlabel('treatment y_0')\n",
    "\n",
    "control_part2.y_1.hist(bins = 50, ax = ax[0][0]);\n",
    "treatment_part2.y_1.hist(bins = 50, ax = ax[1][0]);\n",
    "control_part2.y_0.hist(bins = 50, ax = ax[0][1]);\n",
    "treatment_part2.y_0.hist(bins = 50, ax = ax[1][1]);"
   ]
  },
  {
   "cell_type": "markdown",
   "metadata": {},
   "source": [
    "Видим, что распределения похожи на нормальные"
   ]
  },
  {
   "cell_type": "code",
   "execution_count": 35,
   "metadata": {},
   "outputs": [
    {
     "data": {
      "image/png": "[encoded data removed]",
      "text/plain": [
       "<Figure size 1080x720 with 4 Axes>"
      ]
     },
     "metadata": {},
     "output_type": "display_data"
    }
   ],
   "source": [
    "fig, ax = plt.subplots(2,2, figsize = (15,10))\n",
    "\n",
    "stats.probplot(control_part2.y_1, plot = ax[0][0], rvalue=True);\n",
    "stats.probplot(treatment_part2.y_1, plot = ax[1][0], rvalue=True);\n",
    "stats.probplot(control_part2.y_0, plot = ax[0][1], rvalue=True);\n",
    "stats.probplot(treatment_part2.y_0, plot = ax[1][1], rvalue=True);\n",
    "\n"
   ]
  },
  {
   "cell_type": "markdown",
   "metadata": {},
   "source": [
    "Видим, что на всех графиках точки лежат на прямой, а $R^2$ близок к 1. Тогда, принимаем предположение о нормальности распределений и не будем проверять данную гипотезу с помощью теста Шапиро-Уилка(t-test допускает небольшие отклонения от нормальности).    \n",
    "Тогда, используем t-test"
   ]
  },
  {
   "cell_type": "code",
   "execution_count": 36,
   "metadata": {},
   "outputs": [
    {
     "name": "stdout",
     "output_type": "stream",
     "text": [
      "для y после эксперимента (y_1) p-value =  2.433950215267867e-25\n",
      "для y до эксперимента (y_0) p-value =  0.0069160683710655525\n",
      "для Y = y_1 - y_0 p-value =  8.987345710740511e-20\n"
     ]
    }
   ],
   "source": [
    "print('для y после эксперимента (y_1) p-value = ',\n",
    "      stats.ttest_ind(treatment_part2.y_1, control_part2.y_1, equal_var=False).pvalue)\n",
    "print('для y до эксперимента (y_0) p-value = ', \n",
    "      stats.ttest_ind(treatment_part2.y_0, control_part2.y_0, equal_var=False).pvalue)\n",
    "print('для Y = y_1 - y_0 p-value = ', \n",
    "      stats.ttest_ind(treatment_part2.y_1 - treatment_part2.y_0,\n",
    "                      control_part2.y_1 - control_part2.y_0, equal_var=False).pvalue)"
   ]
  },
  {
   "cell_type": "markdown",
   "metadata": {},
   "source": [
    "Видим, что во всех случаях гипотеза о равенстве средних отвергается на уровне значисомти 0.05"
   ]
  },
  {
   "cell_type": "markdown",
   "metadata": {},
   "source": [
    "Посмотрим, как менялись значения y до и после эксперимента в обеих группах"
   ]
  },
  {
   "cell_type": "code",
   "execution_count": 37,
   "metadata": {},
   "outputs": [
    {
     "data": {
      "text/plain": [
       "Text(0, 0.5, 'y')"
      ]
     },
     "execution_count": 37,
     "metadata": {},
     "output_type": "execute_result"
    },
    {
     "data": {
      "image/png": "[encoded data removed]",
      "text/plain": [
       "<Figure size 720x576 with 1 Axes>"
      ]
     },
     "metadata": {},
     "output_type": "display_data"
    }
   ],
   "source": [
    "plt.figure(figsize=(10,8))\n",
    "plt.plot([treatment_part2.y_0.mean(), treatment_part2.y_1.mean()]);\n",
    "plt.plot([control_part2.y_0.mean(), control_part2.y_1.mean()]);\n",
    "plt.legend(['treatment', 'control'])\n",
    "plt.xlabel('T')\n",
    "plt.ylabel('y')"
   ]
  },
  {
   "cell_type": "code",
   "execution_count": 38,
   "metadata": {},
   "outputs": [
    {
     "name": "stdout",
     "output_type": "stream",
     "text": [
      "разница между двумя группами до начала эксперимента 0.12365317337202852\n"
     ]
    }
   ],
   "source": [
    "print('разница между двумя группами до начала эксперимента',\n",
    "      control_part2.y_0.mean() - treatment_part2.y_0.mean() )"
   ]
  },
  {
   "cell_type": "markdown",
   "metadata": {},
   "source": [
    "Видим, что y_0 в двух группах существенно отличается"
   ]
  },
  {
   "cell_type": "markdown",
   "metadata": {},
   "source": [
    "## 2) ATE воздействия \n",
    "\n",
    " ### Randomate"
   ]
  },
  {
   "cell_type": "markdown",
   "metadata": {},
   "source": [
    "Проверим качество рандомизации эксперента.  \n",
    "Попробуем классифицироваь объекты на попадание в treatment и control группы на онове их признаков. Если получится добиться хоршего качества классификации, значит независимость treatment от объектов утверждать нельзя."
   ]
  },
  {
   "cell_type": "code",
   "execution_count": 39,
   "metadata": {},
   "outputs": [
    {
     "name": "stdout",
     "output_type": "stream",
     "text": [
      "качество константного классификатора = 0.514\n"
     ]
    }
   ],
   "source": [
    "X_train, X_test, y_train, y_test = train_test_split(data_part_2.iloc[:, 3:13], data_part_2.W, test_size = 0.2)\n",
    "print('качество константного классификатора =' ,y_test[y_test == 1 ].shape[0]/y_test.shape[0])"
   ]
  },
  {
   "cell_type": "code",
   "execution_count": 40,
   "metadata": {},
   "outputs": [
    {
     "name": "stdout",
     "output_type": "stream",
     "text": [
      "accuracy RF =  0.7745\n"
     ]
    }
   ],
   "source": [
    "classif = RandomForestClassifier(n_estimators=400)\n",
    "classif.fit(X_train, y_train)\n",
    "print('accuracy RF = ', classif.score(X_test, y_test))"
   ]
  },
  {
   "cell_type": "code",
   "execution_count": 41,
   "metadata": {},
   "outputs": [
    {
     "name": "stdout",
     "output_type": "stream",
     "text": [
      "accuracy LR =  0.748\n"
     ]
    }
   ],
   "source": [
    "classif = LogisticRegression()\n",
    "classif.fit(X_train, y_train)\n",
    "print('accuracy LR = ', classif.score(X_test, y_test))"
   ]
  },
  {
   "cell_type": "markdown",
   "metadata": {},
   "source": [
    "Видим, что как и в первой части, RF и LR из коробки без какой либо настройки параметров уже показывают неплохое качество классификации, а значит можно сделать вывод, что treatment зависит от объектов "
   ]
  },
  {
   "cell_type": "markdown",
   "metadata": {},
   "source": [
    "## 3) оценка ATE"
   ]
  },
  {
   "cell_type": "markdown",
   "metadata": {},
   "source": [
    "### 1) Наивный подход"
   ]
  },
  {
   "cell_type": "markdown",
   "metadata": {},
   "source": [
    "####  Оценим эффект после проведения эксперемента, не учитывая значения до: Y = y_1"
   ]
  },
  {
   "cell_type": "code",
   "execution_count": 42,
   "metadata": {},
   "outputs": [
    {
     "name": "stdout",
     "output_type": "stream",
     "text": [
      "tau_naive =  0.4312515969250956\n",
      "доверительный интервал  (0.35023437324600354, 0.5122688206041784)\n"
     ]
    }
   ],
   "source": [
    "tau_naive_part2 = (treatment_part2.y_1).mean() - (control_part2.y_1).mean()\n",
    "print('tau_naive = ', tau_naive_part2)\n",
    "CM = CompareMeans(DescrStatsW(treatment_part2.y_1), \n",
    "                  DescrStatsW(control_part2.y_1)).tconfint_diff()\n",
    "print('доверительный интервал ',CM)"
   ]
  },
  {
   "cell_type": "markdown",
   "metadata": {},
   "source": [
    "####  Оценим эффект после проведения эксперемента, учитывая значения до: Y = y_1 - y_0"
   ]
  },
  {
   "cell_type": "code",
   "execution_count": 43,
   "metadata": {},
   "outputs": [
    {
     "name": "stdout",
     "output_type": "stream",
     "text": [
      "tau_naive =  0.5549047702971162\n",
      "доверительный интервал  (0.4356108511497596, 0.6741986894444794)\n"
     ]
    }
   ],
   "source": [
    "tau_naive_part2 = (treatment_part2.Y_i).mean() - (control_part2.Y_i).mean()\n",
    "print('tau_naive = ', tau_naive_part2)\n",
    "CM = CompareMeans(DescrStatsW(treatment_part2.Y_i), \n",
    "                  DescrStatsW(control_part2.Y_i)).tconfint_diff()\n",
    "print('доверительный интервал ', CM)"
   ]
  },
  {
   "cell_type": "markdown",
   "metadata": {},
   "source": [
    "При оценке Y = y_1 - y_0, ATE получается больше на разницу между y_0 до начала эксперимента, т.е. на 0.12"
   ]
  },
  {
   "cell_type": "markdown",
   "metadata": {},
   "source": [
    "Как было показано выше, полной независимости treatment от объектов нет, поэтому не стоит доверть данным оценкам "
   ]
  },
  {
   "cell_type": "markdown",
   "metadata": {},
   "source": [
    "### 2) Регрессия \n",
    "Перед оценкой ATE сделаем следующие предположения о выборках:  \n",
    "- 1) __unconfoundedness__ :   \n",
    "treatment assignment не зависит от результата эксперемента при условии контроля за X. Как было показано выше, полная независимость не выполняется, однако это не мешает выполнению данного предположения.\n",
    "- 2) __Overlap__ :  \n",
    "Нет таких характерных объектов, для которых не возможен treatment.\n",
    "\n",
    "\n",
    "будем строить регрессию вида $ Y_{i} = \\alpha + \\beta X_{i} + \\tau W_{i} + \\epsilon$, где $Y_{i} = y_1 - y_0$"
   ]
  },
  {
   "cell_type": "code",
   "execution_count": 44,
   "metadata": {},
   "outputs": [
    {
     "name": "stdout",
     "output_type": "stream",
     "text": [
      "                            OLS Regression Results                            \n",
      "==============================================================================\n",
      "Dep. Variable:                    Y_i   R-squared:                       0.010\n",
      "Model:                            OLS   Adj. R-squared:                  0.009\n",
      "Method:                 Least Squares   F-statistic:                     8.879\n",
      "Date:                Thu, 20 May 2021   Prob (F-statistic):           6.27e-16\n",
      "Time:                        16:13:06   Log-Likelihood:                -25298.\n",
      "No. Observations:               10000   AIC:                         5.062e+04\n",
      "Df Residuals:                    9988   BIC:                         5.071e+04\n",
      "Df Model:                          11                                         \n",
      "Covariance Type:            nonrobust                                         \n",
      "==============================================================================\n",
      "                 coef    std err          t      P>|t|      [0.025      0.975]\n",
      "------------------------------------------------------------------------------\n",
      "Intercept      0.7242      0.170      4.266      0.000       0.391       1.057\n",
      "W              0.5425      0.070      7.761      0.000       0.405       0.680\n",
      "X_1            0.0835      0.114      0.733      0.464      -0.140       0.307\n",
      "X_2           -0.0273      0.114     -0.240      0.810      -0.250       0.195\n",
      "X_3            0.2976      0.105      2.840      0.005       0.092       0.503\n",
      "X_4            0.0448      0.105      0.427      0.670      -0.161       0.251\n",
      "X_5            0.1118      0.105      1.065      0.287      -0.094       0.317\n",
      "X_6            0.0983      0.105      0.934      0.351      -0.108       0.305\n",
      "X_7            0.0719      0.105      0.684      0.494      -0.134       0.278\n",
      "X_8            0.1593      0.105      1.518      0.129      -0.046       0.365\n",
      "X_9           -0.0627      0.106     -0.591      0.554      -0.271       0.145\n",
      "X_10          -0.0858      0.106     -0.812      0.417      -0.293       0.121\n",
      "==============================================================================\n",
      "Omnibus:                        0.664   Durbin-Watson:                   2.000\n",
      "Prob(Omnibus):                  0.718   Jarque-Bera (JB):                0.694\n",
      "Skew:                          -0.003   Prob(JB):                        0.707\n",
      "Kurtosis:                       2.960   Cond. No.                         13.0\n",
      "==============================================================================\n",
      "\n",
      "Warnings:\n",
      "[1] Standard Errors assume that the covariance matrix of the errors is correctly specified.\n"
     ]
    }
   ],
   "source": [
    "model = smf.ols('Y_i ~ W + X_1 + X_2 + X_3 + X_4 + X_5 + X_6 + X_7 + X_8 + X_9 + X_10', data = data_part_2)\n",
    "fitted = model.fit()\n",
    "print(fitted.summary())"
   ]
  },
  {
   "cell_type": "markdown",
   "metadata": {},
   "source": [
    "Все условия, необходимые для корректных статистических оценок коэффициентов __выполнены__.  \n",
    "Проверка проводилась аналогично части первой. Выкладки опустим. "
   ]
  },
  {
   "cell_type": "markdown",
   "metadata": {},
   "source": [
    "Видим, что если учитывать начальные значения y_0 и настраивать регрессию на Y = y_1 - y_0 почти все признаки не играют существенной роли. Обратная ситация будет если настраивать регрессию на Y = y_1, тогда y_0 учтется за счет признаков обьектов. Далее это будет рассмотрено в пункте __ANCOWA__.  \n",
    "\n",
    "Уберем все незначащие признаки "
   ]
  },
  {
   "cell_type": "code",
   "execution_count": 45,
   "metadata": {},
   "outputs": [
    {
     "name": "stdout",
     "output_type": "stream",
     "text": [
      "                            OLS Regression Results                            \n",
      "==============================================================================\n",
      "Dep. Variable:                    Y_i   R-squared:                       0.009\n",
      "Model:                            OLS   Adj. R-squared:                  0.009\n",
      "Method:                 Least Squares   F-statistic:                     45.54\n",
      "Date:                Thu, 20 May 2021   Prob (F-statistic):           2.06e-20\n",
      "Time:                        16:13:06   Log-Likelihood:                -25301.\n",
      "No. Observations:               10000   AIC:                         5.061e+04\n",
      "Df Residuals:                    9997   BIC:                         5.063e+04\n",
      "Df Model:                           2                                         \n",
      "Covariance Type:            nonrobust                                         \n",
      "==============================================================================\n",
      "                 coef    std err          t      P>|t|      [0.025      0.975]\n",
      "------------------------------------------------------------------------------\n",
      "Intercept      0.9169      0.068     13.479      0.000       0.784       1.050\n",
      "W              0.5530      0.061      9.089      0.000       0.434       0.672\n",
      "X_3            0.2938      0.105      2.806      0.005       0.089       0.499\n",
      "==============================================================================\n",
      "Omnibus:                        0.548   Durbin-Watson:                   1.999\n",
      "Prob(Omnibus):                  0.760   Jarque-Bera (JB):                0.580\n",
      "Skew:                          -0.002   Prob(JB):                        0.748\n",
      "Kurtosis:                       2.963   Cond. No.                         4.94\n",
      "==============================================================================\n",
      "\n",
      "Warnings:\n",
      "[1] Standard Errors assume that the covariance matrix of the errors is correctly specified.\n"
     ]
    }
   ],
   "source": [
    "model = smf.ols('Y_i ~ W +  X_3 ', data = data_part_2)\n",
    "fitted = model.fit()\n",
    "print(fitted.summary())"
   ]
  },
  {
   "cell_type": "markdown",
   "metadata": {},
   "source": [
    "Таким образом, при данном подходе получаем следующие оценки АТЕ: \n",
    "\n",
    "- $\\tau = 0.5530$\n",
    "- доверительный интервал [0.434       0.672]   \n",
    "\n",
    "Видим, что доверительный интервал стал немного более узким относительно наивного подхода"
   ]
  },
  {
   "cell_type": "markdown",
   "metadata": {},
   "source": [
    "### 3) ANCOWA"
   ]
  },
  {
   "cell_type": "markdown",
   "metadata": {},
   "source": [
    " Будем строить регрессию вида $y_{i1} = \\alpha + \\beta y_{i0} + \\tau W + \\epsilon _{i}$ , где $\\tau$ - оценка ATE"
   ]
  },
  {
   "cell_type": "markdown",
   "metadata": {},
   "source": [
    "#### 3.1) подставим $y_{i0}$ в явном виде "
   ]
  },
  {
   "cell_type": "code",
   "execution_count": 46,
   "metadata": {},
   "outputs": [
    {
     "name": "stdout",
     "output_type": "stream",
     "text": [
      "                            OLS Regression Results                            \n",
      "==============================================================================\n",
      "Dep. Variable:                    y_1   R-squared:                       0.012\n",
      "Model:                            OLS   Adj. R-squared:                  0.011\n",
      "Method:                 Least Squares   F-statistic:                     58.70\n",
      "Date:                Thu, 20 May 2021   Prob (F-statistic):           4.54e-26\n",
      "Time:                        16:13:06   Log-Likelihood:                -21431.\n",
      "No. Observations:               10000   AIC:                         4.287e+04\n",
      "Df Residuals:                    9997   BIC:                         4.289e+04\n",
      "Df Model:                           2                                         \n",
      "Covariance Type:            nonrobust                                         \n",
      "==============================================================================\n",
      "                 coef    std err          t      P>|t|      [0.025      0.975]\n",
      "------------------------------------------------------------------------------\n",
      "Intercept      1.8572      0.031     60.304      0.000       1.797       1.918\n",
      "W              0.4345      0.041     10.512      0.000       0.353       0.516\n",
      "y_0            0.0262      0.009      2.905      0.004       0.009       0.044\n",
      "==============================================================================\n",
      "Omnibus:                        2.348   Durbin-Watson:                   1.973\n",
      "Prob(Omnibus):                  0.309   Jarque-Bera (JB):                2.338\n",
      "Skew:                           0.037   Prob(JB):                        0.311\n",
      "Kurtosis:                       3.005   Cond. No.                         5.69\n",
      "==============================================================================\n",
      "\n",
      "Warnings:\n",
      "[1] Standard Errors assume that the covariance matrix of the errors is correctly specified.\n"
     ]
    }
   ],
   "source": [
    "model = smf.ols('y_1 ~ W + y_0', data = data_part_2)\n",
    "fitted = model.fit()\n",
    "print(fitted.summary())"
   ]
  },
  {
   "cell_type": "markdown",
   "metadata": {},
   "source": [
    "Все условия, необходимые для корректной статистической оценки коэффициентов регрессии __были проверены__ аналогично части 1. Выкладки также опустим "
   ]
  },
  {
   "cell_type": "markdown",
   "metadata": {},
   "source": [
    "Видим, что получили чуть скорректированную оценку для Y = y_1. доверительные интервалы более узкими не стали.  Таким образом, при данном подходе получаем следующие оценки АТЕ: \n",
    "\n",
    "- $\\tau = 0.4345$\n",
    "- доверительный интервал [0.353       0.516]   "
   ]
  },
  {
   "cell_type": "markdown",
   "metadata": {},
   "source": [
    "#### 3.2) вместо  $y_{i0}$ будем использовать признаки Х объектов  \n",
    "Фактически данный подход идентичен обычной регрессии, только в качестве таргета учитывается не  $Y = y_{1} - y_{0}$, a $Y = y_{1}$, а поправка от y_0 добавляется за счет признаков X"
   ]
  },
  {
   "cell_type": "code",
   "execution_count": 47,
   "metadata": {},
   "outputs": [
    {
     "name": "stdout",
     "output_type": "stream",
     "text": [
      "                            OLS Regression Results                            \n",
      "==============================================================================\n",
      "Dep. Variable:                    y_1   R-squared:                       0.042\n",
      "Model:                            OLS   Adj. R-squared:                  0.041\n",
      "Method:                 Least Squares   F-statistic:                     39.48\n",
      "Date:                Thu, 20 May 2021   Prob (F-statistic):           2.63e-84\n",
      "Time:                        16:13:06   Log-Likelihood:                -21277.\n",
      "No. Observations:               10000   AIC:                         4.258e+04\n",
      "Df Residuals:                    9988   BIC:                         4.266e+04\n",
      "Df Model:                          11                                         \n",
      "Covariance Type:            nonrobust                                         \n",
      "==============================================================================\n",
      "                 coef    std err          t      P>|t|      [0.025      0.975]\n",
      "------------------------------------------------------------------------------\n",
      "Intercept      1.1967      0.114     10.538      0.000       0.974       1.419\n",
      "W              0.5482      0.047     11.724      0.000       0.457       0.640\n",
      "X_1           -0.2645      0.076     -3.469      0.001      -0.414      -0.115\n",
      "X_2           -0.2952      0.076     -3.886      0.000      -0.444      -0.146\n",
      "X_3           -0.1394      0.070     -1.989      0.047      -0.277      -0.002\n",
      "X_4            0.9812      0.070     13.967      0.000       0.844       1.119\n",
      "X_5            0.6305      0.070      8.982      0.000       0.493       0.768\n",
      "X_6            0.0787      0.070      1.117      0.264      -0.059       0.217\n",
      "X_7            0.2004      0.070      2.850      0.004       0.063       0.338\n",
      "X_8            0.1130      0.070      1.610      0.107      -0.025       0.251\n",
      "X_9           -0.0421      0.071     -0.593      0.553      -0.181       0.097\n",
      "X_10          -0.0226      0.071     -0.319      0.750      -0.161       0.116\n",
      "==============================================================================\n",
      "Omnibus:                        1.919   Durbin-Watson:                   1.987\n",
      "Prob(Omnibus):                  0.383   Jarque-Bera (JB):                1.906\n",
      "Skew:                           0.034   Prob(JB):                        0.385\n",
      "Kurtosis:                       3.006   Cond. No.                         13.0\n",
      "==============================================================================\n",
      "\n",
      "Warnings:\n",
      "[1] Standard Errors assume that the covariance matrix of the errors is correctly specified.\n"
     ]
    }
   ],
   "source": [
    "model = smf.ols('y_1 ~ W + X_1 + X_2 + X_3 + X_4 + X_5 + X_6 + X_7 + X_8 + X_9 + X_10', data = data_part_2)\n",
    "fitted = model.fit()\n",
    "print(fitted.summary())"
   ]
  },
  {
   "cell_type": "markdown",
   "metadata": {},
   "source": [
    "Все условия, необходимые для корректной статистической оценки коэффициентов регрессии __были проверены__ аналогично части 1. Выкладки также опустим."
   ]
  },
  {
   "cell_type": "markdown",
   "metadata": {},
   "source": [
    "Уберем статистически незначимые признаки "
   ]
  },
  {
   "cell_type": "code",
   "execution_count": 48,
   "metadata": {},
   "outputs": [
    {
     "name": "stdout",
     "output_type": "stream",
     "text": [
      "                            OLS Regression Results                            \n",
      "==============================================================================\n",
      "Dep. Variable:                    y_1   R-squared:                       0.041\n",
      "Model:                            OLS   Adj. R-squared:                  0.040\n",
      "Method:                 Least Squares   F-statistic:                     70.95\n",
      "Date:                Thu, 20 May 2021   Prob (F-statistic):           6.20e-87\n",
      "Time:                        16:13:06   Log-Likelihood:                -21281.\n",
      "No. Observations:               10000   AIC:                         4.258e+04\n",
      "Df Residuals:                    9993   BIC:                         4.263e+04\n",
      "Df Model:                           6                                         \n",
      "Covariance Type:            nonrobust                                         \n",
      "==============================================================================\n",
      "                 coef    std err          t      P>|t|      [0.025      0.975]\n",
      "------------------------------------------------------------------------------\n",
      "Intercept      1.1874      0.081     14.622      0.000       1.028       1.347\n",
      "W              0.5455      0.047     11.668      0.000       0.454       0.637\n",
      "X_1           -0.2640      0.076     -3.462      0.001      -0.413      -0.115\n",
      "X_2           -0.2921      0.076     -3.846      0.000      -0.441      -0.143\n",
      "X_4            0.9822      0.070     13.983      0.000       0.845       1.120\n",
      "X_5            0.6302      0.070      8.979      0.000       0.493       0.768\n",
      "X_7            0.2049      0.070      2.915      0.004       0.067       0.343\n",
      "==============================================================================\n",
      "Omnibus:                        1.970   Durbin-Watson:                   1.988\n",
      "Prob(Omnibus):                  0.373   Jarque-Bera (JB):                1.958\n",
      "Skew:                           0.034   Prob(JB):                        0.376\n",
      "Kurtosis:                       3.006   Cond. No.                         8.69\n",
      "==============================================================================\n",
      "\n",
      "Warnings:\n",
      "[1] Standard Errors assume that the covariance matrix of the errors is correctly specified.\n"
     ]
    }
   ],
   "source": [
    "model = smf.ols('y_1 ~ W + X_1 + X_2 + X_4 + X_5 + X_7', data = data_part_2)\n",
    "fitted = model.fit()\n",
    "print(fitted.summary())"
   ]
  },
  {
   "cell_type": "markdown",
   "metadata": {},
   "source": [
    "Таким образом, получаем скорректированную оценку для $Y = y_{1} - y_{0}.$ доверительные интервалы стали более узкими.  Получаем следующие оценки АТЕ: \n",
    "\n",
    "- $\\tau = 0.5455$\n",
    "- доверительный интервал [0.454       0.637]   "
   ]
  },
  {
   "cell_type": "markdown",
   "metadata": {},
   "source": [
    "#### 3.3) Используем модифицкацию "
   ]
  },
  {
   "cell_type": "markdown",
   "metadata": {},
   "source": [
    "Обучим регрессию и получим остатки "
   ]
  },
  {
   "cell_type": "code",
   "execution_count": 49,
   "metadata": {},
   "outputs": [],
   "source": [
    "model = smf.ols('y_1 ~ W ', data = data_part_2)\n",
    "fitted = model.fit()\n",
    "data_part_2['m'] = fitted.resid\n",
    "\n",
    "control_part2 = data_part_2[data_part_2.W == 0.0].copy()\n",
    "treatment_part2 = data_part_2[data_part_2.W == 1.0].copy()"
   ]
  },
  {
   "cell_type": "markdown",
   "metadata": {},
   "source": [
    "Обучим модели для treatment и control и получим оценки остатков. В качестве алогритма возьмем линейную регрессию."
   ]
  },
  {
   "cell_type": "code",
   "execution_count": 50,
   "metadata": {},
   "outputs": [],
   "source": [
    "classif = LinearRegression()\n",
    "\n",
    "classif.fit(pd.concat([control_part2.iloc[:, 3:13],control_part2.y_0], axis = 1), control_part2.m)\n",
    "a_control = classif.predict(pd.concat([data_part_2.iloc[:, 3:13],data_part_2.y_0], axis = 1))\n",
    "\n",
    "classif.fit(pd.concat([treatment_part2.iloc[:, 3:13],treatment_part2.y_0], axis = 1), treatment_part2.m)\n",
    "a_treatment = classif.predict(pd.concat([data_part_2.iloc[:, 3:13],data_part_2.y_0], axis = 1))\n",
    "\n",
    "data_part_2['a_treatment'] = a_treatment\n",
    "data_part_2['a_control'] = a_control\n",
    "\n",
    "P_control = control_part2.shape[0]/data_part_2.shape[0]\n",
    "P_treatment = 1 - P_control"
   ]
  },
  {
   "cell_type": "markdown",
   "metadata": {},
   "source": [
    "Внесем поправку для y_1 и построим регрессию для оценки ATE"
   ]
  },
  {
   "cell_type": "code",
   "execution_count": 51,
   "metadata": {},
   "outputs": [
    {
     "name": "stdout",
     "output_type": "stream",
     "text": [
      "                            OLS Regression Results                            \n",
      "==============================================================================\n",
      "Dep. Variable:             ancowa_mod   R-squared:                       0.010\n",
      "Model:                            OLS   Adj. R-squared:                  0.010\n",
      "Method:                 Least Squares   F-statistic:                     102.2\n",
      "Date:                Thu, 20 May 2021   Prob (F-statistic):           6.41e-24\n",
      "Time:                        16:13:07   Log-Likelihood:                -21445.\n",
      "No. Observations:               10000   AIC:                         4.289e+04\n",
      "Df Residuals:                    9998   BIC:                         4.291e+04\n",
      "Df Model:                           1                                         \n",
      "Covariance Type:            nonrobust                                         \n",
      "==============================================================================\n",
      "                 coef    std err          t      P>|t|      [0.025      0.975]\n",
      "------------------------------------------------------------------------------\n",
      "Intercept      1.8303      0.030     61.120      0.000       1.772       1.889\n",
      "W              0.4183      0.041     10.111      0.000       0.337       0.499\n",
      "==============================================================================\n",
      "Omnibus:                        2.320   Durbin-Watson:                   1.972\n",
      "Prob(Omnibus):                  0.313   Jarque-Bera (JB):                2.309\n",
      "Skew:                           0.037   Prob(JB):                        0.315\n",
      "Kurtosis:                       3.006   Cond. No.                         2.68\n",
      "==============================================================================\n",
      "\n",
      "Warnings:\n",
      "[1] Standard Errors assume that the covariance matrix of the errors is correctly specified.\n"
     ]
    }
   ],
   "source": [
    "data_part_2['ancowa_mod'] = data_part_2.y_1 - ((1 - P_treatment)*data_part_2.a_treatment +\n",
    "                                               (0 - P_control)*data_part_2.a_control)\n",
    "model = smf.ols('ancowa_mod ~ W', data = data_part_2)\n",
    "fitted = model.fit()\n",
    "print(fitted.summary())"
   ]
  },
  {
   "cell_type": "markdown",
   "metadata": {},
   "source": [
    "Все условия, необходимые для корректной статистической оценки коэффициентов регрессии __были проверены__ аналогично части 1. Выкладки также опустим.  \n",
    "\n",
    "Таким образом, получаем скорректированную оценку для $Y = y_{1}.$ доверительные интервалы остались такими же как и при обычном использование ANCOWA.  Получаем следующие оценки АТЕ: \n",
    "\n",
    "- $\\tau = 0.4183 $\n",
    "- доверительный интервал [0.337       0.499]   "
   ]
  },
  {
   "cell_type": "markdown",
   "metadata": {},
   "source": [
    "## 4) Difference in difference"
   ]
  },
  {
   "cell_type": "markdown",
   "metadata": {},
   "source": [
    "Будем строить регрессию следующего вида:  \n",
    "$y_{iT} = \\alpha + \\beta T_{i} + \\gamma W_{i} + \\tau I_{i} * W_{i}$"
   ]
  },
  {
   "cell_type": "markdown",
   "metadata": {},
   "source": [
    "Создадим новый DF, разделив каждый обьект на два с y = y_0 и с y = y_1, а также добавим индикатор Т и построим регрессию "
   ]
  },
  {
   "cell_type": "code",
   "execution_count": 52,
   "metadata": {},
   "outputs": [],
   "source": [
    "DID_1 = data_part_2[['y_1', 'W']].copy()\n",
    "DID_1.columns = ['y', 'W']\n",
    "DID_1['T'] = 1\n",
    "\n",
    "DID_0 = data_part_2[['y_0', 'W']].copy()\n",
    "DID_0.columns = ['y', 'W']\n",
    "DID_0['T'] = 0\n",
    "\n",
    "DID = pd.concat([DID_1, DID_0])"
   ]
  },
  {
   "cell_type": "code",
   "execution_count": 53,
   "metadata": {},
   "outputs": [
    {
     "name": "stdout",
     "output_type": "stream",
     "text": [
      "                            OLS Regression Results                            \n",
      "==============================================================================\n",
      "Dep. Variable:                      y   R-squared:                       0.092\n",
      "Model:                            OLS   Adj. R-squared:                  0.092\n",
      "Method:                 Least Squares   F-statistic:                     676.8\n",
      "Date:                Thu, 20 May 2021   Prob (F-statistic):               0.00\n",
      "Time:                        16:13:07   Log-Likelihood:                -43972.\n",
      "No. Observations:               20000   AIC:                         8.795e+04\n",
      "Df Residuals:                   19996   BIC:                         8.798e+04\n",
      "Df Model:                           3                                         \n",
      "Covariance Type:            nonrobust                                         \n",
      "==============================================================================\n",
      "                 coef    std err          t      P>|t|      [0.025      0.975]\n",
      "------------------------------------------------------------------------------\n",
      "Intercept      0.8162      0.032     25.820      0.000       0.754       0.878\n",
      "T              1.0624      0.045     23.764      0.000       0.975       1.150\n",
      "W             -0.1237      0.044     -2.832      0.005      -0.209      -0.038\n",
      "T:W            0.5549      0.062      8.985      0.000       0.434       0.676\n",
      "==============================================================================\n",
      "Omnibus:                        0.070   Durbin-Watson:                   1.984\n",
      "Prob(Omnibus):                  0.966   Jarque-Bera (JB):                0.059\n",
      "Skew:                          -0.002   Prob(JB):                        0.971\n",
      "Kurtosis:                       3.007   Cond. No.                         7.01\n",
      "==============================================================================\n",
      "\n",
      "Warnings:\n",
      "[1] Standard Errors assume that the covariance matrix of the errors is correctly specified.\n"
     ]
    }
   ],
   "source": [
    "model = smf.ols('y ~ T + W + T*W', data = DID)\n",
    "fitted = model.fit()\n",
    "print(fitted.summary())"
   ]
  },
  {
   "cell_type": "markdown",
   "metadata": {},
   "source": [
    "Все условия, необходимые для корректной статистической оценки коэффициентов регрессии были проверены аналогично части 1. Выкладки также опустим."
   ]
  },
  {
   "cell_type": "markdown",
   "metadata": {},
   "source": [
    "Получили скорректированную оценку для $Y = y_{1} - y_{0}.$. Доверительный интервал по сравнению с наивным подходом стали немного более широким.  Получаем следующие оценки АТЕ: \n",
    "\n",
    "- $\\tau =  0.5549 $\n",
    "- доверительный интервал [0.434       0.676]   "
   ]
  },
  {
   "cell_type": "markdown",
   "metadata": {},
   "source": [
    "### 5) Cuped"
   ]
  },
  {
   "cell_type": "markdown",
   "metadata": {},
   "source": [
    "Попробуем уменьшить дисперсию Y = y_1, сделав поправку следующего вида:  \n",
    "$cuped = y_{1} - (y_{0} - \\overline{y_{0}}) \\theta $  \n",
    "где $\\theta = \\frac{cov(y_{1},y_{0})}{var(y_{0})} $"
   ]
  },
  {
   "cell_type": "code",
   "execution_count": 54,
   "metadata": {},
   "outputs": [],
   "source": [
    "tetta = np.cov(data_part_2.y_0, data_part_2.y_1)[0][1] / np.var(data_part_2.y_0)\n",
    "data_part_2['cuped'] =  data_part_2.y_1 - (data_part_2.y_0 - data_part_2.y_0.mean())*tetta"
   ]
  },
  {
   "cell_type": "markdown",
   "metadata": {},
   "source": [
    "Посмотрим, уменьшиласть ли дисперсия после введения данной поправки"
   ]
  },
  {
   "cell_type": "code",
   "execution_count": 55,
   "metadata": {},
   "outputs": [
    {
     "name": "stdout",
     "output_type": "stream",
     "text": [
      "variance y_1 =  4.306770426144426\n",
      "variance cuped = 4.3038410435152405\n"
     ]
    },
    {
     "data": {
      "image/png": "[encoded data removed]",
      "text/plain": [
       "<Figure size 1440x360 with 2 Axes>"
      ]
     },
     "metadata": {},
     "output_type": "display_data"
    }
   ],
   "source": [
    "print('variance y_1 = ',data_part_2.y_1.var())\n",
    "print('variance cuped =', data_part_2.cuped.var())\n",
    "\n",
    "fig, ax = plt.subplots(1,2, figsize = (20,5))\n",
    "\n",
    "ax[0].set_xlabel('y_1')\n",
    "ax[1].set_xlabel('cuped')\n",
    "\n",
    "data_part_2.y_1.hist(bins = 50, ax = ax[0]);\n",
    "data_part_2.cuped.hist(bins = 50, ax = ax[1]);"
   ]
  },
  {
   "cell_type": "markdown",
   "metadata": {},
   "source": [
    "Видим, что дисперсия почти не поменялась  \n",
    "Оценим ATE с помощью регрессии настроенной только на W (результаты полученные таким методом аналогичны провденеию t-теста)"
   ]
  },
  {
   "cell_type": "code",
   "execution_count": 56,
   "metadata": {},
   "outputs": [],
   "source": [
    "data_part_2['Y_cuped'] = data_part_2.cuped - data_part_2.y_0"
   ]
  },
  {
   "cell_type": "code",
   "execution_count": 57,
   "metadata": {},
   "outputs": [
    {
     "name": "stdout",
     "output_type": "stream",
     "text": [
      "                            OLS Regression Results                            \n",
      "==============================================================================\n",
      "Dep. Variable:                      y   R-squared:                       0.092\n",
      "Model:                            OLS   Adj. R-squared:                  0.092\n",
      "Method:                 Least Squares   F-statistic:                     676.8\n",
      "Date:                Thu, 20 May 2021   Prob (F-statistic):               0.00\n",
      "Time:                        16:13:08   Log-Likelihood:                -43972.\n",
      "No. Observations:               20000   AIC:                         8.795e+04\n",
      "Df Residuals:                   19996   BIC:                         8.798e+04\n",
      "Df Model:                           3                                         \n",
      "Covariance Type:            nonrobust                                         \n",
      "==============================================================================\n",
      "                 coef    std err          t      P>|t|      [0.025      0.975]\n",
      "------------------------------------------------------------------------------\n",
      "Intercept      0.8162      0.032     25.820      0.000       0.754       0.878\n",
      "T              1.0624      0.045     23.764      0.000       0.975       1.150\n",
      "W             -0.1237      0.044     -2.832      0.005      -0.209      -0.038\n",
      "T:W            0.5549      0.062      8.985      0.000       0.434       0.676\n",
      "==============================================================================\n",
      "Omnibus:                        0.070   Durbin-Watson:                   1.984\n",
      "Prob(Omnibus):                  0.966   Jarque-Bera (JB):                0.059\n",
      "Skew:                          -0.002   Prob(JB):                        0.971\n",
      "Kurtosis:                       3.007   Cond. No.                         7.01\n",
      "==============================================================================\n",
      "\n",
      "Warnings:\n",
      "[1] Standard Errors assume that the covariance matrix of the errors is correctly specified.\n"
     ]
    }
   ],
   "source": [
    "model = smf.ols('cuped ~ W', data = data_part_2)\n",
    "print(fitted.summary())                                             \n",
    "fitted = model.fit() "
   ]
  },
  {
   "cell_type": "markdown",
   "metadata": {},
   "source": [
    "Все условия, необходимые для корректной статистической оценки коэффициентов регрессии были проверены аналогично части 1. Выкладки также опустим.  \n",
    "\n",
    "Получили оценку для $Y = y_{1}.$. Доверительные интервалы по сравнению с наивным подходом почти не изменились.  Получаем следующие оценки АТЕ: \n",
    "\n",
    "- $\\tau =   0.4342 $\n",
    "- доверительный интервал [0.353       0.515]   "
   ]
  },
  {
   "cell_type": "markdown",
   "metadata": {},
   "source": [
    "### 6) Propensity  Score"
   ]
  },
  {
   "cell_type": "markdown",
   "metadata": {},
   "source": [
    "Найдем вероятность принадлежности обьекта к treatment $e$ и сопоставим с каждым объектом если он в control $(1-e)$, а если в treatment $e$"
   ]
  },
  {
   "cell_type": "code",
   "execution_count": 58,
   "metadata": {},
   "outputs": [],
   "source": [
    "classif = LogisticRegression()\n",
    "classif.fit(data_part_2.iloc[:, 3:13], data_part_2.W)\n",
    "prob_W = classif.predict_proba(data_part_2.iloc[:, 3:13])\n",
    "data_part_2['weight'] = [prob_W[i][0] if data_part_2.W[i] == 0 \n",
    "                                      else prob_W[i][1] for i in range(data_part_2.shape[0])]"
   ]
  },
  {
   "cell_type": "markdown",
   "metadata": {},
   "source": [
    "Для оценки ATE построим взвешенную регрессию"
   ]
  },
  {
   "cell_type": "code",
   "execution_count": 59,
   "metadata": {},
   "outputs": [
    {
     "name": "stdout",
     "output_type": "stream",
     "text": [
      "                            WLS Regression Results                            \n",
      "==============================================================================\n",
      "Dep. Variable:                    Y_i   R-squared:                       0.007\n",
      "Model:                            WLS   Adj. R-squared:                  0.007\n",
      "Method:                 Least Squares   F-statistic:                     68.92\n",
      "Date:                Thu, 20 May 2021   Prob (F-statistic):           1.16e-16\n",
      "Time:                        16:13:08   Log-Likelihood:                -26380.\n",
      "No. Observations:               10000   AIC:                         5.276e+04\n",
      "Df Residuals:                    9998   BIC:                         5.278e+04\n",
      "Df Model:                           1                                         \n",
      "Covariance Type:            nonrobust                                         \n",
      "==============================================================================\n",
      "                 coef    std err          t      P>|t|      [0.025      0.975]\n",
      "------------------------------------------------------------------------------\n",
      "Intercept      1.0178      0.041     24.549      0.000       0.937       1.099\n",
      "W              0.5102      0.061      8.302      0.000       0.390       0.631\n",
      "==============================================================================\n",
      "Omnibus:                     1061.070   Durbin-Watson:                   2.004\n",
      "Prob(Omnibus):                  0.000   Jarque-Bera (JB):             7122.955\n",
      "Skew:                          -0.276   Prob(JB):                         0.00\n",
      "Kurtosis:                       7.098   Cond. No.                         2.53\n",
      "==============================================================================\n",
      "\n",
      "Warnings:\n",
      "[1] Standard Errors assume that the covariance matrix of the errors is correctly specified.\n"
     ]
    }
   ],
   "source": [
    "model = smf.wls('Y_i ~ W', data = data_part_2, weights = 1/data_part_2.weight )\n",
    "fitted = model.fit()\n",
    "print(fitted.summary())"
   ]
  },
  {
   "cell_type": "markdown",
   "metadata": {},
   "source": [
    "Все условия, необходимые для корректной статистической оценки коэффициентов регрессии были проверены аналогично части 1. Выкладки также опустим.\n",
    "\n",
    "Получили скорректированную оценку для $Y = y_{1} - y_{0}.$. Доверительные интервалы по сравнению с наивным подходом почти не изменились.  Получаем следующие оценки АТЕ: \n",
    "\n",
    "- $\\tau =   0.5102 $\n",
    "- доверительный интервал [0.390       0.631]  "
   ]
  },
  {
   "cell_type": "markdown",
   "metadata": {},
   "source": [
    "## 4)  Выводы по части 2"
   ]
  },
  {
   "cell_type": "markdown",
   "metadata": {},
   "source": [
    "Для оценки АТЕ были применены следующие методы и получены следующие результаты:  \n",
    "\n",
    "1. __Наивная оценка__:  \n",
    "   - __1.1. $Y = y_{1}$__    \n",
    "        - $\\tau = 0.4001$  \n",
    "        - доверительный интервал  [0.3161     0.4841]   \n",
    "   - __1.2. $Y = y_{1} - y_{0}$__    \n",
    "        - $\\tau = 0.5549$  \n",
    "        - доверительный интервал  [0.4356     0.6742]\n",
    "        \n",
    "        \n",
    "2. __Регрессия__:   \n",
    "\n",
    " $\\tau = 0.5530$  \n",
    " доверительный интервал: [0.434    0.672] \n",
    " \n",
    " \n",
    "3. __ANCOWA__:  \n",
    "\n",
    "   - __3.1. $y_{i0}$ в явном виде__   \n",
    "        - $\\tau = 0.4345 $  \n",
    "        - доверительный интервал  [0.353      0.516]   \n",
    "   - __3.2. вместо  $y_{i0}$ будем использовать признаки Х объектов__   \n",
    "        - $\\tau = 0.5455$  \n",
    "        - доверительный интервал  [0.454 0.637]\n",
    "   - __3.3. При использование модификации (настраиваемся на остатки)__\n",
    "        - $\\tau = 0.4183$  \n",
    "        - доверительный интервал  [0.337 0.499]\n",
    "         \n",
    "         \n",
    "4. __Difference in difference__:  \n",
    "\n",
    " $\\tau = 0.5549$  \n",
    " доверительный интервал: [0.434 0.676]  \n",
    " \n",
    " \n",
    "5. __Cuped__:   \n",
    "\n",
    " $\\tau = 0.4342$  \n",
    " доверительный интервал: [0.353 0.515]   \n",
    "  \n",
    "  \n",
    "6. __Propensity Score__:  \n",
    "\n",
    " $\\tau = 0.5102 $  \n",
    " доверительный интервал: [0.390 0.631] \n",
    " \n"
   ]
  },
  {
   "cell_type": "markdown",
   "metadata": {},
   "source": [
    "Поскольку мы видим, что между целевыми показателями control и treatment группой до начала эксперимента есть существенное отличие, нет смысла доверять методам, которые не учитывают эту разницу. Также несостоятельна наивная оценка в силу отсутствия полностью случайного разбиения по группам.     \n",
    "\n",
    "Таким образом, помимо наивной оценки, нас также не интерисуют результаты, полученные с помощью ANCOWA при подстановки $y_{i0}$ в явном виде, при использование модификации  и Cuped. Также стоит отметить, что в данной задаче применение Cuped не оправдано также тем, что после внесения поправки дисперсия $y$ почти не поменялась.   \n",
    "\n",
    "Рассмотрим подробнее результаты полученные с помощью регрессии, ANCOWA с использованием признаков, Difference in difference и Propensity Score. Видим, что результат Difference in difference почти не отличается от наивного подхода, онако мы получаем даже более широкий доверительный интервал, а значит не будем рассматривать результаты, полученные данным методом. Сравнивая результаты регрессии и ANCOWA с использованием признаков видим, что доверительные интервала полученные c помощью ANCOWA значительно более узкие, а значит отдаем предпочтение данному методу.\n",
    "\n",
    "Осталось сравнить ANCOWA с использованием признаков и Propensity Score. Оценка, полученная для Propensity Score во многом зависит от качества модели, которая находит веса признаков. В данной задаче нас интересует данный подход, поскольку было показано, что treatment зависит от объектов. Однако видим, что доверительный интервал, полученный с помощью ANCOWA почти полностью вложен в доверительый интервал от Propensity Score, который гораздо шире, а  значит использование поправки на принадлежность обекта к tretment не дает нам значимого улучшения оценки, а лишь увеличивает диапазон возможного ATE.  \n",
    "\n",
    "Таким образом, подводя итог вышесказанному, делаем вывод о том, что __лучшим__ способом нахождения ATE в данной задаче является __ANCOWA, где вместо  $y_{i0}$ используются признаки Х объектов__"
   ]
  },
  {
   "cell_type": "markdown",
   "metadata": {},
   "source": [
    "# Часть 3"
   ]
  },
  {
   "cell_type": "markdown",
   "metadata": {},
   "source": [
    "Скачаем данные и разобьем на treatment и control группы"
   ]
  },
  {
   "cell_type": "code",
   "execution_count": 60,
   "metadata": {},
   "outputs": [],
   "source": [
    "data_part_3 = pd.read_csv('data/data/dataset_part3_students.csv', sep = '\\t')\n",
    "control_part3 = data_part_3[data_part_3.treatment == 'control']\n",
    "treatment_part3 = data_part_3[data_part_3.treatment == 'treatment']"
   ]
  },
  {
   "cell_type": "markdown",
   "metadata": {},
   "source": [
    "Посмтрим на данные"
   ]
  },
  {
   "cell_type": "code",
   "execution_count": 61,
   "metadata": {},
   "outputs": [
    {
     "data": {
      "text/html": [
       "<div>\n",
       "<style scoped>\n",
       "    .dataframe tbody tr th:only-of-type {\n",
       "        vertical-align: middle;\n",
       "    }\n",
       "\n",
       "    .dataframe tbody tr th {\n",
       "        vertical-align: top;\n",
       "    }\n",
       "\n",
       "    .dataframe thead th {\n",
       "        text-align: right;\n",
       "    }\n",
       "</style>\n",
       "<table border=\"1\" class=\"dataframe\">\n",
       "  <thead>\n",
       "    <tr style=\"text-align: right;\">\n",
       "      <th></th>\n",
       "      <th>treatment</th>\n",
       "      <th>X_1</th>\n",
       "      <th>X_2</th>\n",
       "      <th>X_3</th>\n",
       "      <th>X_4</th>\n",
       "      <th>X_5</th>\n",
       "      <th>X_6</th>\n",
       "      <th>X_7</th>\n",
       "      <th>X_8</th>\n",
       "      <th>X_9</th>\n",
       "      <th>...</th>\n",
       "      <th>X_14</th>\n",
       "      <th>X_15</th>\n",
       "      <th>X_16</th>\n",
       "      <th>X_17</th>\n",
       "      <th>X_18</th>\n",
       "      <th>X_19</th>\n",
       "      <th>X_20</th>\n",
       "      <th>X_21</th>\n",
       "      <th>X_22</th>\n",
       "      <th>conversion</th>\n",
       "    </tr>\n",
       "  </thead>\n",
       "  <tbody>\n",
       "    <tr>\n",
       "      <th>0</th>\n",
       "      <td>control</td>\n",
       "      <td>0.034351</td>\n",
       "      <td>0.550725</td>\n",
       "      <td>-1.348524</td>\n",
       "      <td>-0.029591</td>\n",
       "      <td>0.499535</td>\n",
       "      <td>-0.412464</td>\n",
       "      <td>0.933588</td>\n",
       "      <td>-0.522954</td>\n",
       "      <td>-0.029591</td>\n",
       "      <td>...</td>\n",
       "      <td>-0.314573</td>\n",
       "      <td>-0.879456</td>\n",
       "      <td>0.640264</td>\n",
       "      <td>1.165722</td>\n",
       "      <td>0.570495</td>\n",
       "      <td>0.529443</td>\n",
       "      <td>0.227962</td>\n",
       "      <td>1.929914</td>\n",
       "      <td>0.798664</td>\n",
       "      <td>0</td>\n",
       "    </tr>\n",
       "    <tr>\n",
       "      <th>1</th>\n",
       "      <td>control</td>\n",
       "      <td>-1.059404</td>\n",
       "      <td>0.299404</td>\n",
       "      <td>0.220273</td>\n",
       "      <td>-1.569660</td>\n",
       "      <td>1.084204</td>\n",
       "      <td>-2.167118</td>\n",
       "      <td>1.216469</td>\n",
       "      <td>-0.744547</td>\n",
       "      <td>-1.569660</td>\n",
       "      <td>...</td>\n",
       "      <td>0.303664</td>\n",
       "      <td>1.080643</td>\n",
       "      <td>2.646483</td>\n",
       "      <td>-0.329690</td>\n",
       "      <td>1.725636</td>\n",
       "      <td>1.434649</td>\n",
       "      <td>-2.064893</td>\n",
       "      <td>0.188000</td>\n",
       "      <td>-1.134651</td>\n",
       "      <td>0</td>\n",
       "    </tr>\n",
       "    <tr>\n",
       "      <th>2</th>\n",
       "      <td>control</td>\n",
       "      <td>0.051934</td>\n",
       "      <td>2.338729</td>\n",
       "      <td>-0.341017</td>\n",
       "      <td>-1.099362</td>\n",
       "      <td>0.693090</td>\n",
       "      <td>-2.424267</td>\n",
       "      <td>1.572066</td>\n",
       "      <td>-0.212798</td>\n",
       "      <td>-1.099362</td>\n",
       "      <td>...</td>\n",
       "      <td>-0.083721</td>\n",
       "      <td>-1.981712</td>\n",
       "      <td>0.224777</td>\n",
       "      <td>2.038004</td>\n",
       "      <td>2.516398</td>\n",
       "      <td>2.324280</td>\n",
       "      <td>-3.182196</td>\n",
       "      <td>-0.888490</td>\n",
       "      <td>-1.402561</td>\n",
       "      <td>0</td>\n",
       "    </tr>\n",
       "    <tr>\n",
       "      <th>3</th>\n",
       "      <td>treatment</td>\n",
       "      <td>0.667770</td>\n",
       "      <td>0.539316</td>\n",
       "      <td>0.468719</td>\n",
       "      <td>-0.840885</td>\n",
       "      <td>-0.708331</td>\n",
       "      <td>0.126634</td>\n",
       "      <td>1.275854</td>\n",
       "      <td>-0.954919</td>\n",
       "      <td>-0.840885</td>\n",
       "      <td>...</td>\n",
       "      <td>-0.752011</td>\n",
       "      <td>-0.347319</td>\n",
       "      <td>-1.659402</td>\n",
       "      <td>-0.871980</td>\n",
       "      <td>-0.893513</td>\n",
       "      <td>-0.658078</td>\n",
       "      <td>-2.704997</td>\n",
       "      <td>-0.390745</td>\n",
       "      <td>-1.578004</td>\n",
       "      <td>1</td>\n",
       "    </tr>\n",
       "    <tr>\n",
       "      <th>4</th>\n",
       "      <td>control</td>\n",
       "      <td>-1.416158</td>\n",
       "      <td>2.486628</td>\n",
       "      <td>0.496402</td>\n",
       "      <td>-1.174618</td>\n",
       "      <td>2.738267</td>\n",
       "      <td>-4.756755</td>\n",
       "      <td>-0.180918</td>\n",
       "      <td>-1.281432</td>\n",
       "      <td>-1.174618</td>\n",
       "      <td>...</td>\n",
       "      <td>-1.198151</td>\n",
       "      <td>-0.232961</td>\n",
       "      <td>0.948875</td>\n",
       "      <td>1.210523</td>\n",
       "      <td>1.536723</td>\n",
       "      <td>1.548610</td>\n",
       "      <td>-0.926435</td>\n",
       "      <td>0.972459</td>\n",
       "      <td>-0.711251</td>\n",
       "      <td>0</td>\n",
       "    </tr>\n",
       "  </tbody>\n",
       "</table>\n",
       "<p>5 rows × 24 columns</p>\n",
       "</div>"
      ],
      "text/plain": [
       "   treatment       X_1       X_2       X_3       X_4       X_5       X_6  \\\n",
       "0    control  0.034351  0.550725 -1.348524 -0.029591  0.499535 -0.412464   \n",
       "1    control -1.059404  0.299404  0.220273 -1.569660  1.084204 -2.167118   \n",
       "2    control  0.051934  2.338729 -0.341017 -1.099362  0.693090 -2.424267   \n",
       "3  treatment  0.667770  0.539316  0.468719 -0.840885 -0.708331  0.126634   \n",
       "4    control -1.416158  2.486628  0.496402 -1.174618  2.738267 -4.756755   \n",
       "\n",
       "        X_7       X_8       X_9  ...      X_14      X_15      X_16      X_17  \\\n",
       "0  0.933588 -0.522954 -0.029591  ... -0.314573 -0.879456  0.640264  1.165722   \n",
       "1  1.216469 -0.744547 -1.569660  ...  0.303664  1.080643  2.646483 -0.329690   \n",
       "2  1.572066 -0.212798 -1.099362  ... -0.083721 -1.981712  0.224777  2.038004   \n",
       "3  1.275854 -0.954919 -0.840885  ... -0.752011 -0.347319 -1.659402 -0.871980   \n",
       "4 -0.180918 -1.281432 -1.174618  ... -1.198151 -0.232961  0.948875  1.210523   \n",
       "\n",
       "       X_18      X_19      X_20      X_21      X_22  conversion  \n",
       "0  0.570495  0.529443  0.227962  1.929914  0.798664           0  \n",
       "1  1.725636  1.434649 -2.064893  0.188000 -1.134651           0  \n",
       "2  2.516398  2.324280 -3.182196 -0.888490 -1.402561           0  \n",
       "3 -0.893513 -0.658078 -2.704997 -0.390745 -1.578004           1  \n",
       "4  1.536723  1.548610 -0.926435  0.972459 -0.711251           0  \n",
       "\n",
       "[5 rows x 24 columns]"
      ]
     },
     "execution_count": 61,
     "metadata": {},
     "output_type": "execute_result"
    }
   ],
   "source": [
    "data_part_3.head()"
   ]
  },
  {
   "cell_type": "code",
   "execution_count": 62,
   "metadata": {},
   "outputs": [
    {
     "data": {
      "text/html": [
       "<div>\n",
       "<style scoped>\n",
       "    .dataframe tbody tr th:only-of-type {\n",
       "        vertical-align: middle;\n",
       "    }\n",
       "\n",
       "    .dataframe tbody tr th {\n",
       "        vertical-align: top;\n",
       "    }\n",
       "\n",
       "    .dataframe thead th {\n",
       "        text-align: right;\n",
       "    }\n",
       "</style>\n",
       "<table border=\"1\" class=\"dataframe\">\n",
       "  <thead>\n",
       "    <tr style=\"text-align: right;\">\n",
       "      <th></th>\n",
       "      <th>X_1</th>\n",
       "      <th>X_2</th>\n",
       "      <th>X_3</th>\n",
       "      <th>X_4</th>\n",
       "      <th>X_5</th>\n",
       "      <th>X_6</th>\n",
       "      <th>X_7</th>\n",
       "      <th>X_8</th>\n",
       "      <th>X_9</th>\n",
       "      <th>X_10</th>\n",
       "      <th>...</th>\n",
       "      <th>X_14</th>\n",
       "      <th>X_15</th>\n",
       "      <th>X_16</th>\n",
       "      <th>X_17</th>\n",
       "      <th>X_18</th>\n",
       "      <th>X_19</th>\n",
       "      <th>X_20</th>\n",
       "      <th>X_21</th>\n",
       "      <th>X_22</th>\n",
       "      <th>conversion</th>\n",
       "    </tr>\n",
       "  </thead>\n",
       "  <tbody>\n",
       "    <tr>\n",
       "      <th>count</th>\n",
       "      <td>100000.000000</td>\n",
       "      <td>100000.000000</td>\n",
       "      <td>100000.000000</td>\n",
       "      <td>100000.000000</td>\n",
       "      <td>100000.000000</td>\n",
       "      <td>100000.000000</td>\n",
       "      <td>100000.000000</td>\n",
       "      <td>100000.000000</td>\n",
       "      <td>100000.000000</td>\n",
       "      <td>100000.000000</td>\n",
       "      <td>...</td>\n",
       "      <td>100000.000000</td>\n",
       "      <td>100000.000000</td>\n",
       "      <td>100000.000000</td>\n",
       "      <td>100000.000000</td>\n",
       "      <td>100000.000000</td>\n",
       "      <td>100000.000000</td>\n",
       "      <td>100000.000000</td>\n",
       "      <td>100000.000000</td>\n",
       "      <td>100000.000000</td>\n",
       "      <td>100000.000000</td>\n",
       "    </tr>\n",
       "    <tr>\n",
       "      <th>mean</th>\n",
       "      <td>-0.366829</td>\n",
       "      <td>1.002973</td>\n",
       "      <td>0.002849</td>\n",
       "      <td>-0.752908</td>\n",
       "      <td>1.000805</td>\n",
       "      <td>-1.667376</td>\n",
       "      <td>0.998831</td>\n",
       "      <td>-0.003893</td>\n",
       "      <td>-0.752908</td>\n",
       "      <td>0.003377</td>\n",
       "      <td>...</td>\n",
       "      <td>0.005911</td>\n",
       "      <td>-0.000004</td>\n",
       "      <td>0.726265</td>\n",
       "      <td>0.725486</td>\n",
       "      <td>0.725914</td>\n",
       "      <td>0.710574</td>\n",
       "      <td>-0.454185</td>\n",
       "      <td>0.451871</td>\n",
       "      <td>-0.226383</td>\n",
       "      <td>0.123400</td>\n",
       "    </tr>\n",
       "    <tr>\n",
       "      <th>std</th>\n",
       "      <td>0.746487</td>\n",
       "      <td>1.258198</td>\n",
       "      <td>1.002803</td>\n",
       "      <td>1.374147</td>\n",
       "      <td>1.245173</td>\n",
       "      <td>2.062123</td>\n",
       "      <td>1.039991</td>\n",
       "      <td>0.998991</td>\n",
       "      <td>1.374147</td>\n",
       "      <td>1.000768</td>\n",
       "      <td>...</td>\n",
       "      <td>0.997605</td>\n",
       "      <td>1.000011</td>\n",
       "      <td>1.298523</td>\n",
       "      <td>1.158037</td>\n",
       "      <td>1.374577</td>\n",
       "      <td>1.124633</td>\n",
       "      <td>1.454493</td>\n",
       "      <td>1.346033</td>\n",
       "      <td>0.883030</td>\n",
       "      <td>0.328897</td>\n",
       "    </tr>\n",
       "    <tr>\n",
       "      <th>min</th>\n",
       "      <td>-4.260103</td>\n",
       "      <td>-4.311804</td>\n",
       "      <td>-4.343408</td>\n",
       "      <td>-5.543052</td>\n",
       "      <td>-5.983915</td>\n",
       "      <td>-9.670401</td>\n",
       "      <td>-4.157957</td>\n",
       "      <td>-4.227920</td>\n",
       "      <td>-5.543052</td>\n",
       "      <td>-4.777980</td>\n",
       "      <td>...</td>\n",
       "      <td>-4.294128</td>\n",
       "      <td>-4.401616</td>\n",
       "      <td>-4.612110</td>\n",
       "      <td>-5.638730</td>\n",
       "      <td>-4.394009</td>\n",
       "      <td>-3.506754</td>\n",
       "      <td>-6.811223</td>\n",
       "      <td>-4.128365</td>\n",
       "      <td>-4.069459</td>\n",
       "      <td>0.000000</td>\n",
       "    </tr>\n",
       "    <tr>\n",
       "      <th>25%</th>\n",
       "      <td>-0.862295</td>\n",
       "      <td>0.155406</td>\n",
       "      <td>-0.671460</td>\n",
       "      <td>-1.660871</td>\n",
       "      <td>0.169458</td>\n",
       "      <td>-3.068365</td>\n",
       "      <td>0.313636</td>\n",
       "      <td>-0.676526</td>\n",
       "      <td>-1.660871</td>\n",
       "      <td>-0.671950</td>\n",
       "      <td>...</td>\n",
       "      <td>-0.666181</td>\n",
       "      <td>-0.675966</td>\n",
       "      <td>-0.106732</td>\n",
       "      <td>0.101311</td>\n",
       "      <td>-0.227216</td>\n",
       "      <td>-0.066023</td>\n",
       "      <td>-1.525151</td>\n",
       "      <td>-0.549392</td>\n",
       "      <td>-0.840779</td>\n",
       "      <td>0.000000</td>\n",
       "    </tr>\n",
       "    <tr>\n",
       "      <th>50%</th>\n",
       "      <td>-0.374992</td>\n",
       "      <td>1.002943</td>\n",
       "      <td>0.005735</td>\n",
       "      <td>-0.858696</td>\n",
       "      <td>1.003375</td>\n",
       "      <td>-1.690208</td>\n",
       "      <td>0.997153</td>\n",
       "      <td>-0.006442</td>\n",
       "      <td>-0.858696</td>\n",
       "      <td>0.008952</td>\n",
       "      <td>...</td>\n",
       "      <td>0.003600</td>\n",
       "      <td>0.002050</td>\n",
       "      <td>0.796608</td>\n",
       "      <td>0.839811</td>\n",
       "      <td>0.764678</td>\n",
       "      <td>0.739908</td>\n",
       "      <td>-0.369874</td>\n",
       "      <td>0.505542</td>\n",
       "      <td>-0.190663</td>\n",
       "      <td>0.000000</td>\n",
       "    </tr>\n",
       "    <tr>\n",
       "      <th>75%</th>\n",
       "      <td>0.120553</td>\n",
       "      <td>1.850634</td>\n",
       "      <td>0.678578</td>\n",
       "      <td>-0.005413</td>\n",
       "      <td>1.830796</td>\n",
       "      <td>-0.296957</td>\n",
       "      <td>1.678991</td>\n",
       "      <td>0.667326</td>\n",
       "      <td>-0.005413</td>\n",
       "      <td>0.676970</td>\n",
       "      <td>...</td>\n",
       "      <td>0.679084</td>\n",
       "      <td>0.673407</td>\n",
       "      <td>1.617153</td>\n",
       "      <td>1.502065</td>\n",
       "      <td>1.681685</td>\n",
       "      <td>1.489296</td>\n",
       "      <td>0.744728</td>\n",
       "      <td>1.432666</td>\n",
       "      <td>0.411224</td>\n",
       "      <td>0.000000</td>\n",
       "    </tr>\n",
       "    <tr>\n",
       "      <th>max</th>\n",
       "      <td>3.696048</td>\n",
       "      <td>6.218324</td>\n",
       "      <td>4.976332</td>\n",
       "      <td>7.459716</td>\n",
       "      <td>6.375762</td>\n",
       "      <td>9.094394</td>\n",
       "      <td>6.886500</td>\n",
       "      <td>5.439752</td>\n",
       "      <td>7.459716</td>\n",
       "      <td>4.325225</td>\n",
       "      <td>...</td>\n",
       "      <td>4.482854</td>\n",
       "      <td>4.322746</td>\n",
       "      <td>5.634097</td>\n",
       "      <td>4.982925</td>\n",
       "      <td>6.185047</td>\n",
       "      <td>5.036154</td>\n",
       "      <td>4.464374</td>\n",
       "      <td>5.539067</td>\n",
       "      <td>2.959013</td>\n",
       "      <td>1.000000</td>\n",
       "    </tr>\n",
       "  </tbody>\n",
       "</table>\n",
       "<p>8 rows × 23 columns</p>\n",
       "</div>"
      ],
      "text/plain": [
       "                 X_1            X_2            X_3            X_4  \\\n",
       "count  100000.000000  100000.000000  100000.000000  100000.000000   \n",
       "mean       -0.366829       1.002973       0.002849      -0.752908   \n",
       "std         0.746487       1.258198       1.002803       1.374147   \n",
       "min        -4.260103      -4.311804      -4.343408      -5.543052   \n",
       "25%        -0.862295       0.155406      -0.671460      -1.660871   \n",
       "50%        -0.374992       1.002943       0.005735      -0.858696   \n",
       "75%         0.120553       1.850634       0.678578      -0.005413   \n",
       "max         3.696048       6.218324       4.976332       7.459716   \n",
       "\n",
       "                 X_5            X_6            X_7            X_8  \\\n",
       "count  100000.000000  100000.000000  100000.000000  100000.000000   \n",
       "mean        1.000805      -1.667376       0.998831      -0.003893   \n",
       "std         1.245173       2.062123       1.039991       0.998991   \n",
       "min        -5.983915      -9.670401      -4.157957      -4.227920   \n",
       "25%         0.169458      -3.068365       0.313636      -0.676526   \n",
       "50%         1.003375      -1.690208       0.997153      -0.006442   \n",
       "75%         1.830796      -0.296957       1.678991       0.667326   \n",
       "max         6.375762       9.094394       6.886500       5.439752   \n",
       "\n",
       "                 X_9           X_10  ...           X_14           X_15  \\\n",
       "count  100000.000000  100000.000000  ...  100000.000000  100000.000000   \n",
       "mean       -0.752908       0.003377  ...       0.005911      -0.000004   \n",
       "std         1.374147       1.000768  ...       0.997605       1.000011   \n",
       "min        -5.543052      -4.777980  ...      -4.294128      -4.401616   \n",
       "25%        -1.660871      -0.671950  ...      -0.666181      -0.675966   \n",
       "50%        -0.858696       0.008952  ...       0.003600       0.002050   \n",
       "75%        -0.005413       0.676970  ...       0.679084       0.673407   \n",
       "max         7.459716       4.325225  ...       4.482854       4.322746   \n",
       "\n",
       "                X_16           X_17           X_18           X_19  \\\n",
       "count  100000.000000  100000.000000  100000.000000  100000.000000   \n",
       "mean        0.726265       0.725486       0.725914       0.710574   \n",
       "std         1.298523       1.158037       1.374577       1.124633   \n",
       "min        -4.612110      -5.638730      -4.394009      -3.506754   \n",
       "25%        -0.106732       0.101311      -0.227216      -0.066023   \n",
       "50%         0.796608       0.839811       0.764678       0.739908   \n",
       "75%         1.617153       1.502065       1.681685       1.489296   \n",
       "max         5.634097       4.982925       6.185047       5.036154   \n",
       "\n",
       "                X_20           X_21           X_22     conversion  \n",
       "count  100000.000000  100000.000000  100000.000000  100000.000000  \n",
       "mean       -0.454185       0.451871      -0.226383       0.123400  \n",
       "std         1.454493       1.346033       0.883030       0.328897  \n",
       "min        -6.811223      -4.128365      -4.069459       0.000000  \n",
       "25%        -1.525151      -0.549392      -0.840779       0.000000  \n",
       "50%        -0.369874       0.505542      -0.190663       0.000000  \n",
       "75%         0.744728       1.432666       0.411224       0.000000  \n",
       "max         4.464374       5.539067       2.959013       1.000000  \n",
       "\n",
       "[8 rows x 23 columns]"
      ]
     },
     "execution_count": 62,
     "metadata": {},
     "output_type": "execute_result"
    }
   ],
   "source": [
    "control_part3.describe()"
   ]
  },
  {
   "cell_type": "code",
   "execution_count": 63,
   "metadata": {},
   "outputs": [
    {
     "data": {
      "text/html": [
       "<div>\n",
       "<style scoped>\n",
       "    .dataframe tbody tr th:only-of-type {\n",
       "        vertical-align: middle;\n",
       "    }\n",
       "\n",
       "    .dataframe tbody tr th {\n",
       "        vertical-align: top;\n",
       "    }\n",
       "\n",
       "    .dataframe thead th {\n",
       "        text-align: right;\n",
       "    }\n",
       "</style>\n",
       "<table border=\"1\" class=\"dataframe\">\n",
       "  <thead>\n",
       "    <tr style=\"text-align: right;\">\n",
       "      <th></th>\n",
       "      <th>X_1</th>\n",
       "      <th>X_2</th>\n",
       "      <th>X_3</th>\n",
       "      <th>X_4</th>\n",
       "      <th>X_5</th>\n",
       "      <th>X_6</th>\n",
       "      <th>X_7</th>\n",
       "      <th>X_8</th>\n",
       "      <th>X_9</th>\n",
       "      <th>X_10</th>\n",
       "      <th>...</th>\n",
       "      <th>X_14</th>\n",
       "      <th>X_15</th>\n",
       "      <th>X_16</th>\n",
       "      <th>X_17</th>\n",
       "      <th>X_18</th>\n",
       "      <th>X_19</th>\n",
       "      <th>X_20</th>\n",
       "      <th>X_21</th>\n",
       "      <th>X_22</th>\n",
       "      <th>conversion</th>\n",
       "    </tr>\n",
       "  </thead>\n",
       "  <tbody>\n",
       "    <tr>\n",
       "      <th>count</th>\n",
       "      <td>100000.000000</td>\n",
       "      <td>100000.000000</td>\n",
       "      <td>100000.000000</td>\n",
       "      <td>100000.000000</td>\n",
       "      <td>100000.000000</td>\n",
       "      <td>100000.000000</td>\n",
       "      <td>100000.000000</td>\n",
       "      <td>100000.000000</td>\n",
       "      <td>100000.000000</td>\n",
       "      <td>100000.000000</td>\n",
       "      <td>...</td>\n",
       "      <td>100000.000000</td>\n",
       "      <td>100000.000000</td>\n",
       "      <td>100000.000000</td>\n",
       "      <td>100000.000000</td>\n",
       "      <td>100000.000000</td>\n",
       "      <td>100000.000000</td>\n",
       "      <td>100000.000000</td>\n",
       "      <td>100000.000000</td>\n",
       "      <td>100000.000000</td>\n",
       "      <td>100000.000000</td>\n",
       "    </tr>\n",
       "    <tr>\n",
       "      <th>mean</th>\n",
       "      <td>-0.366933</td>\n",
       "      <td>0.999009</td>\n",
       "      <td>0.001021</td>\n",
       "      <td>-0.760172</td>\n",
       "      <td>0.999362</td>\n",
       "      <td>-1.666837</td>\n",
       "      <td>1.002578</td>\n",
       "      <td>0.002472</td>\n",
       "      <td>-0.760172</td>\n",
       "      <td>0.006918</td>\n",
       "      <td>...</td>\n",
       "      <td>-0.004523</td>\n",
       "      <td>-0.002329</td>\n",
       "      <td>0.735338</td>\n",
       "      <td>0.724299</td>\n",
       "      <td>0.732731</td>\n",
       "      <td>0.715613</td>\n",
       "      <td>-0.455246</td>\n",
       "      <td>0.456396</td>\n",
       "      <td>-0.225979</td>\n",
       "      <td>0.182470</td>\n",
       "    </tr>\n",
       "    <tr>\n",
       "      <th>std</th>\n",
       "      <td>0.747614</td>\n",
       "      <td>1.263536</td>\n",
       "      <td>1.005301</td>\n",
       "      <td>1.375648</td>\n",
       "      <td>1.244454</td>\n",
       "      <td>2.064412</td>\n",
       "      <td>1.041281</td>\n",
       "      <td>1.000017</td>\n",
       "      <td>1.375648</td>\n",
       "      <td>1.002960</td>\n",
       "      <td>...</td>\n",
       "      <td>0.996372</td>\n",
       "      <td>0.999556</td>\n",
       "      <td>1.292815</td>\n",
       "      <td>1.155659</td>\n",
       "      <td>1.377788</td>\n",
       "      <td>1.127341</td>\n",
       "      <td>1.455326</td>\n",
       "      <td>1.341706</td>\n",
       "      <td>0.882412</td>\n",
       "      <td>0.386233</td>\n",
       "    </tr>\n",
       "    <tr>\n",
       "      <th>min</th>\n",
       "      <td>-4.204262</td>\n",
       "      <td>-4.369495</td>\n",
       "      <td>-4.670829</td>\n",
       "      <td>-5.754862</td>\n",
       "      <td>-4.638167</td>\n",
       "      <td>-10.220168</td>\n",
       "      <td>-4.166615</td>\n",
       "      <td>-4.215775</td>\n",
       "      <td>-5.754862</td>\n",
       "      <td>-4.630134</td>\n",
       "      <td>...</td>\n",
       "      <td>-4.528661</td>\n",
       "      <td>-4.026676</td>\n",
       "      <td>-5.578769</td>\n",
       "      <td>-5.449656</td>\n",
       "      <td>-4.638177</td>\n",
       "      <td>-3.808153</td>\n",
       "      <td>-6.462974</td>\n",
       "      <td>-4.291047</td>\n",
       "      <td>-3.891525</td>\n",
       "      <td>0.000000</td>\n",
       "    </tr>\n",
       "    <tr>\n",
       "      <th>25%</th>\n",
       "      <td>-0.863747</td>\n",
       "      <td>0.143495</td>\n",
       "      <td>-0.673526</td>\n",
       "      <td>-1.663068</td>\n",
       "      <td>0.166422</td>\n",
       "      <td>-3.052893</td>\n",
       "      <td>0.317361</td>\n",
       "      <td>-0.673382</td>\n",
       "      <td>-1.663068</td>\n",
       "      <td>-0.672640</td>\n",
       "      <td>...</td>\n",
       "      <td>-0.672427</td>\n",
       "      <td>-0.680700</td>\n",
       "      <td>-0.088521</td>\n",
       "      <td>0.107716</td>\n",
       "      <td>-0.229995</td>\n",
       "      <td>-0.069123</td>\n",
       "      <td>-1.525303</td>\n",
       "      <td>-0.545567</td>\n",
       "      <td>-0.833260</td>\n",
       "      <td>0.000000</td>\n",
       "    </tr>\n",
       "    <tr>\n",
       "      <th>50%</th>\n",
       "      <td>-0.371219</td>\n",
       "      <td>0.995926</td>\n",
       "      <td>0.004240</td>\n",
       "      <td>-0.870496</td>\n",
       "      <td>1.000029</td>\n",
       "      <td>-1.683343</td>\n",
       "      <td>1.003159</td>\n",
       "      <td>0.003135</td>\n",
       "      <td>-0.870496</td>\n",
       "      <td>0.006637</td>\n",
       "      <td>...</td>\n",
       "      <td>-0.008813</td>\n",
       "      <td>-0.002654</td>\n",
       "      <td>0.803795</td>\n",
       "      <td>0.839300</td>\n",
       "      <td>0.764249</td>\n",
       "      <td>0.741015</td>\n",
       "      <td>-0.375824</td>\n",
       "      <td>0.506757</td>\n",
       "      <td>-0.195989</td>\n",
       "      <td>0.000000</td>\n",
       "    </tr>\n",
       "    <tr>\n",
       "      <th>75%</th>\n",
       "      <td>0.120371</td>\n",
       "      <td>1.851978</td>\n",
       "      <td>0.681745</td>\n",
       "      <td>-0.019459</td>\n",
       "      <td>1.834009</td>\n",
       "      <td>-0.296739</td>\n",
       "      <td>1.684772</td>\n",
       "      <td>0.676232</td>\n",
       "      <td>-0.019459</td>\n",
       "      <td>0.681211</td>\n",
       "      <td>...</td>\n",
       "      <td>0.664021</td>\n",
       "      <td>0.667918</td>\n",
       "      <td>1.624713</td>\n",
       "      <td>1.498651</td>\n",
       "      <td>1.691478</td>\n",
       "      <td>1.500556</td>\n",
       "      <td>0.749593</td>\n",
       "      <td>1.431494</td>\n",
       "      <td>0.411306</td>\n",
       "      <td>0.000000</td>\n",
       "    </tr>\n",
       "    <tr>\n",
       "      <th>max</th>\n",
       "      <td>4.121888</td>\n",
       "      <td>6.726024</td>\n",
       "      <td>4.682374</td>\n",
       "      <td>9.593777</td>\n",
       "      <td>6.820825</td>\n",
       "      <td>7.754636</td>\n",
       "      <td>7.081333</td>\n",
       "      <td>4.296814</td>\n",
       "      <td>9.593777</td>\n",
       "      <td>4.248228</td>\n",
       "      <td>...</td>\n",
       "      <td>4.342713</td>\n",
       "      <td>5.125249</td>\n",
       "      <td>5.660769</td>\n",
       "      <td>4.656119</td>\n",
       "      <td>6.418469</td>\n",
       "      <td>5.431105</td>\n",
       "      <td>5.147421</td>\n",
       "      <td>6.085848</td>\n",
       "      <td>3.196679</td>\n",
       "      <td>1.000000</td>\n",
       "    </tr>\n",
       "  </tbody>\n",
       "</table>\n",
       "<p>8 rows × 23 columns</p>\n",
       "</div>"
      ],
      "text/plain": [
       "                 X_1            X_2            X_3            X_4  \\\n",
       "count  100000.000000  100000.000000  100000.000000  100000.000000   \n",
       "mean       -0.366933       0.999009       0.001021      -0.760172   \n",
       "std         0.747614       1.263536       1.005301       1.375648   \n",
       "min        -4.204262      -4.369495      -4.670829      -5.754862   \n",
       "25%        -0.863747       0.143495      -0.673526      -1.663068   \n",
       "50%        -0.371219       0.995926       0.004240      -0.870496   \n",
       "75%         0.120371       1.851978       0.681745      -0.019459   \n",
       "max         4.121888       6.726024       4.682374       9.593777   \n",
       "\n",
       "                 X_5            X_6            X_7            X_8  \\\n",
       "count  100000.000000  100000.000000  100000.000000  100000.000000   \n",
       "mean        0.999362      -1.666837       1.002578       0.002472   \n",
       "std         1.244454       2.064412       1.041281       1.000017   \n",
       "min        -4.638167     -10.220168      -4.166615      -4.215775   \n",
       "25%         0.166422      -3.052893       0.317361      -0.673382   \n",
       "50%         1.000029      -1.683343       1.003159       0.003135   \n",
       "75%         1.834009      -0.296739       1.684772       0.676232   \n",
       "max         6.820825       7.754636       7.081333       4.296814   \n",
       "\n",
       "                 X_9           X_10  ...           X_14           X_15  \\\n",
       "count  100000.000000  100000.000000  ...  100000.000000  100000.000000   \n",
       "mean       -0.760172       0.006918  ...      -0.004523      -0.002329   \n",
       "std         1.375648       1.002960  ...       0.996372       0.999556   \n",
       "min        -5.754862      -4.630134  ...      -4.528661      -4.026676   \n",
       "25%        -1.663068      -0.672640  ...      -0.672427      -0.680700   \n",
       "50%        -0.870496       0.006637  ...      -0.008813      -0.002654   \n",
       "75%        -0.019459       0.681211  ...       0.664021       0.667918   \n",
       "max         9.593777       4.248228  ...       4.342713       5.125249   \n",
       "\n",
       "                X_16           X_17           X_18           X_19  \\\n",
       "count  100000.000000  100000.000000  100000.000000  100000.000000   \n",
       "mean        0.735338       0.724299       0.732731       0.715613   \n",
       "std         1.292815       1.155659       1.377788       1.127341   \n",
       "min        -5.578769      -5.449656      -4.638177      -3.808153   \n",
       "25%        -0.088521       0.107716      -0.229995      -0.069123   \n",
       "50%         0.803795       0.839300       0.764249       0.741015   \n",
       "75%         1.624713       1.498651       1.691478       1.500556   \n",
       "max         5.660769       4.656119       6.418469       5.431105   \n",
       "\n",
       "                X_20           X_21           X_22     conversion  \n",
       "count  100000.000000  100000.000000  100000.000000  100000.000000  \n",
       "mean       -0.455246       0.456396      -0.225979       0.182470  \n",
       "std         1.455326       1.341706       0.882412       0.386233  \n",
       "min        -6.462974      -4.291047      -3.891525       0.000000  \n",
       "25%        -1.525303      -0.545567      -0.833260       0.000000  \n",
       "50%        -0.375824       0.506757      -0.195989       0.000000  \n",
       "75%         0.749593       1.431494       0.411306       0.000000  \n",
       "max         5.147421       6.085848       3.196679       1.000000  \n",
       "\n",
       "[8 rows x 23 columns]"
      ]
     },
     "execution_count": 63,
     "metadata": {},
     "output_type": "execute_result"
    }
   ],
   "source": [
    "treatment_part3.describe()"
   ]
  },
  {
   "cell_type": "markdown",
   "metadata": {},
   "source": [
    "## 1) Оценим АТЕ воздействия"
   ]
  },
  {
   "cell_type": "markdown",
   "metadata": {},
   "source": [
    "Для начала проверим гипотезу о равенстве долей конверсии в двух группах.  \n",
    "Посмотрим на доверительные интервалы для каждой из долей. Воспользуемся методом Уилсона."
   ]
  },
  {
   "cell_type": "code",
   "execution_count": 64,
   "metadata": {},
   "outputs": [
    {
     "name": "stdout",
     "output_type": "stream",
     "text": [
      "доверительный интервал для доли конверсии в treatment группе  (0.1800883691502143, 0.1848760254810627)\n"
     ]
    }
   ],
   "source": [
    "print('доверительный интервал для доли конверсии в treatment группе ', \n",
    "      proportion_confint(treatment_part3.conversion.sum(), treatment_part3.shape[0], method='wilson'))"
   ]
  },
  {
   "cell_type": "code",
   "execution_count": 65,
   "metadata": {},
   "outputs": [
    {
     "name": "stdout",
     "output_type": "stream",
     "text": [
      "доверительный интервал для доли конверсии в control группе  (0.12137597443752296, 0.1254529583188746)\n"
     ]
    }
   ],
   "source": [
    "print('доверительный интервал для доли конверсии в control группе ',\n",
    "      proportion_confint(control_part3.conversion.sum(), control_part3.shape[0], method='wilson'))"
   ]
  },
  {
   "cell_type": "markdown",
   "metadata": {},
   "source": [
    "Видим, что доверительные интервалы не пересекаются.   \n",
    "Посмотрим, пересекает ли ноль доверительный интервал для разности долей двух выборок."
   ]
  },
  {
   "cell_type": "code",
   "execution_count": 66,
   "metadata": {},
   "outputs": [],
   "source": [
    "def proportions_diff_confint_ind(sample1, sample2, alpha = 0.05):    \n",
    "    z = scipy.stats.norm.ppf(1 - alpha / 2.)\n",
    "    \n",
    "    p1 = float(sum(sample1)) / len(sample1)\n",
    "    p2 = float(sum(sample2)) / len(sample2)\n",
    "    \n",
    "    left_boundary = (p1 - p2) - z * np.sqrt(p1 * (1 - p1)/ len(sample1) + p2 * (1 - p2)/ len(sample2))\n",
    "    right_boundary = (p1 - p2) + z * np.sqrt(p1 * (1 - p1)/ len(sample1) + p2 * (1 - p2)/ len(sample2))\n",
    "    \n",
    "    return (left_boundary, right_boundary)"
   ]
  },
  {
   "cell_type": "code",
   "execution_count": 67,
   "metadata": {},
   "outputs": [
    {
     "name": "stdout",
     "output_type": "stream",
     "text": [
      "доверительный интервал для разности долей  (0.05592581737573007, 0.06221418262426993)\n"
     ]
    }
   ],
   "source": [
    "confint_proport = proportions_diff_confint_ind(treatment_part3.conversion, control_part3.conversion)\n",
    "print('доверительный интервал для разности долей ', confint_proport)"
   ]
  },
  {
   "cell_type": "markdown",
   "metadata": {},
   "source": [
    "Видим, что ноль также не пересекается. В таком случае можно предположить наличие статистически значимой разнице между двумя долями.  \n",
    "Проверим это с помощью Z-критерий для разности долей в независимых выборках."
   ]
  },
  {
   "cell_type": "markdown",
   "metadata": {},
   "source": [
    "Функция для нахождения Z статистики "
   ]
  },
  {
   "cell_type": "code",
   "execution_count": 68,
   "metadata": {},
   "outputs": [],
   "source": [
    "def proportions_diff_z_stat_ind(sample1, sample2):\n",
    "    n1 = len(sample1)\n",
    "    n2 = len(sample2)\n",
    "    \n",
    "    p1 = float(sum(sample1)) / n1\n",
    "    p2 = float(sum(sample2)) / n2 \n",
    "    P = float(p1*n1 + p2*n2) / (n1 + n2)\n",
    "    \n",
    "    return (p1 - p2) / np.sqrt(P * (1 - P) * (1. / n1 + 1. / n2))"
   ]
  },
  {
   "cell_type": "markdown",
   "metadata": {},
   "source": [
    "Функция для проведения z-теста:  \n",
    "H0 - доли в двух выборках равны  \n",
    "H1 - дол в двух выборках не равны (двухсторонняя альтернатива)"
   ]
  },
  {
   "cell_type": "code",
   "execution_count": 69,
   "metadata": {},
   "outputs": [
    {
     "name": "stdout",
     "output_type": "stream",
     "text": [
      "p_value =  0.0\n"
     ]
    }
   ],
   "source": [
    "def proportions_diff_z_test(z_stat):\n",
    "    return 2 * (1 - scipy.stats.norm.cdf(np.abs(z_stat)))\n",
    "\n",
    "z_stat = proportions_diff_z_stat_ind(treatment_part3.conversion, control_part3.conversion)\n",
    "print('p_value = ',proportions_diff_z_test(z_stat))"
   ]
  },
  {
   "cell_type": "markdown",
   "metadata": {},
   "source": [
    "Видим, что нулевая гипотеза уверенно отвергается на уровне значимсоти 0.05"
   ]
  },
  {
   "cell_type": "markdown",
   "metadata": {},
   "source": [
    "Проверим, зависит ли treatment от объектов "
   ]
  },
  {
   "cell_type": "code",
   "execution_count": 70,
   "metadata": {},
   "outputs": [],
   "source": [
    "LE = LabelEncoder()\n",
    "LE.fit(data_part_3.treatment)\n",
    "y = LE.transform(data_part_3.treatment)"
   ]
  },
  {
   "cell_type": "code",
   "execution_count": 71,
   "metadata": {},
   "outputs": [
    {
     "name": "stdout",
     "output_type": "stream",
     "text": [
      "качество константного классификатора =  0.50105\n"
     ]
    }
   ],
   "source": [
    "X_train, X_test, y_train, y_test = train_test_split(data_part_3.iloc[:, 1:23], y, test_size = 0.3)\n",
    "print('качество константного классификатора = ', y_test[y_test == 1 ].shape[0]/y_test.shape[0])"
   ]
  },
  {
   "cell_type": "code",
   "execution_count": 72,
   "metadata": {},
   "outputs": [
    {
     "name": "stdout",
     "output_type": "stream",
     "text": [
      "accuracy LR =  0.4998666666666667\n"
     ]
    }
   ],
   "source": [
    "classif = LogisticRegression()\n",
    "classif.fit(X_train, y_train)\n",
    "print('accuracy LR = ', classif.score(X_test, y_test))"
   ]
  },
  {
   "cell_type": "code",
   "execution_count": 73,
   "metadata": {},
   "outputs": [
    {
     "name": "stdout",
     "output_type": "stream",
     "text": [
      "accuracy RF =  0.49975\n"
     ]
    }
   ],
   "source": [
    "classif = RandomForestClassifier(n_estimators=400)\n",
    "classif.fit(X_train, y_train)\n",
    "print('accuracy RF = ', classif.score(X_test, y_test))"
   ]
  },
  {
   "cell_type": "markdown",
   "metadata": {},
   "source": [
    "Видим, что качество модели не лучше чем качество константного классификатора, а значит можно сделать вывод что treatment не зависит от объектов "
   ]
  },
  {
   "cell_type": "markdown",
   "metadata": {},
   "source": [
    "Так как экспримент был хорошо рандомизирован будем использовать наивный подход для оценки ATE, поскольку в данном случае его оценкам можно доверять с большей уверенностью.  \n",
    "Доверительный интервал при таком подходе был найден ранее."
   ]
  },
  {
   "cell_type": "code",
   "execution_count": 74,
   "metadata": {},
   "outputs": [
    {
     "name": "stdout",
     "output_type": "stream",
     "text": [
      "tau_naive =  0.05907\n",
      "доверительный интервал  (0.05592581737573007, 0.06221418262426993)\n"
     ]
    }
   ],
   "source": [
    "tau_naive_part3 = treatment_part3.conversion.mean() - control_part3.conversion.mean()\n",
    "print('tau_naive = ', tau_naive_part3)\n",
    "print('доверительный интервал ', confint_proport)"
   ]
  },
  {
   "cell_type": "markdown",
   "metadata": {},
   "source": [
    "## 2)Оценим Cate для каждого объекта"
   ]
  },
  {
   "cell_type": "markdown",
   "metadata": {},
   "source": [
    "Перед оценкой СATE сделаем следующие предположения о выборках:  \n",
    "- 1) __unconfoundedness__ :   \n",
    "treatment assignment не зависит от результата эксперемента при условии контроля за X. Как было показано выше, полная независимость не выполняется, однако это не мешает выполнению данного предположения.\n",
    "- 2) __Overlap__ :  \n",
    "Нет таких характерных объектов, для которых не возможен treatment."
   ]
  },
  {
   "cell_type": "markdown",
   "metadata": {},
   "source": [
    "В качестве метода определения САТЕ будем использовать __T-learner__  \n",
    "Обучим модель $\\mu_{0}$ на control группе, модель $\\mu_{1}$ на treatment группе.  \n",
    "Будем определять САТЕ для каждого объекта как: $ \\tau_{cate}(x) = \\mu_{1}(x) - \\mu_{0}(x)$  \n",
    "В качестве алгоритма обучения возьмем случайный лес"
   ]
  },
  {
   "cell_type": "code",
   "execution_count": 75,
   "metadata": {},
   "outputs": [],
   "source": [
    "mu_1 = RandomForestRegressor(n_estimators=50)\n",
    "mu_1.fit(treatment_part3.iloc[:, 1:23], treatment_part3.conversion)\n",
    "mu_1_predict = mu_1.predict(data_part_3.iloc[:, 1:23])\n",
    "\n",
    "mu_0 = RandomForestRegressor(n_estimators=50)\n",
    "mu_0.fit(control_part3.iloc[:, 1:23], control_part3.conversion)\n",
    "mu_0_predict = mu_0.predict(data_part_3.iloc[:, 1:23])\n",
    "\n",
    "tau = mu_1_predict - mu_0_predict\n",
    "\n",
    "data_part_3['tau_Tlearner'] = tau"
   ]
  },
  {
   "cell_type": "markdown",
   "metadata": {},
   "source": [
    "## 3) Проставим рекомендации к воздействию на каждый объект и найдем конверсию при оптимальном воздействии.\n",
    "Будем рекомендовать воздействовать на клиента если $\\tau_{cate}$ > 0 "
   ]
  },
  {
   "cell_type": "code",
   "execution_count": 76,
   "metadata": {},
   "outputs": [],
   "source": [
    "data_part_3['W_optimal'] = [1 if x > 0 else 0 for x in data_part_3.tau_Tlearner ]"
   ]
  },
  {
   "cell_type": "markdown",
   "metadata": {},
   "source": [
    "Посмотрим, на скольких человек рекомендуется воздействовать"
   ]
  },
  {
   "cell_type": "code",
   "execution_count": 77,
   "metadata": {},
   "outputs": [
    {
     "data": {
      "text/plain": [
       "73813"
      ]
     },
     "execution_count": 77,
     "metadata": {},
     "output_type": "execute_result"
    }
   ],
   "source": [
    "data_part_3.W_optimal.sum()"
   ]
  },
  {
   "cell_type": "markdown",
   "metadata": {},
   "source": [
    "Т.е. вместо 100 000 человек воздействие было оказано на 73553"
   ]
  },
  {
   "cell_type": "markdown",
   "metadata": {},
   "source": [
    "Посчитаем ожидаемую ковесрию как долю пользователей с conversion = 1  среди тех на которых было оказано оптимальное воздействие.  "
   ]
  },
  {
   "cell_type": "code",
   "execution_count": 78,
   "metadata": {},
   "outputs": [
    {
     "name": "stdout",
     "output_type": "stream",
     "text": [
      "ожидаемая конверсия составляет  20.45 %\n"
     ]
    }
   ],
   "source": [
    "print('ожидаемая конверсия составляет ' ,\n",
    "      np.round(data_part_3[data_part_3.W_optimal ==  1].conversion.mean() * 100, 2), '%')"
   ]
  },
  {
   "cell_type": "markdown",
   "metadata": {},
   "source": [
    "Конверсия при изначальном воздействие составляла 18 %"
   ]
  },
  {
   "cell_type": "markdown",
   "metadata": {},
   "source": [
    "## Выводы часть 3"
   ]
  },
  {
   "cell_type": "markdown",
   "metadata": {},
   "source": [
    "Таким образом, в ходе выполнения данного задания был реализован метод T-learner для оценки САТЕ для каждого объекта. На основание полученных оценок условного эффекта воздействия для каждого объекта было проставлено рекомендуемое воздействие.  \n",
    "\n",
    "Оценка конверсии при рекомендованном воздействие показала, что мы можем воздейстовать на меньшее кол-во объектов, и при это получить большую конверсию."
   ]
  }
 ],
 "metadata": {
  "kernelspec": {
   "display_name": "Python 3",
   "language": "python",
   "name": "python3"
  },
  "language_info": {
   "codemirror_mode": {
    "name": "ipython",
    "version": 3
   },
   "file_extension": ".py",
   "mimetype": "text/x-python",
   "name": "python",
   "nbconvert_exporter": "python",
   "pygments_lexer": "ipython3",
   "version": "3.8.3"
  }
 },
 "nbformat": 4,
 "nbformat_minor": 4
}
