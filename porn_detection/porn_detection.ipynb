{
 "cells": [
  {
   "cell_type": "code",
   "execution_count": 1,
   "metadata": {},
   "outputs": [],
   "source": [
    "from sklearn.feature_extraction.text import TfidfVectorizer\n",
    "from sklearn.ensemble import RandomForestClassifier\n",
    "from sklearn.model_selection import cross_val_score\n",
    "import sklearn\n",
    "from scipy import sparse\n",
    "import numpy as np\n",
    "import pandas as pd\n",
    "from sklearn.metrics import f1_score\n",
    "from sklearn.linear_model import LogisticRegression\n",
    "from sklearn.naive_bayes import MultinomialNB\n",
    "from sklearn.ensemble import VotingClassifier\n",
    "from sklearn.model_selection import GridSearchCV\n",
    "import nltk\n",
    "from pymystem3 import Mystem\n",
    "from xgboost import XGBClassifier\n"
   ]
  },
  {
   "cell_type": "markdown",
   "metadata": {},
   "source": [
    "## Посмотрим на данные"
   ]
  },
  {
   "cell_type": "code",
   "execution_count": 2,
   "metadata": {},
   "outputs": [
    {
     "data": {
      "text/html": [
       "<div>\n",
       "<style scoped>\n",
       "    .dataframe tbody tr th:only-of-type {\n",
       "        vertical-align: middle;\n",
       "    }\n",
       "\n",
       "    .dataframe tbody tr th {\n",
       "        vertical-align: top;\n",
       "    }\n",
       "\n",
       "    .dataframe thead th {\n",
       "        text-align: right;\n",
       "    }\n",
       "</style>\n",
       "<table border=\"1\" class=\"dataframe\">\n",
       "  <thead>\n",
       "    <tr style=\"text-align: right;\">\n",
       "      <th></th>\n",
       "      <th>id</th>\n",
       "      <th>url</th>\n",
       "      <th>title</th>\n",
       "      <th>target</th>\n",
       "    </tr>\n",
       "  </thead>\n",
       "  <tbody>\n",
       "    <tr>\n",
       "      <th>0</th>\n",
       "      <td>0</td>\n",
       "      <td>m.kp.md</td>\n",
       "      <td>Экс-министр экономики Молдовы - главе МИДЭИ, ц...</td>\n",
       "      <td>False</td>\n",
       "    </tr>\n",
       "    <tr>\n",
       "      <th>1</th>\n",
       "      <td>1</td>\n",
       "      <td>www.kp.by</td>\n",
       "      <td>Эта песня стала известна многим телезрителям б...</td>\n",
       "      <td>False</td>\n",
       "    </tr>\n",
       "    <tr>\n",
       "      <th>2</th>\n",
       "      <td>2</td>\n",
       "      <td>fanserials.tv</td>\n",
       "      <td>Банши 4 сезон 2 серия Бремя красоты смотреть о...</td>\n",
       "      <td>False</td>\n",
       "    </tr>\n",
       "    <tr>\n",
       "      <th>3</th>\n",
       "      <td>3</td>\n",
       "      <td>colorbox.spb.ru</td>\n",
       "      <td>Не Беси Меня Картинки</td>\n",
       "      <td>False</td>\n",
       "    </tr>\n",
       "    <tr>\n",
       "      <th>4</th>\n",
       "      <td>4</td>\n",
       "      <td>tula-sport.ru</td>\n",
       "      <td>В Новомосковске сыграют следж-хоккеисты алекси...</td>\n",
       "      <td>False</td>\n",
       "    </tr>\n",
       "  </tbody>\n",
       "</table>\n",
       "</div>"
      ],
      "text/plain": [
       "   id              url                                              title  \\\n",
       "0   0          m.kp.md  Экс-министр экономики Молдовы - главе МИДЭИ, ц...   \n",
       "1   1        www.kp.by  Эта песня стала известна многим телезрителям б...   \n",
       "2   2    fanserials.tv  Банши 4 сезон 2 серия Бремя красоты смотреть о...   \n",
       "3   3  colorbox.spb.ru                              Не Беси Меня Картинки   \n",
       "4   4    tula-sport.ru  В Новомосковске сыграют следж-хоккеисты алекси...   \n",
       "\n",
       "   target  \n",
       "0   False  \n",
       "1   False  \n",
       "2   False  \n",
       "3   False  \n",
       "4   False  "
      ]
     },
     "execution_count": 2,
     "metadata": {},
     "output_type": "execute_result"
    }
   ],
   "source": [
    "train_df = pd.read_csv(\"train.csv\")\n",
    "train_df.head()"
   ]
  },
  {
   "cell_type": "code",
   "execution_count": 3,
   "metadata": {},
   "outputs": [
    {
     "data": {
      "text/html": [
       "<div>\n",
       "<style scoped>\n",
       "    .dataframe tbody tr th:only-of-type {\n",
       "        vertical-align: middle;\n",
       "    }\n",
       "\n",
       "    .dataframe tbody tr th {\n",
       "        vertical-align: top;\n",
       "    }\n",
       "\n",
       "    .dataframe thead th {\n",
       "        text-align: right;\n",
       "    }\n",
       "</style>\n",
       "<table border=\"1\" class=\"dataframe\">\n",
       "  <thead>\n",
       "    <tr style=\"text-align: right;\">\n",
       "      <th></th>\n",
       "      <th>id</th>\n",
       "      <th>url</th>\n",
       "      <th>title</th>\n",
       "    </tr>\n",
       "  </thead>\n",
       "  <tbody>\n",
       "    <tr>\n",
       "      <th>0</th>\n",
       "      <td>135309</td>\n",
       "      <td>www.kommersant.ru</td>\n",
       "      <td>Шестой кассационный суд в Самаре начнет работу...</td>\n",
       "    </tr>\n",
       "    <tr>\n",
       "      <th>1</th>\n",
       "      <td>135310</td>\n",
       "      <td>urexpert.online</td>\n",
       "      <td>Что такое индексация алиментов, кем и в каких ...</td>\n",
       "    </tr>\n",
       "    <tr>\n",
       "      <th>2</th>\n",
       "      <td>135311</td>\n",
       "      <td>imperimeha.ru</td>\n",
       "      <td>Женщинам | Империя Меха - Part 12</td>\n",
       "    </tr>\n",
       "    <tr>\n",
       "      <th>3</th>\n",
       "      <td>135312</td>\n",
       "      <td>national-porn.com</td>\n",
       "      <td>Небритые, волосатые киски: Порно всех стран и ...</td>\n",
       "    </tr>\n",
       "    <tr>\n",
       "      <th>4</th>\n",
       "      <td>135313</td>\n",
       "      <td>2gis.ru</td>\n",
       "      <td>67</td>\n",
       "    </tr>\n",
       "  </tbody>\n",
       "</table>\n",
       "</div>"
      ],
      "text/plain": [
       "       id                url  \\\n",
       "0  135309  www.kommersant.ru   \n",
       "1  135310    urexpert.online   \n",
       "2  135311      imperimeha.ru   \n",
       "3  135312  national-porn.com   \n",
       "4  135313            2gis.ru   \n",
       "\n",
       "                                               title  \n",
       "0  Шестой кассационный суд в Самаре начнет работу...  \n",
       "1  Что такое индексация алиментов, кем и в каких ...  \n",
       "2                  Женщинам | Империя Меха - Part 12  \n",
       "3  Небритые, волосатые киски: Порно всех стран и ...  \n",
       "4                                                 67  "
      ]
     },
     "execution_count": 3,
     "metadata": {},
     "output_type": "execute_result"
    }
   ],
   "source": [
    "test_df = pd.read_csv(\"test.csv\")\n",
    "test_df.head()"
   ]
  },
  {
   "cell_type": "markdown",
   "metadata": {},
   "source": [
    "## Будем решать данную задачу с помощью стэкинга"
   ]
  },
  {
   "cell_type": "markdown",
   "metadata": {},
   "source": [
    "## Проведем лемматизацию заголовков страниц"
   ]
  },
  {
   "cell_type": "code",
   "execution_count": 4,
   "metadata": {},
   "outputs": [],
   "source": [
    "stop_words = nltk.corpus.stopwords.words('russian') # сохраим стоп-слова для последующей токенизации"
   ]
  },
  {
   "cell_type": "code",
   "execution_count": 5,
   "metadata": {},
   "outputs": [],
   "source": [
    "m = Mystem()\n",
    "def lemmatize(text, mystem=m):\n",
    "    try:\n",
    "        return \"\".join(m.lemmatize(text)).strip()  \n",
    "    except:\n",
    "        return \" \""
   ]
  },
  {
   "cell_type": "code",
   "execution_count": 6,
   "metadata": {},
   "outputs": [],
   "source": [
    "test_df.title = test_df.title.apply(lemmatize)"
   ]
  },
  {
   "cell_type": "code",
   "execution_count": 7,
   "metadata": {},
   "outputs": [],
   "source": [
    "train_df.title = train_df.title.apply(lemmatize)"
   ]
  },
  {
   "cell_type": "markdown",
   "metadata": {},
   "source": [
    "## Получим признаки с помощью TfidfVectorizer\n",
    "__Будем обучать модель на n-граммах url, n-граммах заголовков, а также на словах и коллокациях заголовков.__"
   ]
  },
  {
   "cell_type": "code",
   "execution_count": 8,
   "metadata": {},
   "outputs": [],
   "source": [
    "TFIDF_url = TfidfVectorizer(lowercase=True, ngram_range=(2, 4), analyzer = 'char',\n",
    "                            max_df=0.9, min_df=5)\n",
    "\n",
    "TFIDF_title_1 = TfidfVectorizer(lowercase=True,ngram_range=(1, 3),\n",
    "                            stop_words=stop_words, min_df=5, max_df=0.9) # получаем n-граммы на словах\n",
    "\n",
    "TFIDF_title_2 = TfidfVectorizer(lowercase=True,ngram_range=(2, 5), analyzer = 'char',\n",
    "                             min_df=10, max_df=0.8) # получаем n-грамы на символах\n",
    "\n",
    "# фичи для трейновой части\n",
    "X_train_url = TFIDF_url.fit_transform(train_df.url.values)\n",
    "X_train_title_1 = TFIDF_title_1.fit_transform(train_df.title.values)\n",
    "X_train_title_2 = TFIDF_title_2.fit_transform(train_df.title.values)\n",
    "\n",
    "X_train = sparse.hstack([X_train_url, sparse.hstack([X_train_title_1,X_train_title_2])])\n",
    "X_train.shape\n",
    "y_train = train_df[\"target\"].astype(int).values"
   ]
  },
  {
   "cell_type": "code",
   "execution_count": 9,
   "metadata": {},
   "outputs": [
    {
     "data": {
      "text/plain": [
       "(165378, 295245)"
      ]
     },
     "execution_count": 9,
     "metadata": {},
     "output_type": "execute_result"
    }
   ],
   "source": [
    "# фичи для тестовой части\n",
    "X_test_url = TFIDF_url.transform(test_df.url.values)\n",
    "X_test_title_1 = TFIDF_title_1.transform(test_df.title.values)\n",
    "X_test_title_2 = TFIDF_title_2.transform(test_df.title.values)\n",
    "\n",
    "X_test = sparse.hstack([X_test_url, sparse.hstack([X_test_title_1,X_test_title_2])])\n",
    "X_test.shape # посмотрим на итоговый размер матрицы объекты-признаки"
   ]
  },
  {
   "attachments": {
    "image.png": {
     "image/png": "[encoded data removed]"
    }
   },
   "cell_type": "markdown",
   "metadata": {},
   "source": [
    "### Для того, чтобы использовать стэкинг и не терять информацию, разделим данные на 3 фолда.  \n",
    " Будем получать метапризнаки для одного фолда обучая алгоритм на двух оставшихся. Таким образом, пройдя по всем трём фолдам будут получены метапризнаки для всех обектов.\n",
    "\n",
    "\n",
    "![image.png](attachment:image.png)"
   ]
  },
  {
   "cell_type": "code",
   "execution_count": 10,
   "metadata": {},
   "outputs": [],
   "source": [
    "N = train_df.shape[0]\n",
    "\n",
    "# получим признаковое описание и таргеты для каждого фолда\n",
    "X_train_url_Fold_1 = TFIDF_url.transform(train_df[: int(N/3)].url.values)\n",
    "X_train_title_1_Fold_1 = TFIDF_title_1.transform(train_df[: int(N/3)].title.values)\n",
    "X_train_title_2_Fold_1 = TFIDF_title_2.transform(train_df[: int(N/3)].title.values)\n",
    "\n",
    "X_train_Fold_1 = sparse.hstack([X_train_url_Fold_1, sparse.hstack([X_train_title_1_Fold_1, X_train_title_2_Fold_1])])\n",
    "y_train_Fold_1 = train_df[: int(N/3)].target\n",
    "\n",
    "X_train_url_Fold_2 = TFIDF_url.transform(train_df[int(N/3) : int(2*N/3)].url.values)\n",
    "X_train_title_1_Fold_2 = TFIDF_title_1.transform(train_df[int(N/3) : int(2*N/3)].title.values)\n",
    "X_train_title_2_Fold_2 = TFIDF_title_2.transform(train_df[int(N/3) : int(2*N/3)].title.values)\n",
    "\n",
    "X_train_Fold_2 = sparse.hstack([X_train_url_Fold_2, sparse.hstack([X_train_title_1_Fold_2, X_train_title_2_Fold_2])])\n",
    "y_train_Fold_2 = train_df[int(N/3) : int(2*N/3)].target\n",
    "\n",
    "\n",
    "X_train_url_Fold_3 = TFIDF_url.transform(train_df[int(2*N/3) :].url.values)\n",
    "X_train_title_1_Fold_3 = TFIDF_title_1.transform(train_df[int(2*N/3) :].title.values)\n",
    "X_train_title_2_Fold_3 = TFIDF_title_2.transform(train_df[int(2*N/3) :].title.values)\n",
    "\n",
    "X_train_Fold_3 = sparse.hstack([X_train_url_Fold_3, sparse.hstack([X_train_title_1_Fold_3, X_train_title_2_Fold_3])])\n",
    "y_train_Fold_3 = train_df[int(2*N/3) :].target\n",
    "\n"
   ]
  },
  {
   "cell_type": "markdown",
   "metadata": {},
   "source": [
    "## Напишем функцию для получения мета-признаков\n",
    "Можно было бы делить X_train на фолды прямо в данной функции, однако это затруднительно из-за разряженного представления матрицы."
   ]
  },
  {
   "cell_type": "code",
   "execution_count": 11,
   "metadata": {},
   "outputs": [],
   "source": [
    "def predict_meta_feature(\n",
    "    classifier, X_train_Fold_1, X_train_Fold_2, X_train_Fold_3\n",
    "    , y_train_Fold_1, y_train_Fold_2, y_train_Fold_3\n",
    "    , X_train, y_train, X_test):\n",
    "    \n",
    "    # получаем метапризнаки для каждого фолда, обучая при этом алгоритм на оставшихся двух\n",
    "    \n",
    "    classifier.fit(sparse.vstack([X_train_Fold_1, X_train_Fold_2]), np.hstack([y_train_Fold_1, y_train_Fold_2]))\n",
    "    predict_3 = classifier.predict_proba(X_train_Fold_3)\n",
    "\n",
    "    classifier.fit(sparse.vstack([X_train_Fold_2, X_train_Fold_3]), np.hstack([y_train_Fold_2, y_train_Fold_3]))\n",
    "    predict_1 = classifier.predict_proba(X_train_Fold_1)\n",
    "\n",
    "    classifier.fit(sparse.vstack([X_train_Fold_1, X_train_Fold_3]), np.hstack([y_train_Fold_1, y_train_Fold_3]))\n",
    "    predict_2 = classifier.predict_proba(X_train_Fold_2)\n",
    "    \n",
    "    # выводим новые метапризнаки для трейновой части\n",
    "    New_meta_feature_train = np.vstack([predict_1, np.vstack([predict_2, predict_3])])\n",
    "    \n",
    "    # обучаем алгоритм на всей трейновой выборки и получаем признаки для тестовой   \n",
    "    classifier.fit(X_train, y_train)\n",
    "    New_meta_feature_test = classifier.predict_proba(X_test)\n",
    "    \n",
    "    return New_meta_feature_train, New_meta_feature_test"
   ]
  },
  {
   "cell_type": "markdown",
   "metadata": {},
   "source": [
    "## Получим мета-признаки используя логистическую регрессию"
   ]
  },
  {
   "cell_type": "code",
   "execution_count": 12,
   "metadata": {},
   "outputs": [
    {
     "name": "stdout",
     "output_type": "stream",
     "text": [
      "CPU times: user 1min 22s, sys: 586 ms, total: 1min 22s\n",
      "Wall time: 1min 16s\n"
     ]
    }
   ],
   "source": [
    "%%time\n",
    "\n",
    "clf = LogisticRegression(max_iter = 10000,solver='lbfgs', class_weight='balanced')\n",
    "\n",
    "meta_feature_LOG_REG_train, meta_feature_LOG_REG_test = predict_meta_feature(\n",
    "    clf, X_train_Fold_1, X_train_Fold_2, X_train_Fold_3\n",
    "       , y_train_Fold_1, y_train_Fold_2, y_train_Fold_3\n",
    "       , X_train, y_train, X_test)\n"
   ]
  },
  {
   "cell_type": "markdown",
   "metadata": {},
   "source": [
    "## Получим мета-признаки используя наивного Байеса"
   ]
  },
  {
   "cell_type": "code",
   "execution_count": 13,
   "metadata": {},
   "outputs": [
    {
     "name": "stdout",
     "output_type": "stream",
     "text": [
      "CPU times: user 12.9 s, sys: 344 ms, total: 13.2 s\n",
      "Wall time: 13.2 s\n"
     ]
    }
   ],
   "source": [
    "%%time\n",
    "\n",
    "clf = MultinomialNB()\n",
    "\n",
    "meta_feature_MNB_train, meta_feature_MNB_test = predict_meta_feature(\n",
    "    clf, X_train_Fold_1, X_train_Fold_2, X_train_Fold_3\n",
    "       , y_train_Fold_1, y_train_Fold_2, y_train_Fold_3\n",
    "       , X_train, y_train, X_test\n",
    ")"
   ]
  },
  {
   "cell_type": "markdown",
   "metadata": {},
   "source": [
    "## И с помощью случайного леса"
   ]
  },
  {
   "cell_type": "code",
   "execution_count": 14,
   "metadata": {},
   "outputs": [
    {
     "name": "stdout",
     "output_type": "stream",
     "text": [
      "CPU times: user 4min 57s, sys: 522 ms, total: 4min 57s\n",
      "Wall time: 4min 57s\n"
     ]
    }
   ],
   "source": [
    "%%time\n",
    "\n",
    "clf = RandomForestClassifier(n_estimators = 50)\n",
    "\n",
    "meta_feature_RF_train, meta_feature_RF_test = predict_meta_feature(\n",
    "    clf, X_train_Fold_1, X_train_Fold_2, X_train_Fold_3\n",
    "       , y_train_Fold_1, y_train_Fold_2, y_train_Fold_3\n",
    "       , X_train, y_train, X_test\n",
    ")"
   ]
  },
  {
   "cell_type": "code",
   "execution_count": 15,
   "metadata": {},
   "outputs": [],
   "source": [
    "# объединим полученные метапризнаки в новое признаковое описание объектов\n",
    "meta_features_train = np.hstack([meta_feature_LOG_REG_train, meta_feature_MNB_train])\n",
    "meta_features_test = np.hstack([meta_feature_LOG_REG_test, meta_feature_MNB_test])\n",
    "\n",
    "meta_features_train = np.hstack([meta_features_train, meta_feature_RF_train])\n",
    "meta_features_test = np.hstack([meta_features_test, meta_feature_RF_test])"
   ]
  },
  {
   "cell_type": "markdown",
   "metadata": {},
   "source": [
    "## Получим мета-признаки используя голосование "
   ]
  },
  {
   "cell_type": "code",
   "execution_count": 16,
   "metadata": {},
   "outputs": [
    {
     "name": "stdout",
     "output_type": "stream",
     "text": [
      "CPU times: user 6min 33s, sys: 1.17 s, total: 6min 34s\n",
      "Wall time: 6min 28s\n"
     ]
    }
   ],
   "source": [
    "%%time\n",
    "\n",
    "classifier1 = LogisticRegression(max_iter = 10000,solver='lbfgs', class_weight='balanced')\n",
    "classifier2 = MultinomialNB()\n",
    "classifier3 = RandomForestClassifier(n_estimators = 50)\n",
    "\n",
    "clf = VotingClassifier(\n",
    "    estimators=[('lr', classifier1)\n",
    "              , ('NB', classifier2)\n",
    "              , ('rf', classifier3)], voting='soft'\n",
    ")\n",
    "\n",
    "meta_feature_voiting_train, meta_feature_voiting_test = predict_meta_feature(\n",
    "    clf, X_train_Fold_1, X_train_Fold_2, X_train_Fold_3\n",
    "       , y_train_Fold_1, y_train_Fold_2, y_train_Fold_3\n",
    "       , X_train, y_train, X_test\n",
    ")"
   ]
  },
  {
   "cell_type": "code",
   "execution_count": 17,
   "metadata": {},
   "outputs": [],
   "source": [
    "meta_features_train = np.hstack([meta_features_train, meta_feature_voiting_train])\n",
    "meta_features_test = np.hstack([meta_features_test, meta_feature_voiting_test])\n"
   ]
  },
  {
   "cell_type": "markdown",
   "metadata": {},
   "source": [
    "## На полученных ранее мета-признаках обучим XGBoost для получения новых мета-признаков\n",
    "### Найдем наилучшие параматры для бустинга с помощью перебора по сетке"
   ]
  },
  {
   "cell_type": "code",
   "execution_count": 18,
   "metadata": {},
   "outputs": [
    {
     "name": "stdout",
     "output_type": "stream",
     "text": [
      "CPU times: user 2h 20min 46s, sys: 1min 14s, total: 2h 22min\n",
      "Wall time: 35min 55s\n"
     ]
    },
    {
     "data": {
      "text/plain": [
       "GridSearchCV(cv=3,\n",
       "             estimator=XGBClassifier(base_score=None, booster=None,\n",
       "                                     colsample_bylevel=None,\n",
       "                                     colsample_bynode=None,\n",
       "                                     colsample_bytree=None, gamma=None,\n",
       "                                     gpu_id=None, importance_type='gain',\n",
       "                                     interaction_constraints=None,\n",
       "                                     learning_rate=None, max_delta_step=None,\n",
       "                                     max_depth=None, min_child_weight=None,\n",
       "                                     missing=nan, monotone_constraints=None,\n",
       "                                     n_estimators=100, n_jobs=None,\n",
       "                                     num_parallel_tree=None, random_state=None,\n",
       "                                     reg_alpha=None, reg_lambda=None,\n",
       "                                     scale_pos_weight=None, subsample=None,\n",
       "                                     tree_method=None, validate_parameters=None,\n",
       "                                     verbosity=None),\n",
       "             param_grid={'learning_rate': [0.0005, 0.001, 0.005, 0.01, 0.02],\n",
       "                         'n_estimators': [5000, 1000]},\n",
       "             scoring='f1')"
      ]
     },
     "execution_count": 18,
     "metadata": {},
     "output_type": "execute_result"
    }
   ],
   "source": [
    "%%time\n",
    "\n",
    "parameters = {'learning_rate': [0.0005,0.001,0.005,0.01,0.02], 'n_estimators' : [5000, 1000]}\n",
    "XGB = XGBClassifier()\n",
    "clf = GridSearchCV(XGB, parameters, cv = 3, scoring = 'f1')\n",
    "clf.fit(meta_features_train, y_train)"
   ]
  },
  {
   "cell_type": "code",
   "execution_count": 19,
   "metadata": {},
   "outputs": [
    {
     "data": {
      "text/plain": [
       "{'learning_rate': 0.0005, 'n_estimators': 5000}"
      ]
     },
     "execution_count": 19,
     "metadata": {},
     "output_type": "execute_result"
    }
   ],
   "source": [
    "clf.best_params_"
   ]
  },
  {
   "cell_type": "markdown",
   "metadata": {},
   "source": [
    "## Получим мета-признаки используя оптимальные параметры бустинга"
   ]
  },
  {
   "cell_type": "code",
   "execution_count": 18,
   "metadata": {},
   "outputs": [
    {
     "name": "stdout",
     "output_type": "stream",
     "text": [
      "CPU times: user 32min 14s, sys: 13 s, total: 32min 27s\n",
      "Wall time: 9min 28s\n"
     ]
    }
   ],
   "source": [
    "%%time\n",
    "# разобьем мета-фичи на три фолда также как делали с обычнми признаками\n",
    "meta_feature_1_Fold = meta_features_train[:int(N/3)]\n",
    "meta_feature_2_Fold = meta_features_train[int(N/3) : int(2*N/3)]\n",
    "meta_feature_3_Fold = meta_features_train[int(2*N/3):]\n",
    "\n",
    "classifier = XGBClassifier(n_estimators = 5000, learning_rate = 0.0005)\n",
    "\n",
    "classifier.fit(np.vstack([meta_feature_1_Fold , meta_feature_2_Fold]),\n",
    "               np.hstack([y_train_Fold_1, y_train_Fold_2]))\n",
    "\n",
    "predict_3 = classifier.predict_proba(meta_feature_3_Fold)\n",
    "\n",
    "\n",
    "classifier.fit(np.vstack([meta_feature_2_Fold, meta_feature_3_Fold]), \n",
    "               np.hstack([y_train_Fold_2, y_train_Fold_3]))\n",
    "\n",
    "predict_1 = classifier.predict_proba(meta_feature_1_Fold)\n",
    "\n",
    "classifier.fit(np.vstack([meta_feature_1_Fold , meta_feature_3_Fold]), np.hstack([y_train_Fold_1, y_train_Fold_3]))\n",
    "predict_2 = classifier.predict_proba(meta_feature_2_Fold)\n",
    "\n",
    "meta_feature_XGB_second_train = np.vstack([predict_1, np.vstack([predict_2, predict_3])])\n",
    "\n",
    "classifier.fit(meta_features_train, y_train)\n",
    "meta_feature_XGB_second_test = classifier.predict_proba(meta_features_test)"
   ]
  },
  {
   "cell_type": "code",
   "execution_count": 19,
   "metadata": {},
   "outputs": [],
   "source": [
    "meta_features_train = np.hstack([meta_features_train, meta_feature_XGB_second_train])\n",
    "meta_features_test = np.hstack([meta_features_test, meta_feature_XGB_second_test])\n",
    "\n",
    "# для соединения мета-признаков с обычными перезапишем их в виде разряженной матрицы\n",
    "meta_features_train_sparse = sparse.csr_matrix(meta_features_train)\n",
    "meta_features_test_sparse = sparse.csr_matrix(meta_features_test)"
   ]
  },
  {
   "cell_type": "markdown",
   "metadata": {},
   "source": [
    "## Проверим с помощью кросс-валидации мета-алогритм, обученный на обычных признаках + мета-признаках\n",
    " В качестве мета-алгоритма возьмём __случайный лес__. Так как на таком количестве признаков перебирать параметры по сетке затруднительно, воспользуемся тем, что лес не переобучается с ростом деревьев и возьмём 500 деревьев.\n",
    " \n",
    " \n",
    "Так как TfidfVectorizer был обучен на всей обучающей выборке, результаты кросс валидации могут быть завышены"
   ]
  },
  {
   "cell_type": "code",
   "execution_count": 20,
   "metadata": {},
   "outputs": [
    {
     "name": "stdout",
     "output_type": "stream",
     "text": [
      "CPU times: user 39min 32s, sys: 2 s, total: 39min 34s\n",
      "Wall time: 40min 49s\n"
     ]
    },
    {
     "data": {
      "text/plain": [
       "0.9873913715353348"
      ]
     },
     "execution_count": 20,
     "metadata": {},
     "output_type": "execute_result"
    }
   ],
   "source": [
    "%%time\n",
    "\n",
    "base_cv_scores = cross_val_score(RandomForestClassifier(n_estimators = 500), \n",
    "                                 sparse.hstack([X_train, meta_features_train_sparse]),\n",
    "                                 y_train, cv=5, scoring='f1')\n",
    "base_cv_scores.mean() "
   ]
  },
  {
   "cell_type": "markdown",
   "metadata": {},
   "source": [
    "### Таким образом были получены 10 мета-признаков"
   ]
  },
  {
   "cell_type": "code",
   "execution_count": 21,
   "metadata": {},
   "outputs": [
    {
     "data": {
      "text/plain": [
       "(135309, 10)"
      ]
     },
     "execution_count": 21,
     "metadata": {},
     "output_type": "execute_result"
    }
   ],
   "source": [
    "meta_features_train_sparse.shape"
   ]
  },
  {
   "cell_type": "markdown",
   "metadata": {},
   "source": [
    "## Обучим мета-алгоритм на всей обучающей выборке и получим метки для тестовой выборки"
   ]
  },
  {
   "cell_type": "code",
   "execution_count": 22,
   "metadata": {},
   "outputs": [
    {
     "name": "stdout",
     "output_type": "stream",
     "text": [
      "CPU times: user 12min 8s, sys: 322 ms, total: 12min 9s\n",
      "Wall time: 12min 10s\n"
     ]
    }
   ],
   "source": [
    "%%time\n",
    "\n",
    "classifier = RandomForestClassifier(n_estimators = 500)\n",
    "\n",
    "classifier.fit(sparse.hstack([X_train, meta_features_train_sparse]), y_train)\n",
    "\n",
    "test_df[\"target\"] = classifier.predict(sparse.hstack([X_test, meta_features_test_sparse])).astype(bool)\n",
    "test_df[[\"id\", \"target\"]].to_csv(\"stacking_500_estimators.csv\", index=False)"
   ]
  },
  {
   "cell_type": "markdown",
   "metadata": {},
   "source": [
    "# Вывод\n",
    "В ходе работы были спользованыследующие методы построения ансамблей:\n",
    "1. __Стэкинг__. Обучающая выборка была разделена на три фолда. На каждой паре фолдов были обучены модели, которые делали предсазание для оставшегося фолда. Все три предсказания соединялись и получался мета-признак (точнее два). Для получения мета-признаков для тестовой выборки модели обучались на всей обучающей выборки и делалось предсказание для тестовой. Таким образом было получено 10 мета-признаков(LogReg, NB, RandomForest, Voitiong, XGBoost) и на исходных признаках + мета-признаках был обучен мета-алгоритм.\n",
    "2. __Случайный Лес__. Данный алгоритм был использован как мета-алгоритм, а также для получения мета-признаков\n",
    "3. __Голосование__. С помощью голосования также были получены мета-признаки. Голосование проводилось на основание Логистической регрессии, Наивного Байеса, Случайного леса.\n",
    "4. __Градиентный бустинг__. Полученные на предидущих шагах мета-признаки были использованы для получения новых мета-признаков с помощью градиентного бустинга. Оптимальные параметры бустинга были подобраны с помощью __перебора по сетке__ .\n",
    "\n",
    "\n",
    "Если строить модель на n-граммах url и title, а также на коллокациях получается около 300 000 признаков. Из-за этого написанная модель очень медленно обучается. Если в качестве признаков рассматривать только n-граммы url и токены title признаковое пространство можно сократить до 50 000. При этом f1-score описанной модели, обученной на таком кол-ве признаков, будет отличаться только в 3 знаке после запятой от модели обученной на 3000 000 признаках. \n",
    "\n",
    "Также хороший результат показывает обычная логистическая регрессия, обученныя на 300 000 признаках. При данном подходе f1-score будет отличаться только в 3 знаке после запятой, а время обучения модели существенно сократится. Такой подход показался мне наиболее оптимальным.  \n",
    "\n"
   ]
  }
 ],
 "metadata": {
  "kernelspec": {
   "display_name": "Python 3",
   "language": "python",
   "name": "python3"
  },
  "language_info": {
   "codemirror_mode": {
    "name": "ipython",
    "version": 3
   },
   "file_extension": ".py",
   "mimetype": "text/x-python",
   "name": "python",
   "nbconvert_exporter": "python",
   "pygments_lexer": "ipython3",
   "version": "3.8.3"
  }
 },
 "nbformat": 4,
 "nbformat_minor": 4
}
